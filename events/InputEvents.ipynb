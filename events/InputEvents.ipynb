{
 "cells": [
  {
   "cell_type": "code",
   "execution_count": null,
   "metadata": {},
   "outputs": [],
   "source": [
    "import ares.Lib.Ares as Ares\n",
    "\n",
    "aresObj = Ares.ReportAPI()\n",
    "df = aresObj.df({\n",
    "    'dates': ['2019-01-01', '2019-01-01', '2019-01-10', '2019-01-11'],\n",
    "    'category': [\"ABCDEF\", \"ABCDEF\", \"DFCGHI\", \"GHIKLM\"],\n",
    "    'series': [3, 3, 4, 6],\n",
    "    'series2': [5, 5, 1, 9],\n",
    "    'series3': [3, 7, 3, 3]})\n",
    "\n",
    "# Dashboard\n",
    "d4 = aresObj.slider(4, recordSet=df, dfColumn='series', max=True, globalFilter=True, htmlCode='Myslider')\n",
    "c = aresObj.chart('bar', df, seriesNames=['series', 'series2', 'series3'], xAxis='dates', htmlCode='testChart')\n",
    "\n",
    "#Event\n",
    "d4.change([c.jsGenerate(None)])\n",
    "aresObj.display()\n"
   ]
  }
 ],
 "metadata": {
  "kernelspec": {
   "display_name": "Python 3",
   "language": "python",
   "name": "python3"
  },
  "language_info": {
   "codemirror_mode": {
    "name": "ipython",
    "version": 3
   },
   "file_extension": ".py",
   "mimetype": "text/x-python",
   "name": "python",
   "nbconvert_exporter": "python",
   "pygments_lexer": "ipython3",
   "version": "3.6.7"
  }
 },
 "nbformat": 4,
 "nbformat_minor": 2
}
