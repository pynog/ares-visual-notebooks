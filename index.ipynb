{
 "cells": [
  {
   "cell_type": "markdown",
   "metadata": {},
   "source": [
    "<img src=\"Ares.png\">"
   ]
  },
  {
   "cell_type": "markdown",
   "metadata": {},
   "source": [
    "Ares\n",
    "=======\n",
    "\n",
    "## web reporting solution in python\n",
    "\n",
    "Ares Library allow you:\n",
    " * create quickly simple web pages containing different charts in few command line\n",
    " * connect simply to any data source via the connector interface\n",
    "\n",
    "### Installation\n",
    "\n",
    "It is recommended to use **virtualenv** when you are using this packages in order to isolate your packages.\n",
    "AReS will install mandatory packages, on the fly, when they are requested.\n",
    "\n",
    "### AReS for web reports and dashboard creation\n",
    "\n",
    "AReS is a suite of python Libraries allowing you to interact with any heterogeneous ecosystem in an **homogeneous** and **transparent** manner.\n",
    " No need to learn extra languages with Python and AReS you will be able to:\n",
    "\n",
    " * Get data access from different sources (databases, text files, REST API...)\n",
    " * Transform your data using any mathematical libraries (Pandas, Numpy...)\n",
    " * Produce local and interactive web dashboards to visualise your data\n",
    " * Share your work on a server\n",
    "\n",
    "The will of AReS is to stop fighting to slice and dice your data to prototype and then to get the good weapons to bring your work directly to production.\n",
    "\n",
    "#### Javascript and CSS Framework\n",
    "\n",
    "In AReS there is no need for extra Javascript and CSS modules everything is integrated.\n",
    "The AReS Python layer will allow you from Python to process your data but also transform your result to different **static** and **dynamic** formats.\n",
    "Thus if you want to share and centralise an interactive report it will generate rich HTML pages but it is also possible to share data in different format (ppt, word, csv, excel...)\n",
    "\n",
    " * [Jquery Documentation](https://jquery.com/)\n",
    " * [Icons Documentation](https://fontawesome.com/icons?d=gallery)\n",
    " * [ChartJs Documentation](https://www.chartjs.org/)\n",
    " * [Plotly.js Documentation](https://plot.ly/javascript/)\n",
    " * [C3.js Documentation](https://c3js.org/)\n",
    " * [NVD3 Documentation](http://nvd3.org/)\n",
    " * [D3 Documentation](https://d3js.org/)\n",
    "\n",
    "#### External Python Frameworks\n",
    "\n",
    "Also it is quite important to have a look at those websites to understand the underlying data object used in the Framework - jsDataFrame based on Pandas DataFrame.\n",
    "The documentation used to build the different components will be display in its documentation. This is just to ensure you can directly look for new features of bugs on internet.\n",
    "\n",
    " * [SqlAlchemy Documentation](https://www.sqlalchemy.org/)\n",
    " * [Pandas Tutorial](https://www.learnpython.org/en/Pandas_Basics)\n",
    " * [Pandas to replace Excel](http://pbpython.com/excel-pandas-comp.html)\n",
    " * [Pandas in 10 minutes](https://pandas.pydata.org/pandas-docs/stable/10min.html)\n",
    "\n",
    "For any questions please use [stackoverflow](https://stackoverflow.com/) with the tag: ares-visual\n",
    "\n",
    "For any code change proposal, comment go on [GitHub](https://github.com/pynog/ares-visual)\n",
    "\n",
    "Jupyter Notebook examples are available on [GitHub](https://github.com/pynog/ares-visual-notebooks) and can be used directly on [NbViewer](https://nbviewer.jupyter.org/github/pynog/ares-visual-notebooks/blob/master/ChartJs.ipynb)\n"
   ]
  },
  {
   "cell_type": "code",
   "execution_count": null,
   "metadata": {},
   "outputs": [],
   "source": []
  }
 ],
 "metadata": {
  "kernelspec": {
   "display_name": "Python 3",
   "language": "python",
   "name": "python3"
  },
  "language_info": {
   "codemirror_mode": {
    "name": "ipython",
    "version": 3
   },
   "file_extension": ".py",
   "mimetype": "text/x-python",
   "name": "python",
   "nbconvert_exporter": "python",
   "pygments_lexer": "ipython3",
   "version": "3.6.7"
  }
 },
 "nbformat": 4,
 "nbformat_minor": 2
}
