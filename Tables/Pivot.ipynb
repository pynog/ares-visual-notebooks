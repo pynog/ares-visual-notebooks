{
 "cells": [
  {
   "cell_type": "markdown",
   "metadata": {},
   "source": [
    "<img align=\"left\" src=\"../Ares_PetitIcon.PNG\">\n"
   ]
  },
  {
   "cell_type": "code",
   "execution_count": 1,
   "metadata": {},
   "outputs": [
    {
     "data": {
      "text/html": [
       "<link rel=\"stylesheet\" href=\"https://cdnjs.cloudflare.com/ajax/libs/pivottable/2.21.0/pivot.min.css\" type=\"text/css\">\n",
       "<style>\n",
       ".py_csstitle4 {padding:0; font-size:14px; margin-top:5px; font-weight:bold; text-transform:uppercase; white-space:pre-wrap}\n",
       "</style>\n",
       "<div><div style=\"width:100%;overflow:auto;\">\n",
       "      <div class=\"py_csstitle4\"></div>\n",
       "      <div id=\"pivottable_2184695919112\"  style=\"width:100%;margin:0 auto;display:table;position:relative\" class=\"py_csstitle4\"></div>\n",
       "    </div></div>\n",
       "<script>\n",
       "require.config({ paths: {'jquery': 'https://cdnjs.cloudflare.com/ajax/libs/jquery/3.3.1/jquery.min',\n",
       "  'jQueryUi': 'https://cdnjs.cloudflare.com/ajax/libs/jqueryui/1.12.1/jquery-ui.min',\n",
       "  'pivot': 'https://cdnjs.cloudflare.com/ajax/libs/pivottable/2.21.0/pivot.min'} });\n",
       " var recordset_2184721878976 = [{\"category\": \"ABCDEF\", \"dates\": \"2019-01-01\", \"series\": 3, \"series2\": 5, \"series3\": 3}, {\"category\": \"ABCDEF\", \"dates\": \"2019-01-01\", \"series\": 3, \"series2\": 5, \"series3\": 7}, {\"category\": \"DFCGHI\", \"dates\": \"2019-01-10\", \"series\": 4, \"series2\": 1, \"series3\": 3}, {\"category\": \"GHIKLM\", \"dates\": \"2019-01-11\", \"series\": 6, \"series2\": 9, \"series3\": 3}];var pivottable_2184695919112_data = [];var args_2184721864968 = {} ;var pivottable_2184695919112_markDownFnc = false;function buildBreadCrum() { var params = [] ; for(var key in breadCrumUrl['params']) { params.push(key + \"=\" + breadCrumUrl['params'][key]) ;  }var breadCrumResult = breadCrumUrl['url'] ;if (params.length > 0) { breadCrumResult = breadCrumResult + \"?\" + params.join(\"&\")  ;}return breadCrumResult; ;};function aresObj(htmlCode) { if (htmlCode in breadCrumUrl.params) {return breadCrumUrl.params[htmlCode];} else { return null } ;};function FormatFilterDt(filterVal) { var dt = filterVal.split('-') ; return dt[2] + '/' + dt[1] + '/'+ dt[0] ; ;};function GetClipBoardData(event) { if (window.clipboardData == undefined) { alert('this only works with IE') ; } else { return window.clipboardData.getData('text')}; ;};function LoadingPopup(reportName) { $('#popup_loading').find(\"div\").html(\"Loading \" + reportName + \"...\"); $('#popup_loading_back').show(); $('#popup_loading').show(); ;};function GoToReport(url, newWindows, widthLoading) { if(newWindows) { window.open(url, '_blank') ; }else {if ( widthLoading ){$('#popup_loading').find(\"div\").html(\"Loading \" + url + \"...\");$('#popup_loading_back').show(); $('#popup_loading').show(); }window.location.href = url;} ;};function Today() { now = new Date();year = \"\" + now.getFullYear();month = \"\" + (now.getMonth() + 1); if (month.length == 1) { month = \"0\" + month; }day = \"\" + now.getDate(); if (day.length == 1) { day = \"0\" + day; }hour = \"\" + now.getHours(); if (hour.length == 1) { hour = \"0\" + hour; }minute = \"\" + now.getMinutes(); if (minute.length == 1) { minute = \"0\" + minute; }second = \"\" + now.getSeconds(); if (second.length == 1) { second = \"0\" + second; }return year + \"-\" + month + \"-\" + day + \" \" + hour + \":\" + minute + \":\" + second; ;};function CleanText(text) { return text.trim().replace(/\\W+/g, ''); ;};function CssStyleBuilder(params) { cssParams = [] ;for( var i in params) { cssParams.push( i +\":\"+ params[i]) ; }return cssParams.join(\";\"); ;};function CopyToClipboard() { var url = window.location.href.split('?')[0];if (url.slice(-1) == '#') { url = url.slice(0, -1); };var splitParams = buildBreadCrum().split('?') ; var params = \"\";if (splitParams.length > 1 ) { params = splitParams.slice(1, splitParams.length); }if (window.clipboardData) { window.clipboardData.setData('Text', url + '?' + params); }else {var selection = window.getSelection();$(\"body\").append(\"<div id='breadcrumb_url'>\"+ url + '?' + params +\"</div>\");var range = document.createRange();range.selectNodeContents($('#breadcrumb_url').get(0));selection.removeAllRanges(); selection.addRange(range);document.execCommand(\"Copy\") ; $('#breadcrumb_url').remove() ;var div = $('<div>Report Parameters copied to ClickBoard !</div>').css({'display': 'block', 'position': 'fixed', 'top': '40px', 'right': '200px','text-align': 'center', 'padding': '5px', 'color': 'white', 'border-radius': '.4em', 'z-index': 10010, 'background-color': '#293846', \"width\": '200px'});$('body').append(div); setTimeout(function() {div.remove()}, 2000) } ;};function FormGoTo(url, method) { var form = $('<form method=\"'+ method +'\" action='+ url +'></form>') ; NO_UNLOAD = true;for(var key in breadCrumUrl['params']) {form.append( '<input type=\"hidden\" name=\"'+ key +'\" value=\"' + breadCrumUrl['params'][key] + '\">' ) } ;form.appendTo('body').submit(); ;};function toAresMarkup(text) { text = text.replace(/\\*\\*(.*?)\\*\\*/g, \"<b>$1</b>\");text = text.replace(/\\*\\*\\*(.*?)\\*\\*\\*/g, \"<b><i>$1</i></b>\");text = text.replace(/\\*(.*?)\\*/g, \"<i>$1</i>\");text = text.replace(/__(.*?)__/g, \"<u>$1</u>\");text = text.replace(/~~(.*?)~~/g, \"<i>$1</i>\");text = text.replace(/--(.*?)--/g, \"<del>$1</del>\");text = text.replace(/<<(.*?)>>/g, \"<a href='$1'>Link</a>\");text = text.replace(/\\!\\((.*?)\\)/g, \"<i class='$1'></i>\");text = text.replace(/\\[(.*?)\\]\\(https\\\\:(.*?)\\)/g, \"<a href='$2' target='_blank'>$1</a>\");text = text.replace(/\\[(.*?)\\]\\(http\\\\:(.*?)\\)/g, \"<a href='$2' target='_blank'>$1</a>\");text = text.replace(/\\[(.*?)\\]\\((.*?)\\)/g, \"<a href='$2'>$1</a>\");if ( (text == '') || ( text == '__' ) ) { text = '<br />'; }return text ; ;};function getDict(object, key, defaultValue) { var result = object[key];return (typeof result !== \"undefined\") ? result : defaultValue; ;};function numberWithCommas(x) { return x.toString().replace(/\\B(?=(\\d{3})+(?!\\d))/g, \",\"); ;};String.prototype.leftTrim = function() { return this.replace(/^\\s+/, \"\"); } ;if (!String.prototype.startsWith) {String.prototype.startsWith = function(searchString, position){ return this.substr(position || 0, searchString.length) === searchString; };}\n",
       "  Number.prototype.formatMoney = function(decPlaces, thouSeparator, decSeparator) {\n",
       "    var n = this, decPlaces = isNaN(decPlaces = Math.abs(decPlaces)) ? 2 : decPlaces,\n",
       "        decSeparator = decSeparator == undefined ? \".\" : decSeparator,\n",
       "        thouSeparator = thouSeparator == undefined ? \",\" : thouSeparator,\n",
       "        sign = n < 0 ? \"-\" : \"\",\n",
       "        i = parseInt(n = Math.abs(+n || 0).toFixed(decPlaces)) + \"\",\n",
       "        j = (j = i.length) > 3 ? j % 3 : 0;\n",
       "    return sign + (j ? i.substr(0, j) + thouSeparator : \"\") + i.substr(j).replace(/(\\d{3})(?=\\d)/g, \"$1\" + thouSeparator) + (decPlaces ? decSeparator + Math.abs(n - i).toFixed(decPlaces).slice(2) : \"\");\n",
       "  };\n",
       "  \n",
       "  if (typeof Object.assign != 'function') {\n",
       "    Object.defineProperty(Object, \"assign\", {\n",
       "      value: function assign(target, varArgs) { \n",
       "        'use strict';\n",
       "        if (target == null) { \n",
       "          throw new TypeError('Cannot convert undefined or null to object')}\n",
       "        var to = Object(target);\n",
       "        for (var index = 1; index < arguments.length; index++) {\n",
       "          var nextSource = arguments[index];\n",
       "  \n",
       "          if (nextSource != null) {\n",
       "            for (var nextKey in nextSource) {\n",
       "              if (Object.prototype.hasOwnProperty.call(nextSource, nextKey)) {\n",
       "                to[nextKey] = nextSource[nextKey];\n",
       "              }\n",
       "            }\n",
       "          }\n",
       "        }\n",
       "        return to;\n",
       "      },\n",
       "      writable: true,\n",
       "      configurable: true\n",
       "    });\n",
       "  }\n",
       "  \n",
       "  String.prototype.formatMoney = function(decPlaces, thouSeparator, decSeparator) {\n",
       "    var n = parseFloat(this); return n.formatMoney(decPlaces, thouSeparator, decSeparator);\n",
       "  };\n",
       "  var breadCrumUrl = {url: \"\", params: {} } ;;\n",
       "$(document).ready(function() { require(['jquery'], function (jquery) { require([\"jQueryUi\", \"pivot\"], function (jQueryUi, pivot) { \n",
       "$('#footer').css('margin-left', '-35px')\n",
       "$('#ares_page_content').css('margin-left', '-35px')\n",
       "\n",
       "      var tpl = $.pivotUtilities.aggregatorTemplates;window['options_pivottable_2184695919112'] = {\"cols\": [], \"rows\": [], \"vals\": [], \"aggregatorName\": \"Sum Agg\", \"rendererName\": \"Table\"}; \n",
       "      window['options_pivottable_2184695919112'].aggregators = {'Abs Sum Agg': function(attributeArray) {return function(data, rowKey, colKey) {return {tmpVal: 0, keyAgg: 0, numInputs: 1, push: function(record) {this.keyAgg += Math.abs(parseFloat(record[attributeArray[0]]))}, value: function() {return this.keyAgg}, format: function(x) {return numberWithCommas(x.toFixed(2))}}}}, 'Avg Agg': function(attributeArray) {return function(data, rowKey, colKey) {return {tmpVal: 0, keyAgg: 0, numInputs: 1, push: function(record) {this.keyAgg += parseFloat(record[attributeArray[0]]); this.tmpVal += 1}, value: function() {return this.keyAgg / this.tmpVal}, format: function(x) {return numberWithCommas(x.toFixed(2))}}}}, 'diff Agg': function(attributeArray) {return function(data, rowKey, colKey) {return {tmpVal: 0, keyAgg: 0, key2Agg: 0, numInputs: 2, push: function(record) {this.key1Agg += parseFloat(record[attributeArray[0]]); this.key2Agg += parseFloat(record[attributeArray[1]])}, value: function() {return this.key1Agg - this.key2Agg}, format: function(x) {return numberWithCommas(x.toFixed(2))}}}}, 'diff Abs Agg': function(attributeArray) {return function(data, rowKey, colKey) {return {tmpVal: 0, keyAgg: 0, key2Agg: 0, numInputs: 2, push: function(record) {this.key1Agg += parseFloat(record[attributeArray[0]]); this.key2Agg += parseFloat(record[attributeArray[1]])}, value: function() {return Math.abs(this.key1Agg - this.key2Agg)}, format: function(x) {return numberWithCommas(x.toFixed(2))}}}}, 'diff Pct Agg': function(attributeArray) {return function(data, rowKey, colKey) {return {tmpVal: 0, keyAgg: 0, key2Agg: 0, numInputs: 2, push: function(record) {this.key1Agg += parseFloat(record[attributeArray[0]]); this.key2Agg += parseFloat(record[attributeArray[1]])}, value: function() {return (this.key1Agg - this.key2Agg) / this.key1Agg}, format: function(x) {return numberWithCommas(x.toFixed(2))}}}}, 'diff Abs Pct Agg': function(attributeArray) {return function(data, rowKey, colKey) {return {tmpVal: 0, keyAgg: 0, key2Agg: 0, numInputs: 2, push: function(record) {this.key1Agg += parseFloat(record[attributeArray[0]]); this.key2Agg += parseFloat(record[attributeArray[1]])}, value: function() {return Math.abs((this.key1Agg - this.key2Agg) / this.key1Agg)}, format: function(x) {return numberWithCommas(x.toFixed(2))}}}}, 'Max Agg': function(attributeArray) {return function(data, rowKey, colKey) {return {tmpVal: 0, keyAgg: -Infinity, numInputs: 1, push: function(record) {this.keyAgg = Math.max(this.keyAgg, parseFloat(record[attributeArray[0]]))}, value: function() {return this.keyAgg}, format: function(x) {return numberWithCommas(x.toFixed(2))}}}}, 'Min Agg': function(attributeArray) {return function(data, rowKey, colKey) {return {tmpVal: 0, keyAgg: Infinity, numInputs: 1, push: function(record) {this.keyAgg = Math.min(this.keyAgg, parseFloat(record[attributeArray[0]]))}, value: function() {return this.keyAgg}, format: function(x) {return numberWithCommas(x.toFixed(2))}}}}, 'Sum Agg': function(attributeArray) {return function(data, rowKey, colKey) {return {tmpVal: 0, keyAgg: 0, numInputs: 1, push: function(record) {this.keyAgg += parseFloat(record[attributeArray[0]])}, value: function() {return this.keyAgg}, format: function(x) {return numberWithCommas(x.toFixed(2))}}}}, 'sum Over Sum Agg': function(attributeArray) {return function(data, rowKey, colKey) {return {tmpVal: 0, keyAgg: 0, key2Agg: 0, numInputs: 2, push: function(record) {this.key1Agg += parseFloat(record[attributeArray[0]]); this.key2Agg += parseFloat(record[attributeArray[1]])}, value: function() {return this.key1Agg / this.key2Agg}, format: function(x) {return numberWithCommas(x.toFixed(2))}}}}}\n",
       "$('#pivottable_2184695919112').pivotUI(recordset_2184721878976, window['options_pivottable_2184695919112']) }) }) })\n",
       "</script>"
      ],
      "text/plain": [
       "<IPython.core.display.HTML object>"
      ]
     },
     "metadata": {},
     "output_type": "display_data"
    }
   ],
   "source": [
    "import ares.Lib.Ares as Ares\n",
    "\n",
    "aresObj = Ares.ReportAPI()\n",
    "data = aresObj.df({\n",
    "    'dates': ['2019-01-01', '2019-01-01', '2019-01-10', '2019-01-11'],\n",
    "    'category': [\"ABCDEF\", \"ABCDEF\", \"DFCGHI\", \"GHIKLM\"],\n",
    "    'series': [3, 3, 4, 6],\n",
    "    'series2': [5, 5, 1, 9],\n",
    "    'series3': [3, 7, 3, 3]})\n",
    "aresObj.pivot(data)\n",
    "aresObj.display()\n"
   ]
  },
  {
   "cell_type": "code",
   "execution_count": 2,
   "metadata": {},
   "outputs": [
    {
     "data": {
      "text/html": [
       "<link rel=\"stylesheet\" href=\"https://cdnjs.cloudflare.com/ajax/libs/pivottable/2.21.0/pivot.min.css\" type=\"text/css\">\n",
       "<style>\n",
       ".py_csstitle4 {padding:0; font-size:14px; margin-top:5px; font-weight:bold; text-transform:uppercase; white-space:pre-wrap}\n",
       "</style>\n",
       "<div><div style=\"width:100%;overflow:auto;\">\n",
       "      <div class=\"py_csstitle4\"></div>\n",
       "      <div id=\"pivottable_2185002025256\"  style=\"width:100%;margin:0 auto;display:table;position:relative\" class=\"py_csstitle4\"></div>\n",
       "    </div></div>\n",
       "<script>\n",
       "require.config({ paths: {'jquery': 'https://cdnjs.cloudflare.com/ajax/libs/jquery/3.3.1/jquery.min',\n",
       "  'jQueryUi': 'https://cdnjs.cloudflare.com/ajax/libs/jqueryui/1.12.1/jquery-ui.min',\n",
       "  'pivot': 'https://cdnjs.cloudflare.com/ajax/libs/pivottable/2.21.0/pivot.min'} });\n",
       " var recordset_2184721756024 = [{\"category\": \"ABCDEF\", \"dates\": \"2019-01-01\", \"series\": 3, \"series2\": 5, \"series3\": 3}, {\"category\": \"ABCDEF\", \"dates\": \"2019-01-01\", \"series\": 3, \"series2\": 5, \"series3\": 7}, {\"category\": \"DFCGHI\", \"dates\": \"2019-01-10\", \"series\": 4, \"series2\": 1, \"series3\": 3}, {\"category\": \"GHIKLM\", \"dates\": \"2019-01-11\", \"series\": 6, \"series2\": 9, \"series3\": 3}];var pivottable_2185002025256_data = [];var args_2184721077024 = {} ;var pivottable_2185002025256_markDownFnc = false;function buildBreadCrum() { var params = [] ; for(var key in breadCrumUrl['params']) { params.push(key + \"=\" + breadCrumUrl['params'][key]) ;  }var breadCrumResult = breadCrumUrl['url'] ;if (params.length > 0) { breadCrumResult = breadCrumResult + \"?\" + params.join(\"&\")  ;}return breadCrumResult; ;};function aresObj(htmlCode) { if (htmlCode in breadCrumUrl.params) {return breadCrumUrl.params[htmlCode];} else { return null } ;};function FormatFilterDt(filterVal) { var dt = filterVal.split('-') ; return dt[2] + '/' + dt[1] + '/'+ dt[0] ; ;};function GetClipBoardData(event) { if (window.clipboardData == undefined) { alert('this only works with IE') ; } else { return window.clipboardData.getData('text')}; ;};function LoadingPopup(reportName) { $('#popup_loading').find(\"div\").html(\"Loading \" + reportName + \"...\"); $('#popup_loading_back').show(); $('#popup_loading').show(); ;};function GoToReport(url, newWindows, widthLoading) { if(newWindows) { window.open(url, '_blank') ; }else {if ( widthLoading ){$('#popup_loading').find(\"div\").html(\"Loading \" + url + \"...\");$('#popup_loading_back').show(); $('#popup_loading').show(); }window.location.href = url;} ;};function Today() { now = new Date();year = \"\" + now.getFullYear();month = \"\" + (now.getMonth() + 1); if (month.length == 1) { month = \"0\" + month; }day = \"\" + now.getDate(); if (day.length == 1) { day = \"0\" + day; }hour = \"\" + now.getHours(); if (hour.length == 1) { hour = \"0\" + hour; }minute = \"\" + now.getMinutes(); if (minute.length == 1) { minute = \"0\" + minute; }second = \"\" + now.getSeconds(); if (second.length == 1) { second = \"0\" + second; }return year + \"-\" + month + \"-\" + day + \" \" + hour + \":\" + minute + \":\" + second; ;};function CleanText(text) { return text.trim().replace(/\\W+/g, ''); ;};function CssStyleBuilder(params) { cssParams = [] ;for( var i in params) { cssParams.push( i +\":\"+ params[i]) ; }return cssParams.join(\";\"); ;};function CopyToClipboard() { var url = window.location.href.split('?')[0];if (url.slice(-1) == '#') { url = url.slice(0, -1); };var splitParams = buildBreadCrum().split('?') ; var params = \"\";if (splitParams.length > 1 ) { params = splitParams.slice(1, splitParams.length); }if (window.clipboardData) { window.clipboardData.setData('Text', url + '?' + params); }else {var selection = window.getSelection();$(\"body\").append(\"<div id='breadcrumb_url'>\"+ url + '?' + params +\"</div>\");var range = document.createRange();range.selectNodeContents($('#breadcrumb_url').get(0));selection.removeAllRanges(); selection.addRange(range);document.execCommand(\"Copy\") ; $('#breadcrumb_url').remove() ;var div = $('<div>Report Parameters copied to ClickBoard !</div>').css({'display': 'block', 'position': 'fixed', 'top': '40px', 'right': '200px','text-align': 'center', 'padding': '5px', 'color': 'white', 'border-radius': '.4em', 'z-index': 10010, 'background-color': '#293846', \"width\": '200px'});$('body').append(div); setTimeout(function() {div.remove()}, 2000) } ;};function FormGoTo(url, method) { var form = $('<form method=\"'+ method +'\" action='+ url +'></form>') ; NO_UNLOAD = true;for(var key in breadCrumUrl['params']) {form.append( '<input type=\"hidden\" name=\"'+ key +'\" value=\"' + breadCrumUrl['params'][key] + '\">' ) } ;form.appendTo('body').submit(); ;};function toAresMarkup(text) { text = text.replace(/\\*\\*(.*?)\\*\\*/g, \"<b>$1</b>\");text = text.replace(/\\*\\*\\*(.*?)\\*\\*\\*/g, \"<b><i>$1</i></b>\");text = text.replace(/\\*(.*?)\\*/g, \"<i>$1</i>\");text = text.replace(/__(.*?)__/g, \"<u>$1</u>\");text = text.replace(/~~(.*?)~~/g, \"<i>$1</i>\");text = text.replace(/--(.*?)--/g, \"<del>$1</del>\");text = text.replace(/<<(.*?)>>/g, \"<a href='$1'>Link</a>\");text = text.replace(/\\!\\((.*?)\\)/g, \"<i class='$1'></i>\");text = text.replace(/\\[(.*?)\\]\\(https\\\\:(.*?)\\)/g, \"<a href='$2' target='_blank'>$1</a>\");text = text.replace(/\\[(.*?)\\]\\(http\\\\:(.*?)\\)/g, \"<a href='$2' target='_blank'>$1</a>\");text = text.replace(/\\[(.*?)\\]\\((.*?)\\)/g, \"<a href='$2'>$1</a>\");if ( (text == '') || ( text == '__' ) ) { text = '<br />'; }return text ; ;};function getDict(object, key, defaultValue) { var result = object[key];return (typeof result !== \"undefined\") ? result : defaultValue; ;};function numberWithCommas(x) { return x.toString().replace(/\\B(?=(\\d{3})+(?!\\d))/g, \",\"); ;};String.prototype.leftTrim = function() { return this.replace(/^\\s+/, \"\"); } ;if (!String.prototype.startsWith) {String.prototype.startsWith = function(searchString, position){ return this.substr(position || 0, searchString.length) === searchString; };}\n",
       "  Number.prototype.formatMoney = function(decPlaces, thouSeparator, decSeparator) {\n",
       "    var n = this, decPlaces = isNaN(decPlaces = Math.abs(decPlaces)) ? 2 : decPlaces,\n",
       "        decSeparator = decSeparator == undefined ? \".\" : decSeparator,\n",
       "        thouSeparator = thouSeparator == undefined ? \",\" : thouSeparator,\n",
       "        sign = n < 0 ? \"-\" : \"\",\n",
       "        i = parseInt(n = Math.abs(+n || 0).toFixed(decPlaces)) + \"\",\n",
       "        j = (j = i.length) > 3 ? j % 3 : 0;\n",
       "    return sign + (j ? i.substr(0, j) + thouSeparator : \"\") + i.substr(j).replace(/(\\d{3})(?=\\d)/g, \"$1\" + thouSeparator) + (decPlaces ? decSeparator + Math.abs(n - i).toFixed(decPlaces).slice(2) : \"\");\n",
       "  };\n",
       "  \n",
       "  if (typeof Object.assign != 'function') {\n",
       "    Object.defineProperty(Object, \"assign\", {\n",
       "      value: function assign(target, varArgs) { \n",
       "        'use strict';\n",
       "        if (target == null) { \n",
       "          throw new TypeError('Cannot convert undefined or null to object')}\n",
       "        var to = Object(target);\n",
       "        for (var index = 1; index < arguments.length; index++) {\n",
       "          var nextSource = arguments[index];\n",
       "  \n",
       "          if (nextSource != null) {\n",
       "            for (var nextKey in nextSource) {\n",
       "              if (Object.prototype.hasOwnProperty.call(nextSource, nextKey)) {\n",
       "                to[nextKey] = nextSource[nextKey];\n",
       "              }\n",
       "            }\n",
       "          }\n",
       "        }\n",
       "        return to;\n",
       "      },\n",
       "      writable: true,\n",
       "      configurable: true\n",
       "    });\n",
       "  }\n",
       "  \n",
       "  String.prototype.formatMoney = function(decPlaces, thouSeparator, decSeparator) {\n",
       "    var n = parseFloat(this); return n.formatMoney(decPlaces, thouSeparator, decSeparator);\n",
       "  };\n",
       "  var breadCrumUrl = {url: \"\", params: {} } ;;\n",
       "$(document).ready(function() { require(['jquery'], function (jquery) { require([\"jQueryUi\", \"pivot\"], function (jQueryUi, pivot) { \n",
       "$('#footer').css('margin-left', '-35px')\n",
       "$('#ares_page_content').css('margin-left', '-35px')\n",
       "\n",
       "      var tpl = $.pivotUtilities.aggregatorTemplates;window['options_pivottable_2185002025256'] = {\"cols\": [\"dates\"], \"rows\": [\"category\"], \"vals\": [\"series2\"], \"aggregatorName\": \"Sum Agg\", \"rendererName\": \"Table\"}; \n",
       "      window['options_pivottable_2185002025256'].aggregators = {'Abs Sum Agg': function(attributeArray) {return function(data, rowKey, colKey) {return {tmpVal: 0, keyAgg: 0, numInputs: 1, push: function(record) {this.keyAgg += Math.abs(parseFloat(record[attributeArray[0]]))}, value: function() {return this.keyAgg}, format: function(x) {return numberWithCommas(x.toFixed(0))}}}}, 'Avg Agg': function(attributeArray) {return function(data, rowKey, colKey) {return {tmpVal: 0, keyAgg: 0, numInputs: 1, push: function(record) {this.keyAgg += parseFloat(record[attributeArray[0]]); this.tmpVal += 1}, value: function() {return this.keyAgg / this.tmpVal}, format: function(x) {return numberWithCommas(x.toFixed(0))}}}}, 'diff Agg': function(attributeArray) {return function(data, rowKey, colKey) {return {tmpVal: 0, keyAgg: 0, key2Agg: 0, numInputs: 2, push: function(record) {this.key1Agg += parseFloat(record[attributeArray[0]]); this.key2Agg += parseFloat(record[attributeArray[1]])}, value: function() {return this.key1Agg - this.key2Agg}, format: function(x) {return numberWithCommas(x.toFixed(2))}}}}, 'diff Abs Agg': function(attributeArray) {return function(data, rowKey, colKey) {return {tmpVal: 0, keyAgg: 0, key2Agg: 0, numInputs: 2, push: function(record) {this.key1Agg += parseFloat(record[attributeArray[0]]); this.key2Agg += parseFloat(record[attributeArray[1]])}, value: function() {return Math.abs(this.key1Agg - this.key2Agg)}, format: function(x) {return numberWithCommas(x.toFixed(2))}}}}, 'diff Pct Agg': function(attributeArray) {return function(data, rowKey, colKey) {return {tmpVal: 0, keyAgg: 0, key2Agg: 0, numInputs: 2, push: function(record) {this.key1Agg += parseFloat(record[attributeArray[0]]); this.key2Agg += parseFloat(record[attributeArray[1]])}, value: function() {return (this.key1Agg - this.key2Agg) / this.key1Agg}, format: function(x) {return numberWithCommas(x.toFixed(2))}}}}, 'diff Abs Pct Agg': function(attributeArray) {return function(data, rowKey, colKey) {return {tmpVal: 0, keyAgg: 0, key2Agg: 0, numInputs: 2, push: function(record) {this.key1Agg += parseFloat(record[attributeArray[0]]); this.key2Agg += parseFloat(record[attributeArray[1]])}, value: function() {return Math.abs((this.key1Agg - this.key2Agg) / this.key1Agg)}, format: function(x) {return numberWithCommas(x.toFixed(2))}}}}, 'Max Agg': function(attributeArray) {return function(data, rowKey, colKey) {return {tmpVal: 0, keyAgg: -Infinity, numInputs: 1, push: function(record) {this.keyAgg = Math.max(this.keyAgg, parseFloat(record[attributeArray[0]]))}, value: function() {return this.keyAgg}, format: function(x) {return numberWithCommas(x.toFixed(0))}}}}, 'Min Agg': function(attributeArray) {return function(data, rowKey, colKey) {return {tmpVal: 0, keyAgg: Infinity, numInputs: 1, push: function(record) {this.keyAgg = Math.min(this.keyAgg, parseFloat(record[attributeArray[0]]))}, value: function() {return this.keyAgg}, format: function(x) {return numberWithCommas(x.toFixed(0))}}}}, 'Sum Agg': function(attributeArray) {return function(data, rowKey, colKey) {return {tmpVal: 0, keyAgg: 0, numInputs: 1, push: function(record) {this.keyAgg += parseFloat(record[attributeArray[0]])}, value: function() {return this.keyAgg}, format: function(x) {return numberWithCommas(x.toFixed(0))}}}}, 'sum Over Sum Agg': function(attributeArray) {return function(data, rowKey, colKey) {return {tmpVal: 0, keyAgg: 0, key2Agg: 0, numInputs: 2, push: function(record) {this.key1Agg += parseFloat(record[attributeArray[0]]); this.key2Agg += parseFloat(record[attributeArray[1]])}, value: function() {return this.key1Agg / this.key2Agg}, format: function(x) {return numberWithCommas(x.toFixed(2))}}}}}\n",
       "$('#pivottable_2185002025256').pivotUI(recordset_2184721756024, window['options_pivottable_2185002025256']) }) }) })\n",
       "</script>"
      ],
      "text/plain": [
       "<IPython.core.display.HTML object>"
      ]
     },
     "metadata": {},
     "output_type": "display_data"
    }
   ],
   "source": [
    "import ares.Lib.Ares as Ares\n",
    "\n",
    "aresObj = Ares.ReportAPI()\n",
    "data = aresObj.df({\n",
    "    'dates': ['2019-01-01', '2019-01-01', '2019-01-10', '2019-01-11'],\n",
    "    'category': [\"ABCDEF\", \"ABCDEF\", \"DFCGHI\", \"GHIKLM\"],\n",
    "    'series': [3, 3, 4, 6],\n",
    "    'series2': [5, 5, 1, 9],\n",
    "    'series3': [3, 7, 3, 3]})\n",
    "aresObj.pivot(data, rows=['category'], cols=['dates'], vals=['series2'], aggOptions={'digits': 0})\n",
    "aresObj.display()"
   ]
  },
  {
   "cell_type": "code",
   "execution_count": null,
   "metadata": {},
   "outputs": [],
   "source": []
  }
 ],
 "metadata": {
  "kernelspec": {
   "display_name": "Python 3",
   "language": "python",
   "name": "python3"
  },
  "language_info": {
   "codemirror_mode": {
    "name": "ipython",
    "version": 3
   },
   "file_extension": ".py",
   "mimetype": "text/x-python",
   "name": "python",
   "nbconvert_exporter": "python",
   "pygments_lexer": "ipython3",
   "version": "3.6.7"
  }
 },
 "nbformat": 4,
 "nbformat_minor": 2
}
