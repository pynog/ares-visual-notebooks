{
 "cells": [
  {
   "cell_type": "code",
   "execution_count": null,
   "metadata": {
    "collapsed": true
   },
   "outputs": [],
   "source": [
    "import ares.Lib.Ares as Ares\n",
    "\n",
    "aresObj = Ares.ReportAPI()\n",
    "  recordSet = {\n",
    "    'Names': ['Apples', 'Banana', 'Tomatoes', 'Cucumber', 'Cow', 'Veal', 'Lamb', 'Rabbit', 'Tuna', 'Salmon', 'Peach', 'Guava', 'Passion Fruit', 'Carrot', 'Beans'],\n",
    "    'Fruit': [9, 7, 3, 234, 23, 32, 54, 87, 87, 54, 23, 12, 3, 12, 2],\n",
    "    'Meat': [0, 0, 0, 0, 23, 2, 4, 6, 0, 0, 0, 0, 0, 0, 0],\n",
    "    'Fish': [0, 0, 0, 0, 0, 0, 0, 15, 18, 0, 0, 0, 0, 0, 0],\n",
    "    'Vegetables': [0, 0, 0, 32, 0, 0, 0, 0, 0, 0, 0, 0, 0, 2, 22]}\n",
    "aresObj.chart('gravity', aresObj.df(recordSet),  xAxis='Names', seriesNames=['Fruit', 'Meat', 'Fish', 'Vegetables'], height=700)\n",
    "aresObj.display()\n",
    "\n"
   ]
  }
 ],
 "metadata": {
  "kernelspec": {
   "display_name": "Python 2",
   "language": "python",
   "name": "python2"
  },
  "language_info": {
   "codemirror_mode": {
    "name": "ipython",
    "version": 2
   },
   "file_extension": ".py",
   "mimetype": "text/x-python",
   "name": "python",
   "nbconvert_exporter": "python",
   "pygments_lexer": "ipython2",
   "version": "2.7.6"
  }
 },
 "nbformat": 4,
 "nbformat_minor": 0
}
