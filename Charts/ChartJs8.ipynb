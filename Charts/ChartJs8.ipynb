{
 "cells": [
  {
   "cell_type": "code",
   "execution_count": 1,
   "metadata": {},
   "outputs": [],
   "source": [
    "import sys\n",
    "sys.path.append(r\"C:\\Users\\olivier\\Documents\\youpi\\python-ares\")\n"
   ]
  },
  {
   "cell_type": "code",
   "execution_count": 2,
   "metadata": {},
   "outputs": [
    {
     "data": {
      "text/html": [
       "<link rel=\"stylesheet\" href=\"https://cdn.datatables.net/buttons/1.5.2/css/buttons.bootstrap4.min.css\" type=\"text/css\">\n",
       "<link rel=\"stylesheet\" href=\"https://cdn.datatables.net/buttons/1.5.2/css/buttons.dataTables.min.css\" type=\"text/css\">\n",
       "<link rel=\"stylesheet\" href=\"https://cdn.datatables.net/responsive/2.1.1/css/responsive.dataTables.min.css\" type=\"text/css\">\n",
       "<link rel=\"stylesheet\" href=\"https://cdn.datatables.net/1.10.19/css/jquery.dataTables.min.css\" type=\"text/css\">\n",
       "<link rel=\"stylesheet\" href=\"https://use.fontawesome.com/releases/v5.1.0/css/all.css\" type=\"text/css\">\n",
       "<style>\n",
       ".py_cssdivchart {margin:0 0 5px 0; padding:5px; outline:none; border:1px solid #F4F4F4}\n",
       ".py_cssdivchart:hover {border:1px solid #6285b0}\n",
       "</style>\n",
       "<div><div  style=\"width:100%;height:200px;position:relative\" class=\"py_cssdivchart\" id=\"chart_2361050225408_container\">  \n",
       "        <div style=\"height:170px\"><canvas id=\"chart_2361050225408\"></canvas></div>\n",
       "        <span style=\"bottom:0;margin:0 0 5px 0;width:100%\">\n",
       "          <i style=\"margin:0 5px 0 0\" class=\"fas fa-clock\"></i>Last update: <div id=\"chart_2361050225408_time\" style=\"display:inline-block\"></div>\n",
       "          <div style=\"display:inline-block;float:right;margin-right:0px\">\n",
       "            <a href=\"\" style=\"margin:0 5px;cursor:pointer\" class=\"fa fa-file-excel\" onclick=\"this.href = 'data:text/csv;charset=utf-8,' + encodeURIComponent(ToTsv(recordset_2360769946032, ['dates', 'series', 'series2']))\" download=\"data.tsv\"></a><a href=\"\" style=\"margin:0 5px;cursor:pointer\" class=\"fas fa-download\" onclick=\"this.href = window['chart_2361050225408_chart'].toBase64Image()\" download></a><a href=\"\" style=\"margin:0 5px;cursor:pointer\" class=\"fas fa-search-plus\" onclick=\"this.href = window['chart_2361050225408_chart'].toBase64Image()\" ></a>\n",
       "          </div>\n",
       "        </span>\n",
       "      </div></div>\n",
       "<script>\n",
       "require.config({ paths: {'jquery': 'https://cdnjs.cloudflare.com/ajax/libs/jquery/3.3.1/jquery.min',\n",
       "  'bootstrap': 'https://stackpath.bootstrapcdn.com/bootstrap/4.2.1/js/bootstrap.min',\n",
       "  'bootstrapBundle': 'https://stackpath.bootstrapcdn.com/bootstrap/4.2.1/js/bootstrap.bundle.min',\n",
       "  'datatables': 'https://cdnjs.cloudflare.com/ajax/libs/datatables/1.10.19/js/jquery.dataTables.min',\n",
       "  'pdfmake': 'https://cdnjs.cloudflare.com/ajax/libs/pdfmake/0.1.37/pdfmake.min',\n",
       "  'vfs_fonts': 'https://cdnjs.cloudflare.com/ajax/libs/pdfmake/0.1.37/vfs_fonts',\n",
       "  'jszip': 'https://cdnjs.cloudflare.com/ajax/libs/jszip/3.1.5/jszip.min',\n",
       "  'd3': 'https://cdnjs.cloudflare.com/ajax/libs/d3/5.7.0/d3.min',\n",
       "  'Chart': 'https://cdnjs.cloudflare.com/ajax/libs/Chart.js/2.7.3/Chart.min'} });\n",
       " var recordset_2360769946032 = [{\"category\": \"ABCDEF\", \"dates\": \"2019-01-01\", \"series\": 3, \"series2\": 5, \"series3\": 3}, {\"category\": \"ABCDEF\", \"dates\": \"2019-01-01\", \"series\": 3, \"series2\": 5, \"series3\": 7}, {\"category\": \"DFCGHI\", \"dates\": \"2019-01-10\", \"series\": 4, \"series2\": 1, \"series3\": 3}, {\"category\": \"GHIKLM\", \"dates\": \"2019-01-11\", \"series\": 6, \"series2\": 9, \"series3\": 3}];var args_2360769944488 = {\"keys_0\": [\"dates\"], \"values_0\": [\"series\", \"series2\"], \"chart_0_1\": [\"series\", \"series2\"], \"chart_1_1\": \"dates\"} ;var chart_2361050225408_markDownFnc = false;function buildBreadCrum() { var params = [] ; for(var key in breadCrumUrl['params']) { params.push(key + \"=\" + breadCrumUrl['params'][key]) ;  }var breadCrumResult = breadCrumUrl['url'] ;if (params.length > 0) { breadCrumResult = breadCrumResult + \"?\" + params.join(\"&\")  ;}return breadCrumResult; ;};function aresObj(htmlCode) { if (htmlCode in breadCrumUrl.params) {return breadCrumUrl.params[htmlCode];} else { return null } ;};function FormatFilterDt(filterVal) { var dt = filterVal.split('-') ; return dt[2] + '/' + dt[1] + '/'+ dt[0] ; ;};function GetClipBoardData(event) { if (window.clipboardData == undefined) { alert('this only works with IE') ; } else { return window.clipboardData.getData('text')}; ;};function LoadingPopup(reportName) { $('#popup_loading').find(\"div\").html(\"Loading \" + reportName + \"...\"); $('#popup_loading_back').show(); $('#popup_loading').show(); ;};function GoToReport(url, newWindows, widthLoading) { if(newWindows) { window.open(url, '_blank') ; }else {if ( widthLoading ){$('#popup_loading').find(\"div\").html(\"Loading \" + url + \"...\");$('#popup_loading_back').show(); $('#popup_loading').show(); }window.location.href = url;} ;};function Today() { now = new Date();year = \"\" + now.getFullYear();month = \"\" + (now.getMonth() + 1); if (month.length == 1) { month = \"0\" + month; }day = \"\" + now.getDate(); if (day.length == 1) { day = \"0\" + day; }hour = \"\" + now.getHours(); if (hour.length == 1) { hour = \"0\" + hour; }minute = \"\" + now.getMinutes(); if (minute.length == 1) { minute = \"0\" + minute; }second = \"\" + now.getSeconds(); if (second.length == 1) { second = \"0\" + second; }return year + \"-\" + month + \"-\" + day + \" \" + hour + \":\" + minute + \":\" + second; ;};function CleanText(text) { return text.trim().replace(/\\W+/g, ''); ;};function CssStyleBuilder(params) { cssParams = [] ;for( var i in params) { cssParams.push( i +\":\"+ params[i]) ; }return cssParams.join(\";\"); ;};function CopyToClipboard() { var url = window.location.href.split('?')[0];if (url.slice(-1) == '#') { url = url.slice(0, -1); };var splitParams = buildBreadCrum().split('?') ; var params = \"\";if (splitParams.length > 1 ) { params = splitParams.slice(1, splitParams.length); }if (window.clipboardData) { window.clipboardData.setData('Text', url + '?' + params); }else {var selection = window.getSelection();$(\"body\").append(\"<div id='breadcrumb_url'>\"+ url + '?' + params +\"</div>\");var range = document.createRange();range.selectNodeContents($('#breadcrumb_url').get(0));selection.removeAllRanges(); selection.addRange(range);document.execCommand(\"Copy\") ; $('#breadcrumb_url').remove() ;var div = $('<div>Report Parameters copied to ClickBoard !</div>').css({'display': 'block', 'position': 'fixed', 'top': '40px', 'right': '200px','text-align': 'center', 'padding': '5px', 'color': 'white', 'border-radius': '.4em', 'z-index': 10010, 'background-color': '#293846', \"width\": '200px'});$('body').append(div); setTimeout(function() {div.remove()}, 2000) } ;};function FormGoTo(url, method) { var form = $('<form method=\"'+ method +'\" action='+ url +'></form>') ; NO_UNLOAD = true;for(var key in breadCrumUrl['params']) {form.append( '<input type=\"hidden\" name=\"'+ key +'\" value=\"' + breadCrumUrl['params'][key] + '\">' ) } ;form.appendTo('body').submit(); ;};function toAresMarkup(text) { text = text.replace(/\\*\\*(.*?)\\*\\*/g, \"<b>$1</b>\");text = text.replace(/\\*\\*\\*(.*?)\\*\\*\\*/g, \"<b><i>$1</i></b>\");text = text.replace(/\\*(.*?)\\*/g, \"<i>$1</i>\");text = text.replace(/__(.*?)__/g, \"<u>$1</u>\");text = text.replace(/~~(.*?)~~/g, \"<i>$1</i>\");text = text.replace(/--(.*?)--/g, \"<del>$1</del>\");text = text.replace(/<<(.*?)>>/g, \"<a href='$1'>Link</a>\");text = text.replace(/\\!\\((.*?)\\)/g, \"<i class='$1'></i>\");text = text.replace(/\\[(.*?)\\]\\(https\\\\:(.*?)\\)/g, \"<a href='$2' target='_blank'>$1</a>\");text = text.replace(/\\[(.*?)\\]\\(http\\\\:(.*?)\\)/g, \"<a href='$2' target='_blank'>$1</a>\");text = text.replace(/\\[(.*?)\\]\\((.*?)\\)/g, \"<a href='$2'>$1</a>\");if ( (text == '') || ( text == '__' ) ) { text = '<br />'; }return text ; ;};function getDict(object, key, defaultValue) { var result = object[key];return (typeof result !== \"undefined\") ? result : defaultValue; ;};function ares_sum(data, keys, values) { var result = []; if (data !== null){if ((keys == null) || (values == null)){result = data}else{var temp = {}; var order = [];data.forEach( function(rec) {var aggKey = []; keys.forEach(function(k){ aggKey.push(rec[k])});var newKey = aggKey.join(\"#\"); order.push(newKey);if (!(newKey in temp)) {temp[newKey] = {}};values.forEach(function(v) {if (!(v in temp[newKey])) {temp[newKey][v] = rec[v]} else {temp[newKey][v] += rec[v]}})});order.forEach(function(label) {var rec = {}; var splitKey = label.split(\"#\");keys.forEach(function(k, i) {rec[k] = splitKey[i];});for(var v in temp[label]) {rec[v] = temp[label][v]};result.push(rec)})};} else {data = []}; return result ;};function AresChartJs(data, seriesNames, xAxis) { var result = []; if (data !== null){var temp = {}; var labels = []; var uniqLabels = {};seriesNames.forEach(function(series){temp[series] = {}}) ;data.forEach(function(rec) {seriesNames.forEach(function(name){if(rec[name] !== undefined) {if (!(rec[xAxis] in uniqLabels)){labels.push(rec[xAxis]); uniqLabels[rec[xAxis]] = true};temp[name][rec[xAxis]] = rec[name]}})});result = {datasets: [], labels: labels};seriesNames.forEach(function(series){dataSet = {label: series, data: []};labels.forEach(function(x){if (temp[series][x] == undefined) {dataSet.data.push(null)} else {dataSet.data.push(temp[series][x])}}); result.datasets.push(dataSet)})} else {data = []}; return result ;};function ares_extenddataset(data, values, recKey) { var result = []; if (data !== null){var records; var recResults;if(recKey == undefined){records = data;recResults = result}else {records = data[recKey];result[recKey] = [];recResults = result[recKey];for(var k in data) {if (k != recKey) {result[k] = data[k]}}};records.forEach(function(rec, i) {var newRec = Object.assign(rec, values.static);if (i in values.dynamic) {newRec = Object.assign(newRec, values.dynamic[i])};recResults.push(newRec)})} else {data = []}; return result ;};function ToTsv(data, colNames) { var tmp = []; var row = [];colNames.forEach(function(col){row.push(col)}); tmp.push(row.join('\t'));data.forEach(function(rec){row = [];colNames.forEach(function(col){row.push(rec[col])});tmp.push(row.join('\t')) });result = tmp.join('\\\\n') ; return result ;};String.prototype.leftTrim = function() { return this.replace(/^\\s+/, \"\"); } ;if (!String.prototype.startsWith) {String.prototype.startsWith = function(searchString, position){ return this.substr(position || 0, searchString.length) === searchString; };}\n",
       "  Number.prototype.formatMoney = function(decPlaces, thouSeparator, decSeparator) {\n",
       "    var n = this, decPlaces = isNaN(decPlaces = Math.abs(decPlaces)) ? 2 : decPlaces,\n",
       "        decSeparator = decSeparator == undefined ? \".\" : decSeparator,\n",
       "        thouSeparator = thouSeparator == undefined ? \",\" : thouSeparator,\n",
       "        sign = n < 0 ? \"-\" : \"\",\n",
       "        i = parseInt(n = Math.abs(+n || 0).toFixed(decPlaces)) + \"\",\n",
       "        j = (j = i.length) > 3 ? j % 3 : 0;\n",
       "    return sign + (j ? i.substr(0, j) + thouSeparator : \"\") + i.substr(j).replace(/(\\d{3})(?=\\d)/g, \"$1\" + thouSeparator) + (decPlaces ? decSeparator + Math.abs(n - i).toFixed(decPlaces).slice(2) : \"\");\n",
       "  };\n",
       "  \n",
       "  if (typeof Object.assign != 'function') {\n",
       "    Object.defineProperty(Object, \"assign\", {\n",
       "      value: function assign(target, varArgs) { \n",
       "        'use strict';\n",
       "        if (target == null) { \n",
       "          throw new TypeError('Cannot convert undefined or null to object')}\n",
       "        var to = Object(target);\n",
       "        for (var index = 1; index < arguments.length; index++) {\n",
       "          var nextSource = arguments[index];\n",
       "  \n",
       "          if (nextSource != null) {\n",
       "            for (var nextKey in nextSource) {\n",
       "              if (Object.prototype.hasOwnProperty.call(nextSource, nextKey)) {\n",
       "                to[nextKey] = nextSource[nextKey];\n",
       "              }\n",
       "            }\n",
       "          }\n",
       "        }\n",
       "        return to;\n",
       "      },\n",
       "      writable: true,\n",
       "      configurable: true\n",
       "    });\n",
       "  }\n",
       "  \n",
       "  String.prototype.formatMoney = function(decPlaces, thouSeparator, decSeparator) {\n",
       "    var n = parseFloat(this); return n.formatMoney(decPlaces, thouSeparator, decSeparator);\n",
       "  };\n",
       "  var breadCrumUrl = {url: \"\", params: {} } ;;\n",
       "$(document).ready(function() { require(['jquery'], function (jquery) { require([\"bootstrap\", \"bootstrapBundle\", \"datatables\", \"pdfmake\", \"vfs_fonts\", \"jszip\", \"d3\", \"Chart\"], function (bootstrap, bootstrapBundle, datatables, pdfmake, vfs_fonts, jszip, d3, Chart) { \n",
       "$('#footer').css('margin-left', '-35px')\n",
       "$('#ares_page_content').css('margin-left', '-35px')\n",
       "window['chart_2361050225408_def'] = {type: \"line\", options: {maintainAspectRatio: false, responsive: true, legend: {display: true, position: \"right\"}, scaleShowLabels: true, scales: {yAxes: [{ ticks: {display: true, beginAtZero: true}, gridLines: {display: true} }], xAxes: [{ ticks: {display: true, beginAtZero: true}, gridLines: {display: true} }]}, layout: {padding: {bottom: 20}}}}; \n",
       "      window['chart_2361050225408_def'].data = ares_extenddataset(AresChartJs(ares_sum(recordset_2360769946032, window['args_2360769944488']['keys_0'], window['args_2360769944488']['values_0']), window['args_2360769944488']['chart_0_1'],window['args_2360769944488']['chart_1_1']), {\"static\": {\"fill\": false}, \"dynamic\": {\"0\": {\"backgroundColor\": \"#293342\", \"borderColor\": \"#293342\"}, \"1\": {\"backgroundColor\": \"#334D6B\", \"borderColor\": \"#334D6B\"}}}, \"datasets\");\n",
       "      if(window['chart_2361050225408_chart'] !== undefined){window['chart_2361050225408_chart'].destroy();};\n",
       "      window['chart_2361050225408_chart'] = new Chart($(\"#chart_2361050225408\").get(0).getContext('2d'), window['chart_2361050225408_def']); var d = new Date(); $(\"#chart_2361050225408_time\").html( d.getFullYear() + \"-\" + d.getMonth() + \"-\" + d.getDate() + \" \" + d.getHours() + \":\" +  d.getMinutes() + \":\" + d.getSeconds() );;\n",
       "      \n",
       "       }) }) })\n",
       "</script>"
      ],
      "text/plain": [
       "<IPython.core.display.HTML object>"
      ]
     },
     "metadata": {},
     "output_type": "display_data"
    }
   ],
   "source": [
    "import ares.Lib.Ares as Ares\n",
    "\n",
    "aresObj = Ares.ReportAPI()\n",
    "data = aresObj.df({\n",
    "    'dates': ['2019-01-01', '2019-01-01', '2019-01-10', '2019-01-11'],\n",
    "    'category': [\"ABCDEF\", \"ABCDEF\", \"DFCGHI\", \"GHIKLM\"],\n",
    "    'series': [3, 3, 4, 6],\n",
    "    'series2': [5, 5, 1, 9],\n",
    "    'series3': [3, 7, 3, 3]})\n",
    "aresObj.chart('line', data, seriesNames=['series', 'series2'], xAxis='dates', height=200)\n",
    "aresObj.display()\n"
   ]
  },
  {
   "cell_type": "code",
   "execution_count": null,
   "metadata": {},
   "outputs": [],
   "source": []
  }
 ],
 "metadata": {
  "kernelspec": {
   "display_name": "Python 3",
   "language": "python",
   "name": "python3"
  },
  "language_info": {
   "codemirror_mode": {
    "name": "ipython",
    "version": 3
   },
   "file_extension": ".py",
   "mimetype": "text/x-python",
   "name": "python",
   "nbconvert_exporter": "python",
   "pygments_lexer": "ipython3",
   "version": "3.6.7"
  }
 },
 "nbformat": 4,
 "nbformat_minor": 2
}
