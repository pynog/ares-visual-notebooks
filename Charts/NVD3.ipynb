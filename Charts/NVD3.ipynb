{
 "cells": [
  {
   "cell_type": "markdown",
   "metadata": {},
   "source": [
    "<img align=\"left\" src=\"../Ares_PetitIcon.PNG\">"
   ]
  },
  {
   "cell_type": "code",
   "execution_count": 1,
   "metadata": {},
   "outputs": [
    {
     "name": "stdout",
     "output_type": "stream",
     "text": [
      "[\"'jquery': 'https://cdnjs.cloudflare.com/ajax/libs/jquery/3.3.1/jquery.min'\"]\n"
     ]
    },
    {
     "data": {
      "text/html": [
       "\n",
       "<style>\n",
       ".py_cssdivnoborder {margin:0; font-family:arial; clear:both; padding:0; border:0; outline:none}\n",
       "</style>\n",
       "<div><div id=\"externallink_2076775993472\"   class=\"py_cssdivnoborder\"><a target=\"_blank\" style=\"text-decoration:none\"></a></div></div>\n",
       "<script>\n",
       "require.config({ paths: {'jquery': 'https://cdnjs.cloudflare.com/ajax/libs/jquery/3.3.1/jquery.min'} });\n",
       " var externallink_2076775993472_data = {\"text\": \"More examples on the Official Website\", \"url\": \"http://nvd3.org/\", \"isJs\": false};var externallink_2076775993472_markDownFnc = false;function buildBreadCrum() { var params = [] ; for(var key in breadCrumUrl['params']) { params.push(key + \"=\" + breadCrumUrl['params'][key]) ;  }var breadCrumResult = breadCrumUrl['url'] ;if (params.length > 0) { breadCrumResult = breadCrumResult + \"?\" + params.join(\"&\")  ;}return breadCrumResult; ;};function aresObj(htmlCode) { if (htmlCode in breadCrumUrl.params) {return breadCrumUrl.params[htmlCode];} else { return null } ;};function FormatFilterDt(filterVal) { var dt = filterVal.split('-') ; return dt[2] + '/' + dt[1] + '/'+ dt[0] ; ;};function GetClipBoardData(event) { if (window.clipboardData == undefined) { alert('this only works with IE') ; } else { return window.clipboardData.getData('text')}; ;};function LoadingPopup(reportName) { $('#popup_loading').find(\"div\").html(\"Loading \" + reportName + \"...\"); $('#popup_loading_back').show(); $('#popup_loading').show(); ;};function GoToReport(url, newWindows, widthLoading) { if(newWindows) { window.open(url, '_blank') ; }else {if ( widthLoading ){$('#popup_loading').find(\"div\").html(\"Loading \" + url + \"...\");$('#popup_loading_back').show(); $('#popup_loading').show(); }window.location.href = url;} ;};function Today() { now = new Date();year = \"\" + now.getFullYear();month = \"\" + (now.getMonth() + 1); if (month.length == 1) { month = \"0\" + month; }day = \"\" + now.getDate(); if (day.length == 1) { day = \"0\" + day; }hour = \"\" + now.getHours(); if (hour.length == 1) { hour = \"0\" + hour; }minute = \"\" + now.getMinutes(); if (minute.length == 1) { minute = \"0\" + minute; }second = \"\" + now.getSeconds(); if (second.length == 1) { second = \"0\" + second; }return year + \"-\" + month + \"-\" + day + \" \" + hour + \":\" + minute + \":\" + second; ;};function CleanText(text) { return text.trim().replace(/\\W+/g, ''); ;};function CssStyleBuilder(params) { cssParams = [] ;for( var i in params) { cssParams.push( i +\":\"+ params[i]) ; }return cssParams.join(\";\"); ;};function CopyToClipboard() { var url = window.location.href.split('?')[0];if (url.slice(-1) == '#') { url = url.slice(0, -1); };var splitParams = buildBreadCrum().split('?') ; var params = \"\";if (splitParams.length > 1 ) { params = splitParams.slice(1, splitParams.length); }if (window.clipboardData) { window.clipboardData.setData('Text', url + '?' + params); }else {var selection = window.getSelection();$(\"body\").append(\"<div id='breadcrumb_url'>\"+ url + '?' + params +\"</div>\");var range = document.createRange();range.selectNodeContents($('#breadcrumb_url').get(0));selection.removeAllRanges(); selection.addRange(range);document.execCommand(\"Copy\") ; $('#breadcrumb_url').remove() ;var div = $('<div>Report Parameters copied to ClickBoard !</div>').css({'display': 'block', 'position': 'fixed', 'top': '40px', 'right': '200px','text-align': 'center', 'padding': '5px', 'color': 'white', 'border-radius': '.4em', 'z-index': 10010, 'background-color': '#293846', \"width\": '200px'});$('body').append(div); setTimeout(function() {div.remove()}, 2000) } ;};function FormGoTo(url, method) { var form = $('<form method=\"'+ method +'\" action='+ url +'></form>') ; NO_UNLOAD = true;for(var key in breadCrumUrl['params']) {form.append( '<input type=\"hidden\" name=\"'+ key +'\" value=\"' + breadCrumUrl['params'][key] + '\">' ) } ;form.appendTo('body').submit(); ;};function toAresMarkup(text) { text = text.replace(/\\*\\*(.*?)\\*\\*/g, \"<b>$1</b>\");text = text.replace(/\\*\\*\\*(.*?)\\*\\*\\*/g, \"<b><i>$1</i></b>\");text = text.replace(/\\*(.*?)\\*/g, \"<i>$1</i>\");text = text.replace(/__(.*?)__/g, \"<u>$1</u>\");text = text.replace(/~~(.*?)~~/g, \"<i>$1</i>\");text = text.replace(/--(.*?)--/g, \"<del>$1</del>\");text = text.replace(/<<(.*?)>>/g, \"<a href='$1'>Link</a>\");text = text.replace(/\\!\\((.*?)\\)/g, \"<i class='$1'></i>\");text = text.replace(/\\[(.*?)\\]\\(https\\\\:(.*?)\\)/g, \"<a href='$2' target='_blank'>$1</a>\");text = text.replace(/\\[(.*?)\\]\\(http\\\\:(.*?)\\)/g, \"<a href='$2' target='_blank'>$1</a>\");text = text.replace(/\\[(.*?)\\]\\((.*?)\\)/g, \"<a href='$2'>$1</a>\");if ( (text == '') || ( text == '__' ) ) { text = '<br />'; }return text ; ;};function getDict(object, key, defaultValue) { var result = object[key];return (typeof result !== \"undefined\") ? result : defaultValue; ;};function ExternalLink(htmlObj, data) { if (data.icon != undefined) { htmlObj.append('<i class=\"'+ data.icon +'\"></i>&nbsp;&nbsp;')}if (data.color != undefined) { htmlObj.css('color', data.color) ;}if (data.bold != undefined) { htmlObj.css('font-weight', 'bold') ;}if (data.size != undefined) { htmlObj.css('font-size', data.size + 'px') ;}htmlObj.append(data.text);if (!data.isJs) {htmlObj.attr('href', data.url)}else {htmlObj.on('click', function(event) {var urlParts = [];for(var key in data.params){urlParts.push(key + \"=\" + data.params[key]())}htmlObj.attr('href', data.url + \"?\" + urlParts.join('&'))}) ;} ;};String.prototype.leftTrim = function() { return this.replace(/^\\s+/, \"\"); } ;if (!String.prototype.startsWith) {String.prototype.startsWith = function(searchString, position){ return this.substr(position || 0, searchString.length) === searchString; };}\n",
       "  Number.prototype.formatMoney = function(decPlaces, thouSeparator, decSeparator) {\n",
       "    var n = this, decPlaces = isNaN(decPlaces = Math.abs(decPlaces)) ? 2 : decPlaces,\n",
       "        decSeparator = decSeparator == undefined ? \".\" : decSeparator,\n",
       "        thouSeparator = thouSeparator == undefined ? \",\" : thouSeparator,\n",
       "        sign = n < 0 ? \"-\" : \"\",\n",
       "        i = parseInt(n = Math.abs(+n || 0).toFixed(decPlaces)) + \"\",\n",
       "        j = (j = i.length) > 3 ? j % 3 : 0;\n",
       "    return sign + (j ? i.substr(0, j) + thouSeparator : \"\") + i.substr(j).replace(/(\\d{3})(?=\\d)/g, \"$1\" + thouSeparator) + (decPlaces ? decSeparator + Math.abs(n - i).toFixed(decPlaces).slice(2) : \"\");\n",
       "  };\n",
       "  \n",
       "  if (typeof Object.assign != 'function') {\n",
       "    Object.defineProperty(Object, \"assign\", {\n",
       "      value: function assign(target, varArgs) { \n",
       "        'use strict';\n",
       "        if (target == null) { \n",
       "          throw new TypeError('Cannot convert undefined or null to object')}\n",
       "        var to = Object(target);\n",
       "        for (var index = 1; index < arguments.length; index++) {\n",
       "          var nextSource = arguments[index];\n",
       "  \n",
       "          if (nextSource != null) {\n",
       "            for (var nextKey in nextSource) {\n",
       "              if (Object.prototype.hasOwnProperty.call(nextSource, nextKey)) {\n",
       "                to[nextKey] = nextSource[nextKey];\n",
       "              }\n",
       "            }\n",
       "          }\n",
       "        }\n",
       "        return to;\n",
       "      },\n",
       "      writable: true,\n",
       "      configurable: true\n",
       "    });\n",
       "  }\n",
       "  \n",
       "  String.prototype.formatMoney = function(decPlaces, thouSeparator, decSeparator) {\n",
       "    var n = parseFloat(this); return n.formatMoney(decPlaces, thouSeparator, decSeparator);\n",
       "  };\n",
       "  var breadCrumUrl = {url: \"\", params: {} } ;;\n",
       "$(document).ready(function() { require(['jquery'], function (jquery) {  \n",
       "$('#footer').css('margin-left', '-35px')\n",
       "$('#ares_page_content').css('margin-left', '-35px')\n",
       "\n",
       "      externallink_2076775993472_data['params'] = {  } ;\n",
       "      ExternalLink($('#externallink_2076775993472 a'), externallink_2076775993472_data) ; \n",
       "       }) })\n",
       "</script>"
      ],
      "text/plain": [
       "<IPython.core.display.HTML object>"
      ]
     },
     "metadata": {},
     "output_type": "display_data"
    }
   ],
   "source": [
    "import sys\n",
    "sys.path.append(r\"C:\\Users\\olivier\\Documents\\youpi\\python-ares\")\n",
    "\n",
    "import ares.Lib.Ares as Ares\n",
    "\n",
    "aresObj = Ares.ReportAPI()\n",
    "aresObj.externallink({'text': 'More examples on the Official Website', 'url': 'http://nvd3.org/'})\n",
    "aresObj.display()"
   ]
  },
  {
   "cell_type": "code",
   "execution_count": 2,
   "metadata": {},
   "outputs": [],
   "source": [
    "import random\n",
    "\n",
    "step = 10\n",
    "series = 5\n",
    "xAxisCat = ['A', 'B', 'C', 'D', 'E']\n",
    "recordSet = {'categories': [xAxisCat[int(random.random()*100) % len(xAxisCat)] for i in range(step)]}\n",
    "for i in range(series):\n",
    "    recordSet[\"col%s\" % i] = [random.random()*100 for _ in range(step)]"
   ]
  },
  {
   "cell_type": "code",
   "execution_count": 3,
   "metadata": {},
   "outputs": [
    {
     "name": "stdout",
     "output_type": "stream",
     "text": [
      "[\"'jquery': 'https://cdnjs.cloudflare.com/ajax/libs/jquery/3.3.1/jquery.min'\", \"'bootstrap': 'https://stackpath.bootstrapcdn.com/bootstrap/4.2.1/js/bootstrap.bundle.min'\", \"'datatables': 'https://cdnjs.cloudflare.com/ajax/libs/datatables/1.10.19/js/jquery.dataTables.min'\", \"'pdfmake': 'https://cdnjs.cloudflare.com/ajax/libs/pdfmake/0.1.37/pdfmake.min'\", \"'vfs_fonts': 'https://cdnjs.cloudflare.com/ajax/libs/pdfmake/0.1.37/vfs_fonts'\", \"'jszip': 'https://cdnjs.cloudflare.com/ajax/libs/jszip/3.1.5/jszip.min'\", \"'d3': 'https://cdnjs.cloudflare.com/ajax/libs/d3/3.5.17/d3.min'\", \"'nvd3': 'https://cdnjs.cloudflare.com/ajax/libs/nvd3/1.8.6/nv.d3.min'\"]\n"
     ]
    },
    {
     "data": {
      "text/html": [
       "<link rel=\"stylesheet\" href=\"https://cdnjs.cloudflare.com/ajax/libs/nvd3/1.8.6/nv.d3.min.css\" type=\"text/css\">\n",
       "<link rel=\"stylesheet\" href=\"https://cdn.datatables.net/buttons/1.5.2/css/buttons.bootstrap4.min.css\" type=\"text/css\">\n",
       "<link rel=\"stylesheet\" href=\"https://cdn.datatables.net/buttons/1.5.2/css/buttons.dataTables.min.css\" type=\"text/css\">\n",
       "<link rel=\"stylesheet\" href=\"https://cdn.datatables.net/responsive/2.1.1/css/responsive.dataTables.min.css\" type=\"text/css\">\n",
       "<link rel=\"stylesheet\" href=\"https://cdn.datatables.net/1.10.19/css/jquery.dataTables.min.css\" type=\"text/css\">\n",
       "<link rel=\"stylesheet\" href=\"https://use.fontawesome.com/releases/v5.1.0/css/all.css\" type=\"text/css\">\n",
       "<style>\n",
       ".py_cssdivchart {margin:0 0 5px 0; padding:5px; outline:none; border:1px solid #F4F4F4}\n",
       ".py_cssdivchart:hover {border:1px solid #6285b0}\n",
       "</style>\n",
       "<div><div  style=\"width:100%;height:300px;position:relative\" class=\"py_cssdivchart\" id=\"chart_2076737134720_container\">  \n",
       "        <svg id=\"chart_2076737134720\"></svg>\n",
       "        <span style=\"bottom:0;margin:0 0 5px 0;width:100%\">\n",
       "          <i style=\"margin:0 5px 0 0\" class=\"fas fa-clock\"></i>Last update: <div id=\"chart_2076737134720_time\" style=\"display:inline-block\"></div>\n",
       "          <div style=\"display:inline-block;float:right;margin-right:0px\">\n",
       "            \n",
       "          </div>\n",
       "        </span>\n",
       "      </div></div>\n",
       "<script>\n",
       "require.config({ paths: {'jquery': 'https://cdnjs.cloudflare.com/ajax/libs/jquery/3.3.1/jquery.min',\n",
       "  'bootstrap': 'https://stackpath.bootstrapcdn.com/bootstrap/4.2.1/js/bootstrap.bundle.min',\n",
       "  'datatables': 'https://cdnjs.cloudflare.com/ajax/libs/datatables/1.10.19/js/jquery.dataTables.min',\n",
       "  'pdfmake': 'https://cdnjs.cloudflare.com/ajax/libs/pdfmake/0.1.37/pdfmake.min',\n",
       "  'vfs_fonts': 'https://cdnjs.cloudflare.com/ajax/libs/pdfmake/0.1.37/vfs_fonts',\n",
       "  'jszip': 'https://cdnjs.cloudflare.com/ajax/libs/jszip/3.1.5/jszip.min',\n",
       "  'd3': 'https://cdnjs.cloudflare.com/ajax/libs/d3/3.5.17/d3.min',\n",
       "  'nvd3': 'https://cdnjs.cloudflare.com/ajax/libs/nvd3/1.8.6/nv.d3.min'} });\n",
       " var recordset_2077053235632 = [{\"categories\": \"A\", \"col0\": 38.72821754800909, \"col1\": 63.35349171224299, \"col2\": 40.90374213107767, \"col3\": 39.56921036919403, \"col4\": 71.63802276894467}, {\"categories\": \"B\", \"col0\": 24.74674549725012, \"col1\": 93.16872004062992, \"col2\": 51.54058288223651, \"col3\": 29.03242183469591, \"col4\": 93.37145576197501}, {\"categories\": \"B\", \"col0\": 48.300064319935146, \"col1\": 3.2740350050087796, \"col2\": 94.61104224834787, \"col3\": 3.33821607945215, \"col4\": 65.41037275491198}, {\"categories\": \"B\", \"col0\": 2.853776360356086, \"col1\": 50.27212821925771, \"col2\": 40.523895305089916, \"col3\": 56.44647999481772, \"col4\": 33.242320292605264}, {\"categories\": \"C\", \"col0\": 33.159606960164055, \"col1\": 3.0554549132374986, \"col2\": 16.214579397405828, \"col3\": 14.377481517116053, \"col4\": 46.003998314506234}, {\"categories\": \"D\", \"col0\": 45.50996739126732, \"col1\": 60.64727288294858, \"col2\": 76.95745728655716, \"col3\": 39.61090509999923, \"col4\": 50.8630937189008}, {\"categories\": \"D\", \"col0\": 91.4863151585409, \"col1\": 98.93635164059148, \"col2\": 98.22434389761256, \"col3\": 72.52798136628272, \"col4\": 72.3022457353577}, {\"categories\": \"E\", \"col0\": 99.22829704608696, \"col1\": 49.48194123604955, \"col2\": 21.147337306358704, \"col3\": 59.66908043119078, \"col4\": 52.32397462474888}, {\"categories\": \"E\", \"col0\": 37.934633333256585, \"col1\": 11.440722622057653, \"col2\": 51.028050530791724, \"col3\": 66.94267151457142, \"col4\": 8.501382634372623}, {\"categories\": \"E\", \"col0\": 85.66466136218412, \"col1\": 38.633947240527, \"col2\": 44.09518293308252, \"col3\": 6.807971358440534, \"col4\": 44.967701931490986}];var args_2077053104592 = {\"keys_0\": [\"categories\"], \"values_0\": [\"col1\", \"col2\"], \"chart_0_1\": [\"col1\", \"col2\"], \"chart_1_1\": \"categories\"} ;var chart_2076737134720_markDownFnc = false;function buildBreadCrum() { var params = [] ; for(var key in breadCrumUrl['params']) { params.push(key + \"=\" + breadCrumUrl['params'][key]) ;  }var breadCrumResult = breadCrumUrl['url'] ;if (params.length > 0) { breadCrumResult = breadCrumResult + \"?\" + params.join(\"&\")  ;}return breadCrumResult; ;};function aresObj(htmlCode) { if (htmlCode in breadCrumUrl.params) {return breadCrumUrl.params[htmlCode];} else { return null } ;};function FormatFilterDt(filterVal) { var dt = filterVal.split('-') ; return dt[2] + '/' + dt[1] + '/'+ dt[0] ; ;};function GetClipBoardData(event) { if (window.clipboardData == undefined) { alert('this only works with IE') ; } else { return window.clipboardData.getData('text')}; ;};function LoadingPopup(reportName) { $('#popup_loading').find(\"div\").html(\"Loading \" + reportName + \"...\"); $('#popup_loading_back').show(); $('#popup_loading').show(); ;};function GoToReport(url, newWindows, widthLoading) { if(newWindows) { window.open(url, '_blank') ; }else {if ( widthLoading ){$('#popup_loading').find(\"div\").html(\"Loading \" + url + \"...\");$('#popup_loading_back').show(); $('#popup_loading').show(); }window.location.href = url;} ;};function Today() { now = new Date();year = \"\" + now.getFullYear();month = \"\" + (now.getMonth() + 1); if (month.length == 1) { month = \"0\" + month; }day = \"\" + now.getDate(); if (day.length == 1) { day = \"0\" + day; }hour = \"\" + now.getHours(); if (hour.length == 1) { hour = \"0\" + hour; }minute = \"\" + now.getMinutes(); if (minute.length == 1) { minute = \"0\" + minute; }second = \"\" + now.getSeconds(); if (second.length == 1) { second = \"0\" + second; }return year + \"-\" + month + \"-\" + day + \" \" + hour + \":\" + minute + \":\" + second; ;};function CleanText(text) { return text.trim().replace(/\\W+/g, ''); ;};function CssStyleBuilder(params) { cssParams = [] ;for( var i in params) { cssParams.push( i +\":\"+ params[i]) ; }return cssParams.join(\";\"); ;};function CopyToClipboard() { var url = window.location.href.split('?')[0];if (url.slice(-1) == '#') { url = url.slice(0, -1); };var splitParams = buildBreadCrum().split('?') ; var params = \"\";if (splitParams.length > 1 ) { params = splitParams.slice(1, splitParams.length); }if (window.clipboardData) { window.clipboardData.setData('Text', url + '?' + params); }else {var selection = window.getSelection();$(\"body\").append(\"<div id='breadcrumb_url'>\"+ url + '?' + params +\"</div>\");var range = document.createRange();range.selectNodeContents($('#breadcrumb_url').get(0));selection.removeAllRanges(); selection.addRange(range);document.execCommand(\"Copy\") ; $('#breadcrumb_url').remove() ;var div = $('<div>Report Parameters copied to ClickBoard !</div>').css({'display': 'block', 'position': 'fixed', 'top': '40px', 'right': '200px','text-align': 'center', 'padding': '5px', 'color': 'white', 'border-radius': '.4em', 'z-index': 10010, 'background-color': '#293846', \"width\": '200px'});$('body').append(div); setTimeout(function() {div.remove()}, 2000) } ;};function FormGoTo(url, method) { var form = $('<form method=\"'+ method +'\" action='+ url +'></form>') ; NO_UNLOAD = true;for(var key in breadCrumUrl['params']) {form.append( '<input type=\"hidden\" name=\"'+ key +'\" value=\"' + breadCrumUrl['params'][key] + '\">' ) } ;form.appendTo('body').submit(); ;};function toAresMarkup(text) { text = text.replace(/\\*\\*(.*?)\\*\\*/g, \"<b>$1</b>\");text = text.replace(/\\*\\*\\*(.*?)\\*\\*\\*/g, \"<b><i>$1</i></b>\");text = text.replace(/\\*(.*?)\\*/g, \"<i>$1</i>\");text = text.replace(/__(.*?)__/g, \"<u>$1</u>\");text = text.replace(/~~(.*?)~~/g, \"<i>$1</i>\");text = text.replace(/--(.*?)--/g, \"<del>$1</del>\");text = text.replace(/<<(.*?)>>/g, \"<a href='$1'>Link</a>\");text = text.replace(/\\!\\((.*?)\\)/g, \"<i class='$1'></i>\");text = text.replace(/\\[(.*?)\\]\\(https\\\\:(.*?)\\)/g, \"<a href='$2' target='_blank'>$1</a>\");text = text.replace(/\\[(.*?)\\]\\(http\\\\:(.*?)\\)/g, \"<a href='$2' target='_blank'>$1</a>\");text = text.replace(/\\[(.*?)\\]\\((.*?)\\)/g, \"<a href='$2'>$1</a>\");if ( (text == '') || ( text == '__' ) ) { text = '<br />'; }return text ; ;};function getDict(object, key, defaultValue) { var result = object[key];return (typeof result !== \"undefined\") ? result : defaultValue; ;};function ares_sum(data, keys, values) { var result = []; if (data !== null){if ((keys == null) || (values == null)){result = data}else{var temp = {}; var order = [];data.forEach( function(rec) {var aggKey = []; keys.forEach(function(k){ aggKey.push(rec[k])});var newKey = aggKey.join(\"#\"); if (!(newKey in temp)) {order.push(newKey)};if (!(newKey in temp)) {temp[newKey] = {}};values.forEach(function(v) {if (!(v in temp[newKey])) {temp[newKey][v] = rec[v]} else {temp[newKey][v] += rec[v]}})});order.forEach(function(label) {var rec = {}; var splitKey = label.split(\"#\");keys.forEach(function(k, i) {rec[k] = splitKey[i];});for(var v in temp[label]) {rec[v] = temp[label][v]};result.push(rec)})};} else {data = []}; return result ;};function AresNVD3(data, seriesNames, xAxis) { var result = []; if (data !== null){var temp = {}; var labels = []; var uniqLabels = {};seriesNames.forEach(function(series){temp[series] = {}}) ;data.forEach(function(rec) {seriesNames.forEach(function(name){if(rec[name] !== undefined) {if (!(rec[xAxis] in uniqLabels)){labels.push(rec[xAxis]); uniqLabels[rec[xAxis]] = true};temp[name][rec[xAxis]] = rec[name]}})});seriesNames.forEach(function(series){dataSet = {key: series, values: [], labels: labels};labels.forEach(function(x, i){var value = temp[series][x];if (isNaN(value)) { value = null};if (value !== undefined) {dataSet.values.push({y: value, x: i, label: x})}}); result.push(dataSet)})} else {data = []}; return result ;};String.prototype.leftTrim = function() { return this.replace(/^\\s+/, \"\"); } ;if (!String.prototype.startsWith) {String.prototype.startsWith = function(searchString, position){ return this.substr(position || 0, searchString.length) === searchString; };}\n",
       "  Number.prototype.formatMoney = function(decPlaces, thouSeparator, decSeparator) {\n",
       "    var n = this, decPlaces = isNaN(decPlaces = Math.abs(decPlaces)) ? 2 : decPlaces,\n",
       "        decSeparator = decSeparator == undefined ? \".\" : decSeparator,\n",
       "        thouSeparator = thouSeparator == undefined ? \",\" : thouSeparator,\n",
       "        sign = n < 0 ? \"-\" : \"\",\n",
       "        i = parseInt(n = Math.abs(+n || 0).toFixed(decPlaces)) + \"\",\n",
       "        j = (j = i.length) > 3 ? j % 3 : 0;\n",
       "    return sign + (j ? i.substr(0, j) + thouSeparator : \"\") + i.substr(j).replace(/(\\d{3})(?=\\d)/g, \"$1\" + thouSeparator) + (decPlaces ? decSeparator + Math.abs(n - i).toFixed(decPlaces).slice(2) : \"\");\n",
       "  };\n",
       "  \n",
       "  if (typeof Object.assign != 'function') {\n",
       "    Object.defineProperty(Object, \"assign\", {\n",
       "      value: function assign(target, varArgs) { \n",
       "        'use strict';\n",
       "        if (target == null) { \n",
       "          throw new TypeError('Cannot convert undefined or null to object')}\n",
       "        var to = Object(target);\n",
       "        for (var index = 1; index < arguments.length; index++) {\n",
       "          var nextSource = arguments[index];\n",
       "  \n",
       "          if (nextSource != null) {\n",
       "            for (var nextKey in nextSource) {\n",
       "              if (Object.prototype.hasOwnProperty.call(nextSource, nextKey)) {\n",
       "                to[nextKey] = nextSource[nextKey];\n",
       "              }\n",
       "            }\n",
       "          }\n",
       "        }\n",
       "        return to;\n",
       "      },\n",
       "      writable: true,\n",
       "      configurable: true\n",
       "    });\n",
       "  }\n",
       "  \n",
       "  String.prototype.formatMoney = function(decPlaces, thouSeparator, decSeparator) {\n",
       "    var n = parseFloat(this); return n.formatMoney(decPlaces, thouSeparator, decSeparator);\n",
       "  };\n",
       "  var breadCrumUrl = {url: \"\", params: {} } ;;\n",
       "$(document).ready(function() { require(['jquery'], function (jquery) { require([\"bootstrap\", \"datatables\", \"pdfmake\", \"vfs_fonts\", \"jszip\", \"d3\", \"nvd3\"], function (bootstrap, datatables, pdfmake, vfs_fonts, jszip, d3, nvd3) { \n",
       "$('#footer').css('margin-left', '-35px')\n",
       "$('#ares_page_content').css('margin-left', '-35px')\n",
       "\n",
       "      window['chart_2076737134720_chart'] = nv.models.multiBarChart().color([\"#293342\", \"#334D6B\", \"#aabbee\", \"#6677bb\", \"#8B98E8\", \"#005566\", \"#269493\", \"#66bbaa\", \"#bbeeee\", \"#4e1c72\", \"#bb88ff\", \"#d1b3ff\", \"#d15f32\", \"#ffccaa\", \"#ffeebb\", \"#485d8c\"]).reduceXTicks(true).showControls(true).groupSpacing(0.1).rotateLabels(-15).showLegend(true);; var chartData = AresNVD3(ares_sum(recordset_2077053235632, window['args_2077053104592']['keys_0'], window['args_2077053104592']['values_0']), window['args_2077053104592']['chart_0_1'],window['args_2077053104592']['chart_1_1']);\n",
       "      if (chartData[0].labels !== undefined) {\n",
       "        window['chart_2076737134720_chart'].xAxis.tickFormat(function(d){return chartData[0].labels[d]});};\n",
       "      d3.select($('#chart_2076737134720').get(0)).datum( chartData ).call(window['chart_2076737134720_chart']);\n",
       "      d3.select($('#chart_2076737134720').get(0)).append(\"text\").attr(\"x\", $('#chart_2076737134720').width() /2).attr(\"y\", 10).attr(\"text-anchor\", \"middle\").style(\"font-weight\", \"bold\").text(\"\"); \n",
       "      nv.utils.windowResize(window['chart_2076737134720_chart'].update); var d = new Date(); $(\"#chart_2076737134720_time\").html( d.getFullYear() + \"-\" + d.getMonth() + \"-\" + d.getDate() + \" \" + d.getHours() + \":\" +  d.getMinutes() + \":\" + d.getSeconds() );    \n",
       "       }) }) })\n",
       "</script>"
      ],
      "text/plain": [
       "<IPython.core.display.HTML object>"
      ]
     },
     "metadata": {},
     "output_type": "display_data"
    }
   ],
   "source": [
    "import ares.Lib.Ares as Ares\n",
    "\n",
    "aresObj = Ares.ReportAPI()\n",
    "df = aresObj.df(recordSet)\n",
    "aresObj.chart('bar', df, seriesNames=['col1', 'col2'], xAxis='categories', chartFamily='NVD3')\n",
    "aresObj.display()"
   ]
  },
  {
   "cell_type": "code",
   "execution_count": null,
   "metadata": {},
   "outputs": [],
   "source": []
  }
 ],
 "metadata": {
  "kernelspec": {
   "display_name": "Python 3",
   "language": "python",
   "name": "python3"
  },
  "language_info": {
   "codemirror_mode": {
    "name": "ipython",
    "version": 3
   },
   "file_extension": ".py",
   "mimetype": "text/x-python",
   "name": "python",
   "nbconvert_exporter": "python",
   "pygments_lexer": "ipython3",
   "version": "3.6.7"
  }
 },
 "nbformat": 4,
 "nbformat_minor": 2
}
