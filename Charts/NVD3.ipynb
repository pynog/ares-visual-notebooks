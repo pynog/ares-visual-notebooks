{
 "cells": [
  {
   "cell_type": "markdown",
   "metadata": {},
   "source": [
    "<img align=\"left\" src=\"../Ares_PetitIcon.PNG\">"
   ]
  },
  {
   "cell_type": "code",
   "execution_count": 1,
   "metadata": {},
   "outputs": [
    {
     "data": {
      "text/html": [
       "\n",
       "<style>\n",
       ".py_cssdivnoborder {margin:0; font-family:arial; clear:both; padding:0; border:0; outline:none}\n",
       "</style>\n",
       "<div><div id=\"externallink_1483193794856\"   class=\"py_cssdivnoborder\"><a target=\"_blank\" style=\"text-decoration:none\"></a></div></div>\n",
       "<script>\n",
       "require.config({ paths: {'jquery': 'https://cdnjs.cloudflare.com/ajax/libs/jquery/3.3.1/jquery.min'} });\n",
       " var externallink_1483193794856_data = {\"text\": \"More examples on the Official Website\", \"url\": \"http://nvd3.org/\", \"isJs\": false};var externallink_1483193794856_markDownFnc = false;function buildBreadCrum() { var params = [] ; for(var key in breadCrumUrl['params']) { params.push(key + \"=\" + breadCrumUrl['params'][key]) ;  }var breadCrumResult = breadCrumUrl['url'] ;if (params.length > 0) { breadCrumResult = breadCrumResult + \"?\" + params.join(\"&\")  ;}return breadCrumResult; ;};function aresObj(htmlCode) { if (htmlCode in breadCrumUrl.params) {return breadCrumUrl.params[htmlCode];} else { return null } ;};function FormatFilterDt(filterVal) { var dt = filterVal.split('-') ; return dt[2] + '/' + dt[1] + '/'+ dt[0] ; ;};function GetClipBoardData(event) { if (window.clipboardData == undefined) { alert('this only works with IE') ; } else { return window.clipboardData.getData('text')}; ;};function LoadingPopup(reportName) { $('#popup_loading').find(\"div\").html(\"Loading \" + reportName + \"...\"); $('#popup_loading_back').show(); $('#popup_loading').show(); ;};function GoToReport(url, newWindows, widthLoading) { if(newWindows) { window.open(url, '_blank') ; }else {if ( widthLoading ){$('#popup_loading').find(\"div\").html(\"Loading \" + url + \"...\");$('#popup_loading_back').show(); $('#popup_loading').show(); }window.location.href = url;} ;};function Today() { now = new Date();year = \"\" + now.getFullYear();month = \"\" + (now.getMonth() + 1); if (month.length == 1) { month = \"0\" + month; }day = \"\" + now.getDate(); if (day.length == 1) { day = \"0\" + day; }hour = \"\" + now.getHours(); if (hour.length == 1) { hour = \"0\" + hour; }minute = \"\" + now.getMinutes(); if (minute.length == 1) { minute = \"0\" + minute; }second = \"\" + now.getSeconds(); if (second.length == 1) { second = \"0\" + second; }return year + \"-\" + month + \"-\" + day + \" \" + hour + \":\" + minute + \":\" + second; ;};function CleanText(text) { return text.trim().replace(/\\W+/g, ''); ;};function CssStyleBuilder(params) { cssParams = [] ;for( var i in params) { cssParams.push( i +\":\"+ params[i]) ; }return cssParams.join(\";\"); ;};function CopyToClipboard() { var url = window.location.href.split('?')[0];if (url.slice(-1) == '#') { url = url.slice(0, -1); };var splitParams = buildBreadCrum().split('?') ; var params = \"\";if (splitParams.length > 1 ) { params = splitParams.slice(1, splitParams.length); }if (window.clipboardData) { window.clipboardData.setData('Text', url + '?' + params); }else {var selection = window.getSelection();$(\"body\").append(\"<div id='breadcrumb_url'>\"+ url + '?' + params +\"</div>\");var range = document.createRange();range.selectNodeContents($('#breadcrumb_url').get(0));selection.removeAllRanges(); selection.addRange(range);document.execCommand(\"Copy\") ; $('#breadcrumb_url').remove() ;var div = $('<div>Report Parameters copied to ClickBoard !</div>').css({'display': 'block', 'position': 'fixed', 'top': '40px', 'right': '200px','text-align': 'center', 'padding': '5px', 'color': 'white', 'border-radius': '.4em', 'z-index': 10010, 'background-color': '#293846', \"width\": '200px'});$('body').append(div); setTimeout(function() {div.remove()}, 2000) } ;};function FormGoTo(url, method) { var form = $('<form method=\"'+ method +'\" action='+ url +'></form>') ; NO_UNLOAD = true;for(var key in breadCrumUrl['params']) {form.append( '<input type=\"hidden\" name=\"'+ key +'\" value=\"' + breadCrumUrl['params'][key] + '\">' ) } ;form.appendTo('body').submit(); ;};function toAresMarkup(text) { text = text.replace(/\\*\\*(.*?)\\*\\*/g, \"<b>$1</b>\");text = text.replace(/\\*\\*\\*(.*?)\\*\\*\\*/g, \"<b><i>$1</i></b>\");text = text.replace(/\\*(.*?)\\*/g, \"<i>$1</i>\");text = text.replace(/__(.*?)__/g, \"<u>$1</u>\");text = text.replace(/~~(.*?)~~/g, \"<i>$1</i>\");text = text.replace(/--(.*?)--/g, \"<del>$1</del>\");text = text.replace(/<<(.*?)>>/g, \"<a href='$1'>Link</a>\");text = text.replace(/\\!\\((.*?)\\)/g, \"<i class='$1'></i>\");text = text.replace(/\\[(.*?)\\]\\(https\\\\:(.*?)\\)/g, \"<a href='$2' target='_blank'>$1</a>\");text = text.replace(/\\[(.*?)\\]\\(http\\\\:(.*?)\\)/g, \"<a href='$2' target='_blank'>$1</a>\");text = text.replace(/\\[(.*?)\\]\\((.*?)\\)/g, \"<a href='$2'>$1</a>\");if ( (text == '') || ( text == '__' ) ) { text = '<br />'; }return text ; ;};function getDict(object, key, defaultValue) { var result = object[key];return (typeof result !== \"undefined\") ? result : defaultValue; ;};function ExternalLink(htmlObj, data) { if (data.icon != undefined) { htmlObj.append('<i class=\"'+ data.icon +'\"></i>&nbsp;&nbsp;')}if (data.color != undefined) { htmlObj.css('color', data.color) ;}if (data.bold != undefined) { htmlObj.css('font-weight', 'bold') ;}if (data.size != undefined) { htmlObj.css('font-size', data.size + 'px') ;}htmlObj.append(data.text);if (!data.isJs) {htmlObj.attr('href', data.url)}else {htmlObj.on('click', function(event) {var urlParts = [];for(var key in data.params){urlParts.push(key + \"=\" + data.params[key]())}htmlObj.attr('href', data.url + \"?\" + urlParts.join('&'))}) ;} ;};String.prototype.leftTrim = function() { return this.replace(/^\\s+/, \"\"); } ;if (!String.prototype.startsWith) {String.prototype.startsWith = function(searchString, position){ return this.substr(position || 0, searchString.length) === searchString; };}\n",
       "  Number.prototype.formatMoney = function(decPlaces, thouSeparator, decSeparator) {\n",
       "    var n = this, decPlaces = isNaN(decPlaces = Math.abs(decPlaces)) ? 2 : decPlaces,\n",
       "        decSeparator = decSeparator == undefined ? \".\" : decSeparator,\n",
       "        thouSeparator = thouSeparator == undefined ? \",\" : thouSeparator,\n",
       "        sign = n < 0 ? \"-\" : \"\",\n",
       "        i = parseInt(n = Math.abs(+n || 0).toFixed(decPlaces)) + \"\",\n",
       "        j = (j = i.length) > 3 ? j % 3 : 0;\n",
       "    return sign + (j ? i.substr(0, j) + thouSeparator : \"\") + i.substr(j).replace(/(\\d{3})(?=\\d)/g, \"$1\" + thouSeparator) + (decPlaces ? decSeparator + Math.abs(n - i).toFixed(decPlaces).slice(2) : \"\");\n",
       "  };\n",
       "  \n",
       "  if (typeof Object.assign != 'function') {\n",
       "    Object.defineProperty(Object, \"assign\", {\n",
       "      value: function assign(target, varArgs) { \n",
       "        'use strict';\n",
       "        if (target == null) { \n",
       "          throw new TypeError('Cannot convert undefined or null to object')}\n",
       "        var to = Object(target);\n",
       "        for (var index = 1; index < arguments.length; index++) {\n",
       "          var nextSource = arguments[index];\n",
       "  \n",
       "          if (nextSource != null) {\n",
       "            for (var nextKey in nextSource) {\n",
       "              if (Object.prototype.hasOwnProperty.call(nextSource, nextKey)) {\n",
       "                to[nextKey] = nextSource[nextKey];\n",
       "              }\n",
       "            }\n",
       "          }\n",
       "        }\n",
       "        return to;\n",
       "      },\n",
       "      writable: true,\n",
       "      configurable: true\n",
       "    });\n",
       "  }\n",
       "  \n",
       "  String.prototype.formatMoney = function(decPlaces, thouSeparator, decSeparator) {\n",
       "    var n = parseFloat(this); return n.formatMoney(decPlaces, thouSeparator, decSeparator);\n",
       "  };\n",
       "  var breadCrumUrl = {url: \"\", params: {} } ;;\n",
       "$(document).ready(function() { require(['jquery'], function (jquery) {  \n",
       "$('#footer').css('margin-left', '-35px')\n",
       "$('#ares_page_content').css('margin-left', '-35px')\n",
       "\n",
       "      externallink_1483193794856_data['params'] = {  } ;\n",
       "      ExternalLink($('#externallink_1483193794856 a'), externallink_1483193794856_data) ; \n",
       "       }) })\n",
       "</script>"
      ],
      "text/plain": [
       "<IPython.core.display.HTML object>"
      ]
     },
     "metadata": {},
     "output_type": "display_data"
    }
   ],
   "source": [
    "import ares.Lib.Ares as Ares\n",
    "\n",
    "aresObj = Ares.ReportAPI()\n",
    "aresObj.externallink({'text': 'More examples on the Official Website', 'url': 'http://nvd3.org/'})\n",
    "aresObj.display()"
   ]
  },
  {
   "cell_type": "code",
   "execution_count": 2,
   "metadata": {},
   "outputs": [],
   "source": [
    "import random\n",
    "\n",
    "step = 10\n",
    "series = 5\n",
    "xAxisCat = ['A', 'B', 'C', 'D', 'E']\n",
    "recordSet = {'categories': [xAxisCat[int(random.random()*100) % len(xAxisCat)] for i in range(step)]}\n",
    "for i in range(series):\n",
    "    recordSet[\"col%s\" % i] = [random.random()*100 for _ in range(step)]"
   ]
  },
  {
   "cell_type": "code",
   "execution_count": 4,
   "metadata": {},
   "outputs": [
    {
     "data": {
      "text/html": [
       "<link rel=\"stylesheet\" href=\"https://cdnjs.cloudflare.com/ajax/libs/nvd3/1.8.6/nv.d3.min.css\" type=\"text/css\">\n",
       "<link rel=\"stylesheet\" href=\"https://cdn.datatables.net/buttons/1.5.2/css/buttons.bootstrap4.min.css\" type=\"text/css\">\n",
       "<link rel=\"stylesheet\" href=\"https://cdn.datatables.net/buttons/1.5.2/css/buttons.dataTables.min.css\" type=\"text/css\">\n",
       "<link rel=\"stylesheet\" href=\"https://cdn.datatables.net/responsive/2.1.1/css/responsive.dataTables.min.css\" type=\"text/css\">\n",
       "<link rel=\"stylesheet\" href=\"https://cdn.datatables.net/1.10.19/css/jquery.dataTables.min.css\" type=\"text/css\">\n",
       "<link rel=\"stylesheet\" href=\"https://use.fontawesome.com/releases/v5.1.0/css/all.css\" type=\"text/css\">\n",
       "<style>\n",
       ".py_cssdivchart {margin:0 0 5px 0; padding:5px; outline:none; border:1px solid #F4F4F4}\n",
       ".py_cssdivchart:hover {border:1px solid #6285b0}\n",
       "</style>\n",
       "<div><div  style=\"width:100%;height:300px;position:relative\" class=\"py_cssdivchart\" id=\"chart_1483474474376_container\">  \n",
       "        <svg id=\"chart_1483474474376\"></svg>\n",
       "        <span style=\"bottom:0;margin:0 0 5px 0;width:100%\">\n",
       "          <i style=\"margin:0 5px 0 0\" class=\"fas fa-clock\"></i>Last update: <div id=\"chart_1483474474376_time\" style=\"display:inline-block\"></div>\n",
       "          <div style=\"display:inline-block;float:right;margin-right:0px\">\n",
       "            \n",
       "          </div>\n",
       "        </span>\n",
       "      </div></div>\n",
       "<script>\n",
       "require.config({ paths: {'pdfmake': 'https://cdnjs.cloudflare.com/ajax/libs/pdfmake/0.1.37/pdfmake.min',\n",
       "  'vfs_fonts': 'https://cdnjs.cloudflare.com/ajax/libs/pdfmake/0.1.37/vfs_fonts',\n",
       "  'jszip': 'https://cdnjs.cloudflare.com/ajax/libs/jszip/3.1.5/jszip.min',\n",
       "  'jquery': 'https://cdnjs.cloudflare.com/ajax/libs/jquery/3.3.1/jquery.min',\n",
       "  'bootstrap': 'https://stackpath.bootstrapcdn.com/bootstrap/4.2.1/js/bootstrap.bundle.min',\n",
       "  'datatables': 'https://cdnjs.cloudflare.com/ajax/libs/datatables/1.10.19/js/jquery.dataTables.min',\n",
       "  'd3': 'https://cdnjs.cloudflare.com/ajax/libs/d3/5.8.2/d3.min',\n",
       "  'nvd3': 'https://cdnjs.cloudflare.com/ajax/libs/nvd3/1.8.6/nv.d3.min'} });\n",
       " var recordset_1483193762224 = [{\"categories\": \"A\", \"col0\": 18.940301844865417, \"col1\": 68.38905438580439, \"col2\": 10.186125204410823, \"col3\": 92.5669746726616, \"col4\": 74.60595369253832}, {\"categories\": \"B\", \"col0\": 11.293248038237746, \"col1\": 1.5715859776146646, \"col2\": 71.75182850933682, \"col3\": 4.3383417932085555, \"col4\": 54.853032217467536}, {\"categories\": \"B\", \"col0\": 35.91869063438023, \"col1\": 95.56038361711119, \"col2\": 9.625843689412994, \"col3\": 25.893960633548087, \"col4\": 8.651175668443523}, {\"categories\": \"B\", \"col0\": 48.826524997398835, \"col1\": 42.785531022339185, \"col2\": 34.6581770498806, \"col3\": 94.06274604579859, \"col4\": 55.660647325588656}, {\"categories\": \"C\", \"col0\": 92.2599886041304, \"col1\": 77.61291315483359, \"col2\": 19.851751850077203, \"col3\": 34.60946627310646, \"col4\": 19.285475875471526}, {\"categories\": \"C\", \"col0\": 23.58803744968101, \"col1\": 90.01532096219218, \"col2\": 41.47156067542921, \"col3\": 37.7657800733612, \"col4\": 9.87803809945772}, {\"categories\": \"D\", \"col0\": 33.790232406285426, \"col1\": 19.660339300059015, \"col2\": 49.833868986694796, \"col3\": 41.714920442235425, \"col4\": 52.00002421502362}, {\"categories\": \"E\", \"col0\": 81.31438988715082, \"col1\": 6.866701167593381, \"col2\": 73.51301512921515, \"col3\": 71.26661371733071, \"col4\": 65.68968024779417}, {\"categories\": \"E\", \"col0\": 81.65262601702094, \"col1\": 63.5185879017959, \"col2\": 58.08312165083607, \"col3\": 40.4769606649001, \"col4\": 14.19289652747564}, {\"categories\": \"E\", \"col0\": 33.18999240791559, \"col1\": 22.111749500964596, \"col2\": 10.99079568492619, \"col3\": 29.907720688276463, \"col4\": 60.975979220843065}];var args_1483470728104 = {\"keys_0\": [\"categories\"], \"values_0\": [\"col1\", \"col2\"], \"chart_0_1\": [\"col1\", \"col2\"], \"chart_1_1\": \"categories\"} ;var chart_1483474474376_markDownFnc = false;function buildBreadCrum() { var params = [] ; for(var key in breadCrumUrl['params']) { params.push(key + \"=\" + breadCrumUrl['params'][key]) ;  }var breadCrumResult = breadCrumUrl['url'] ;if (params.length > 0) { breadCrumResult = breadCrumResult + \"?\" + params.join(\"&\")  ;}return breadCrumResult; ;};function aresObj(htmlCode) { if (htmlCode in breadCrumUrl.params) {return breadCrumUrl.params[htmlCode];} else { return null } ;};function FormatFilterDt(filterVal) { var dt = filterVal.split('-') ; return dt[2] + '/' + dt[1] + '/'+ dt[0] ; ;};function GetClipBoardData(event) { if (window.clipboardData == undefined) { alert('this only works with IE') ; } else { return window.clipboardData.getData('text')}; ;};function LoadingPopup(reportName) { $('#popup_loading').find(\"div\").html(\"Loading \" + reportName + \"...\"); $('#popup_loading_back').show(); $('#popup_loading').show(); ;};function GoToReport(url, newWindows, widthLoading) { if(newWindows) { window.open(url, '_blank') ; }else {if ( widthLoading ){$('#popup_loading').find(\"div\").html(\"Loading \" + url + \"...\");$('#popup_loading_back').show(); $('#popup_loading').show(); }window.location.href = url;} ;};function Today() { now = new Date();year = \"\" + now.getFullYear();month = \"\" + (now.getMonth() + 1); if (month.length == 1) { month = \"0\" + month; }day = \"\" + now.getDate(); if (day.length == 1) { day = \"0\" + day; }hour = \"\" + now.getHours(); if (hour.length == 1) { hour = \"0\" + hour; }minute = \"\" + now.getMinutes(); if (minute.length == 1) { minute = \"0\" + minute; }second = \"\" + now.getSeconds(); if (second.length == 1) { second = \"0\" + second; }return year + \"-\" + month + \"-\" + day + \" \" + hour + \":\" + minute + \":\" + second; ;};function CleanText(text) { return text.trim().replace(/\\W+/g, ''); ;};function CssStyleBuilder(params) { cssParams = [] ;for( var i in params) { cssParams.push( i +\":\"+ params[i]) ; }return cssParams.join(\";\"); ;};function CopyToClipboard() { var url = window.location.href.split('?')[0];if (url.slice(-1) == '#') { url = url.slice(0, -1); };var splitParams = buildBreadCrum().split('?') ; var params = \"\";if (splitParams.length > 1 ) { params = splitParams.slice(1, splitParams.length); }if (window.clipboardData) { window.clipboardData.setData('Text', url + '?' + params); }else {var selection = window.getSelection();$(\"body\").append(\"<div id='breadcrumb_url'>\"+ url + '?' + params +\"</div>\");var range = document.createRange();range.selectNodeContents($('#breadcrumb_url').get(0));selection.removeAllRanges(); selection.addRange(range);document.execCommand(\"Copy\") ; $('#breadcrumb_url').remove() ;var div = $('<div>Report Parameters copied to ClickBoard !</div>').css({'display': 'block', 'position': 'fixed', 'top': '40px', 'right': '200px','text-align': 'center', 'padding': '5px', 'color': 'white', 'border-radius': '.4em', 'z-index': 10010, 'background-color': '#293846', \"width\": '200px'});$('body').append(div); setTimeout(function() {div.remove()}, 2000) } ;};function FormGoTo(url, method) { var form = $('<form method=\"'+ method +'\" action='+ url +'></form>') ; NO_UNLOAD = true;for(var key in breadCrumUrl['params']) {form.append( '<input type=\"hidden\" name=\"'+ key +'\" value=\"' + breadCrumUrl['params'][key] + '\">' ) } ;form.appendTo('body').submit(); ;};function toAresMarkup(text) { text = text.replace(/\\*\\*(.*?)\\*\\*/g, \"<b>$1</b>\");text = text.replace(/\\*\\*\\*(.*?)\\*\\*\\*/g, \"<b><i>$1</i></b>\");text = text.replace(/\\*(.*?)\\*/g, \"<i>$1</i>\");text = text.replace(/__(.*?)__/g, \"<u>$1</u>\");text = text.replace(/~~(.*?)~~/g, \"<i>$1</i>\");text = text.replace(/--(.*?)--/g, \"<del>$1</del>\");text = text.replace(/<<(.*?)>>/g, \"<a href='$1'>Link</a>\");text = text.replace(/\\!\\((.*?)\\)/g, \"<i class='$1'></i>\");text = text.replace(/\\[(.*?)\\]\\(https\\\\:(.*?)\\)/g, \"<a href='$2' target='_blank'>$1</a>\");text = text.replace(/\\[(.*?)\\]\\(http\\\\:(.*?)\\)/g, \"<a href='$2' target='_blank'>$1</a>\");text = text.replace(/\\[(.*?)\\]\\((.*?)\\)/g, \"<a href='$2'>$1</a>\");if ( (text == '') || ( text == '__' ) ) { text = '<br />'; }return text ; ;};function getDict(object, key, defaultValue) { var result = object[key];return (typeof result !== \"undefined\") ? result : defaultValue; ;};function ares_sum(data, keys, values) { var result = []; if (data !== null){if ((keys == null) || (values == null)){result = data}else{var temp = {}; var order = [];data.forEach( function(rec) {var aggKey = []; keys.forEach(function(k){ aggKey.push(rec[k])});var newKey = aggKey.join(\"#\"); if (!(newKey in temp)) {order.push(newKey)};if (!(newKey in temp)) {temp[newKey] = {}};values.forEach(function(v) {if (!(v in temp[newKey])) {temp[newKey][v] = rec[v]} else {temp[newKey][v] += rec[v]}})});order.forEach(function(label) {var rec = {}; var splitKey = label.split(\"#\");keys.forEach(function(k, i) {rec[k] = splitKey[i];});for(var v in temp[label]) {rec[v] = temp[label][v]};result.push(rec)})};} else {data = []}; return result ;};function AresNVD3(data, seriesNames, xAxis) { var result = []; if (data !== null){var temp = {}; var labels = []; var uniqLabels = {};seriesNames.forEach(function(series){temp[series] = {}}) ;data.forEach(function(rec) {seriesNames.forEach(function(name){if(rec[name] !== undefined) {if (!(rec[xAxis] in uniqLabels)){labels.push(rec[xAxis]); uniqLabels[rec[xAxis]] = true};temp[name][rec[xAxis]] = rec[name]}})});seriesNames.forEach(function(series){dataSet = {key: series, values: [], labels: labels};labels.forEach(function(x, i){var value = temp[series][x];if (isNaN(value)) { value = null};if (value !== undefined) {dataSet.values.push({y: value, x: i, label: x})}}); result.push(dataSet)})} else {data = []}; return result ;};String.prototype.leftTrim = function() { return this.replace(/^\\s+/, \"\"); } ;if (!String.prototype.startsWith) {String.prototype.startsWith = function(searchString, position){ return this.substr(position || 0, searchString.length) === searchString; };}\n",
       "  Number.prototype.formatMoney = function(decPlaces, thouSeparator, decSeparator) {\n",
       "    var n = this, decPlaces = isNaN(decPlaces = Math.abs(decPlaces)) ? 2 : decPlaces,\n",
       "        decSeparator = decSeparator == undefined ? \".\" : decSeparator,\n",
       "        thouSeparator = thouSeparator == undefined ? \",\" : thouSeparator,\n",
       "        sign = n < 0 ? \"-\" : \"\",\n",
       "        i = parseInt(n = Math.abs(+n || 0).toFixed(decPlaces)) + \"\",\n",
       "        j = (j = i.length) > 3 ? j % 3 : 0;\n",
       "    return sign + (j ? i.substr(0, j) + thouSeparator : \"\") + i.substr(j).replace(/(\\d{3})(?=\\d)/g, \"$1\" + thouSeparator) + (decPlaces ? decSeparator + Math.abs(n - i).toFixed(decPlaces).slice(2) : \"\");\n",
       "  };\n",
       "  \n",
       "  if (typeof Object.assign != 'function') {\n",
       "    Object.defineProperty(Object, \"assign\", {\n",
       "      value: function assign(target, varArgs) { \n",
       "        'use strict';\n",
       "        if (target == null) { \n",
       "          throw new TypeError('Cannot convert undefined or null to object')}\n",
       "        var to = Object(target);\n",
       "        for (var index = 1; index < arguments.length; index++) {\n",
       "          var nextSource = arguments[index];\n",
       "  \n",
       "          if (nextSource != null) {\n",
       "            for (var nextKey in nextSource) {\n",
       "              if (Object.prototype.hasOwnProperty.call(nextSource, nextKey)) {\n",
       "                to[nextKey] = nextSource[nextKey];\n",
       "              }\n",
       "            }\n",
       "          }\n",
       "        }\n",
       "        return to;\n",
       "      },\n",
       "      writable: true,\n",
       "      configurable: true\n",
       "    });\n",
       "  }\n",
       "  \n",
       "  String.prototype.formatMoney = function(decPlaces, thouSeparator, decSeparator) {\n",
       "    var n = parseFloat(this); return n.formatMoney(decPlaces, thouSeparator, decSeparator);\n",
       "  };\n",
       "  var breadCrumUrl = {url: \"\", params: {} } ;;\n",
       "$(document).ready(function() { require(['jquery'], function (jquery) { require([\"pdfmake\", \"vfs_fonts\", \"jszip\", \"bootstrap\", \"datatables\", \"d3\", \"nvd3\"], function (pdfmake, vfs_fonts, jszip, bootstrap, datatables, d3, nvd3) { \n",
       "$('#footer').css('margin-left', '-35px')\n",
       "$('#ares_page_content').css('margin-left', '-35px')\n",
       "\n",
       "      window['chart_1483474474376_chart'] = nv.models.multiBarChart().color([\"#293342\", \"#334D6B\", \"#aabbee\", \"#6677bb\", \"#8B98E8\", \"#005566\", \"#269493\", \"#66bbaa\", \"#bbeeee\", \"#4e1c72\", \"#bb88ff\", \"#d1b3ff\", \"#d15f32\", \"#ffccaa\", \"#ffeebb\", \"#485d8c\"]).reduceXTicks(true).showControls(true).groupSpacing(0.1).rotateLabels(-15).showLegend(true);; var chartData = AresNVD3(ares_sum(recordset_1483193762224, window['args_1483470728104']['keys_0'], window['args_1483470728104']['values_0']), window['args_1483470728104']['chart_0_1'],window['args_1483470728104']['chart_1_1']);\n",
       "      if (chartData[0].labels !== undefined) {\n",
       "        window['chart_1483474474376_chart'].xAxis.tickFormat(function(d){return chartData[0].labels[d]});};\n",
       "      d3.select($('#chart_1483474474376').get(0)).datum( chartData ).call(window['chart_1483474474376_chart']);\n",
       "      d3.select($('#chart_1483474474376').get(0)).append(\"text\").attr(\"x\", $('#chart_1483474474376').width() /2).attr(\"y\", 10).attr(\"text-anchor\", \"middle\").style(\"font-weight\", \"bold\").text(\"\"); \n",
       "      nv.utils.windowResize(window['chart_1483474474376_chart'].update); var d = new Date(); $(\"#chart_1483474474376_time\").html( d.getFullYear() + \"-\" + d.getMonth() + \"-\" + d.getDate() + \" \" + d.getHours() + \":\" +  d.getMinutes() + \":\" + d.getSeconds() );    \n",
       "       }) }) })\n",
       "</script>"
      ],
      "text/plain": [
       "<IPython.core.display.HTML object>"
      ]
     },
     "metadata": {},
     "output_type": "display_data"
    }
   ],
   "source": [
    "import ares.Lib.Ares as Ares\n",
    "\n",
    "aresObj = Ares.ReportAPI()\n",
    "df = aresObj.df(recordSet)\n",
    "aresObj.chart('bar', df, seriesNames=['col1', 'col2'], xAxis='categories', chartFamily='NVD3')\n",
    "aresObj.display()"
   ]
  },
  {
   "cell_type": "code",
   "execution_count": null,
   "metadata": {},
   "outputs": [],
   "source": []
  }
 ],
 "metadata": {
  "kernelspec": {
   "display_name": "Python 3",
   "language": "python",
   "name": "python3"
  },
  "language_info": {
   "codemirror_mode": {
    "name": "ipython",
    "version": 3
   },
   "file_extension": ".py",
   "mimetype": "text/x-python",
   "name": "python",
   "nbconvert_exporter": "python",
   "pygments_lexer": "ipython3",
   "version": "3.6.7"
  }
 },
 "nbformat": 4,
 "nbformat_minor": 2
}
