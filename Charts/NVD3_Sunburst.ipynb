{
 "cells": [
  {
   "cell_type": "markdown",
   "metadata": {},
   "source": [
    "<img align=\"left\" src=\"../Ares_PetitIcon.PNG\">\n"
   ]
  },
  {
   "cell_type": "code",
   "execution_count": 8,
   "metadata": {},
   "outputs": [],
   "source": [
    "recordSet = {\n",
    "    'dates': [\"A1\", \"A1\", \"A1\", \"B1\", \"C1\", \"B1\", \"R1\", \"E1\", \"W1\"],\n",
    "    'category': [\"A\", \"B\", \"C\", \"D\", \"A\", \"B\", \"R\", \"E\", \"W\"],\n",
    "    'series': [8, 3, 4, 0, 7, 8, 0, 67, 0]}"
   ]
  },
  {
   "cell_type": "code",
   "execution_count": 7,
   "metadata": {},
   "outputs": [
    {
     "data": {
      "text/html": [
       "<link rel=\"stylesheet\" href=\"https://cdn.datatables.net/buttons/1.5.2/css/buttons.bootstrap4.min.css\" type=\"text/css\">\n",
       "<link rel=\"stylesheet\" href=\"https://cdn.datatables.net/buttons/1.5.2/css/buttons.dataTables.min.css\" type=\"text/css\">\n",
       "<link rel=\"stylesheet\" href=\"https://cdn.datatables.net/responsive/2.1.1/css/responsive.dataTables.min.css\" type=\"text/css\">\n",
       "<link rel=\"stylesheet\" href=\"https://cdn.datatables.net/1.10.19/css/jquery.dataTables.min.css\" type=\"text/css\">\n",
       "<link rel=\"stylesheet\" href=\"https://cdnjs.cloudflare.com/ajax/libs/nvd3/1.8.6/nv.d3.min.css\" type=\"text/css\">\n",
       "<link rel=\"stylesheet\" href=\"https://use.fontawesome.com/releases/v5.1.0/css/all.css\" type=\"text/css\">\n",
       "<style>\n",
       ".py_cssstandardlinks {color:#263238}\n",
       ".py_cssstandardlinks:hover {text-decoration:underline; text-decoration:underline; color:#000000}\n",
       ".py_cssdivchart {margin:0 0 5px 0; padding:5px; outline:none; border:1px solid #e0e0e0}\n",
       ".py_cssdivchart:hover {border:1px solid #3bb194}\n",
       "</style>\n",
       "<div><div  style=\"width:100%;height:200px;position:relative\" class=\"py_cssdivchart\" id=\"chart_2496419234592_container\">  \n",
       "        <svg id=\"chart_2496419234592\"></svg>\n",
       "        <span style=\"bottom:0;margin:0 0 5px 0;width:100%;color:#eeeeee\">\n",
       "          <i style=\"margin:0 5px 0 0\" class=\"fas fa-clock\"></i>Last update: <div id=\"chart_2496419234592_time\" style=\"display:inline-block\"></div>\n",
       "          <div style=\"display:inline-block;float:right;margin-right:0px\">\n",
       "            \n",
       "          </div>\n",
       "        </span>\n",
       "      </div></div>\n",
       "<script>\n",
       "require.config({ paths: {'jquery': 'https://cdnjs.cloudflare.com/ajax/libs/jquery/3.3.1/jquery.min',\n",
       "  'd3': 'https://cdnjs.cloudflare.com/ajax/libs/d3/3.5.17/d3.min',\n",
       "  'nvd3': 'https://cdnjs.cloudflare.com/ajax/libs/nvd3/1.8.6/nv.d3.min',\n",
       "  'fontawesome': 'https://use.fontawesome.com/releases/v5.1.0/js/fontawesome',\n",
       "  'bootstrap': 'https://stackpath.bootstrapcdn.com/bootstrap/4.2.1/js/bootstrap.bundle.min',\n",
       "  'datatables': 'https://cdnjs.cloudflare.com/ajax/libs/datatables/1.10.19/js/jquery.dataTables.min',\n",
       "  'pdfmake': 'https://cdnjs.cloudflare.com/ajax/libs/pdfmake/0.1.37/pdfmake.min',\n",
       "  'vfs_fonts': 'https://cdnjs.cloudflare.com/ajax/libs/pdfmake/0.1.37/vfs_fonts',\n",
       "  'jszip': 'https://cdnjs.cloudflare.com/ajax/libs/jszip/3.1.5/jszip.min'} });\n",
       " var recordset_2496138420296 = [{\"category\": \"D\", \"dates\": \"B1\", \"series\": 0}, {\"category\": \"R\", \"dates\": \"R1\", \"series\": 0}, {\"category\": \"W\", \"dates\": \"W1\", \"series\": 0}, {\"category\": \"B\", \"dates\": \"A1\", \"series\": 3}, {\"category\": \"C\", \"dates\": \"A1\", \"series\": 4}, {\"category\": \"A\", \"dates\": \"C1\", \"series\": 7}, {\"category\": \"A\", \"dates\": \"A1\", \"series\": 8}, {\"category\": \"B\", \"dates\": \"B1\", \"series\": 8}, {\"category\": \"E\", \"dates\": \"E1\", \"series\": 67}];var args_2496419236888 = {\"chart_0_0\": [\"category\", \"dates\"], \"chart_1_0\": \"series\"} ;var chart_2496419234592_markDownFnc = false;function buildBreadCrum() { var params = [] ; for(var key in breadCrumUrl['params']) { params.push(key + \"=\" + breadCrumUrl['params'][key]) ;  }var breadCrumResult = breadCrumUrl['url'] ;if (params.length > 0) { breadCrumResult = breadCrumResult + \"?\" + params.join(\"&\")  ;}return breadCrumResult; ;};function aresObj(htmlCode) { if (htmlCode in breadCrumUrl.params) {return breadCrumUrl.params[htmlCode];} else { return null } ;};function FormatFilterDt(filterVal) { var dt = filterVal.split('-') ; return dt[2] + '/' + dt[1] + '/'+ dt[0] ; ;};function GetClipBoardData(event) { if (window.clipboardData == undefined) { alert('this only works with IE') ; } else { return window.clipboardData.getData('text')}; ;};function LoadingPopup(reportName) { $('#popup_loading').find(\"div\").html(\"Loading \" + reportName + \"...\"); $('#popup_loading_back').show(); $('#popup_loading').show(); ;};function GoToReport(url, newWindows, widthLoading) { if(newWindows) { window.open(url, '_blank') ; }else {if ( widthLoading ){$('#popup_loading').find(\"div\").html(\"Loading \" + url + \"...\");$('#popup_loading_back').show(); $('#popup_loading').show(); }window.location.href = url;} ;};function Today() { now = new Date();year = \"\" + now.getFullYear();month = \"\" + (now.getMonth() + 1); if (month.length == 1) { month = \"0\" + month; }day = \"\" + now.getDate(); if (day.length == 1) { day = \"0\" + day; }hour = \"\" + now.getHours(); if (hour.length == 1) { hour = \"0\" + hour; }minute = \"\" + now.getMinutes(); if (minute.length == 1) { minute = \"0\" + minute; }second = \"\" + now.getSeconds(); if (second.length == 1) { second = \"0\" + second; }return year + \"-\" + month + \"-\" + day + \" \" + hour + \":\" + minute + \":\" + second; ;};function CleanText(text) { return text.trim().replace(/\\W+/g, ''); ;};function CssStyleBuilder(params) { cssParams = [] ;for( var i in params) { cssParams.push( i +\":\"+ params[i]) ; }return cssParams.join(\";\"); ;};function CopyToClipboard() { var url = window.location.href.split('?')[0];if (url.slice(-1) == '#') { url = url.slice(0, -1); };var splitParams = buildBreadCrum().split('?') ; var params = \"\";if (splitParams.length > 1 ) { params = splitParams.slice(1, splitParams.length); }if (window.clipboardData) { window.clipboardData.setData('Text', url + '?' + params); }else {var selection = window.getSelection();$(\"body\").append(\"<div id='breadcrumb_url'>\"+ url + '?' + params +\"</div>\");var range = document.createRange();range.selectNodeContents($('#breadcrumb_url').get(0));selection.removeAllRanges(); selection.addRange(range);document.execCommand(\"Copy\") ; $('#breadcrumb_url').remove() ;var div = $('<div>Report Parameters copied to ClickBoard !</div>').css({'display': 'block', 'position': 'fixed', 'top': '40px', 'right': '200px','text-align': 'center', 'padding': '5px', 'color': 'white', 'border-radius': '.4em', 'z-index': 10010, 'background-color': '#263238', \"width\": '200px'});$('body').append(div); setTimeout(function() {div.remove()}, 2000) } ;};function FormGoTo(url, method) { var form = $('<form method=\"'+ method +'\" action='+ url +'></form>') ; NO_UNLOAD = true;for(var key in breadCrumUrl['params']) {form.append( '<input type=\"hidden\" name=\"'+ key +'\" value=\"' + breadCrumUrl['params'][key] + '\">' ) } ;form.appendTo('body').submit(); ;};function toAresMarkup(text) { text = text.replace(/\\*\\*(.*?)\\*\\*/g, \"<b>$1</b>\");text = text.replace(/\\*\\*\\*(.*?)\\*\\*\\*/g, \"<b><i>$1</i></b>\");text = text.replace(/\\*(.*?)\\*/g, \"<i>$1</i>\");text = text.replace(/__(.*?)__/g, \"<u>$1</u>\");text = text.replace(/~~(.*?)~~/g, \"<i>$1</i>\");text = text.replace(/--(.*?)--/g, \"<del>$1</del>\");text = text.replace(/<<(.*?)>>/g, \"<a href='$1'>Link</a>\");text = text.replace(/\\!\\((.*?)\\)/g, \"<i class='$1'></i>\");text = text.replace(/\\[(.*?)\\]\\(https\\\\:(.*?)\\)/g, \"<a href='$2' target='_blank'>$1</a>\");text = text.replace(/\\[(.*?)\\]\\(http\\\\:(.*?)\\)/g, \"<a href='$2' target='_blank'>$1</a>\");text = text.replace(/\\[(.*?)\\]\\((.*?)\\)/g, \"<a href='$2'>$1</a>\");if ( (text == '') || ( text == '__' ) ) { text = '<br />'; }return text ; ;};function getDict(object, key, defaultValue) { var result = object[key];return (typeof result !== \"undefined\") ? result : defaultValue; ;};function SetAresTheme(theme) { $.post(\"/admin/setAresTheme\", {\"theme\": theme}, function() {location.reload()}) ;};function AresNVD3_sunburst(data, seriesNames, xAxis) { var result = []; if (data !== null){var result = [{name: xAxis, children: []}]; var sizeTree = seriesNames.length-1;data.forEach(function(rec){var path = []; var tmpResultLevel = result[0].children; var branchVal = 0;seriesNames.forEach(function(s, i){var treeLevel = -1;tmpResultLevel.forEach(function(l, j){if (l.name == rec[s]){treeLevel = j}});if (i == sizeTree) {if (treeLevel >= 0 ){tmpResultLevel[treeLevel].size += rec[xAxis];} else{tmpResultLevel.push({name: rec[s], size: rec[xAxis]})}}else{if (treeLevel < 0 ){tmpResultLevel.push({name: rec[s], children: []});treeLevel = tmpResultLevel.length - 1};tmpResultLevel = tmpResultLevel[treeLevel].children}})});console.log(result)} else {data = []}; return result ;};String.prototype.leftTrim = function() { return this.replace(/^\\s+/, \"\"); } ;if (!String.prototype.startsWith) {String.prototype.startsWith = function(searchString, position){ return this.substr(position || 0, searchString.length) === searchString; };}\n",
       "  Boolean.prototype.formatMoney = function(decPlaces, thouSeparator, decSeparator) { return this};\n",
       "  Number.prototype.formatMoney = function(decPlaces, thouSeparator, decSeparator) {\n",
       "    var n = this, decPlaces = isNaN(decPlaces = Math.abs(decPlaces)) ? 2 : decPlaces,\n",
       "        decSeparator = decSeparator == undefined ? \".\" : decSeparator,\n",
       "        thouSeparator = thouSeparator == undefined ? \",\" : thouSeparator,\n",
       "        sign = n < 0 ? \"-\" : \"\",\n",
       "        i = parseInt(n = Math.abs(+n || 0).toFixed(decPlaces)) + \"\",\n",
       "        j = (j = i.length) > 3 ? j % 3 : 0;\n",
       "    return sign + (j ? i.substr(0, j) + thouSeparator : \"\") + i.substr(j).replace(/(\\d{3})(?=\\d)/g, \"$1\" + thouSeparator) + (decPlaces ? decSeparator + Math.abs(n - i).toFixed(decPlaces).slice(2) : \"\");\n",
       "  };\n",
       "  \n",
       "  if (typeof Object.assign != 'function') {\n",
       "    Object.defineProperty(Object, \"assign\", {\n",
       "      value: function assign(target, varArgs) { \n",
       "        'use strict';\n",
       "        if (target == null) { \n",
       "          throw new TypeError('Cannot convert undefined or null to object')}\n",
       "        var to = Object(target);\n",
       "        for (var index = 1; index < arguments.length; index++) {\n",
       "          var nextSource = arguments[index];\n",
       "  \n",
       "          if (nextSource != null) {\n",
       "            for (var nextKey in nextSource) {\n",
       "              if (Object.prototype.hasOwnProperty.call(nextSource, nextKey)) {\n",
       "                to[nextKey] = nextSource[nextKey];\n",
       "              }\n",
       "            }\n",
       "          }\n",
       "        }\n",
       "        return to;\n",
       "      },\n",
       "      writable: true,\n",
       "      configurable: true\n",
       "    });\n",
       "  }\n",
       "  \n",
       "  String.prototype.formatMoney = function(decPlaces, thouSeparator, decSeparator) {\n",
       "    var n = parseFloat(this); return n.formatMoney(decPlaces, thouSeparator, decSeparator);\n",
       "  };\n",
       "  var breadCrumUrl = {url: \"\", params: {} } ;;\n",
       "$(document).ready(function() { require(['jquery'], function (jquery) { require(['d3', 'nvd3', 'fontawesome', 'bootstrap', 'datatables', 'pdfmake', 'vfs_fonts', 'jszip'], function (ignore, nvd3, fontawesome, bootstrap, datatables, pdfmake, vfs_fonts, jszip) { \n",
       "\n",
       "      window['chart_2496419234592_chart'] = nv.models.sunburstChart().color([\"#e3f2fd\", \"#bbdefb\", \"#90caf9\", \"#e1f5fe\", \"#b3e5fc\", \"#81d4fa\", \"#e0f2f1\", \"#b2dfdb\", \"#80cbc4\", \"#e8f5e9\", \"#c8e6c9\", \"#a5d6a7\", \"#ffebee\", \"#ffcdd2\", \"#ef9a9a\", \"#f3e5f5\", \"#e1bee7\", \"#ce93d8\", \"#ede7f6\", \"#d1c4e9\", \"#b39ddb\", \"#e8eaf6\", \"#c5cae9\", \"#9fa8da\", \"#fffde7\", \"#fff9c4\", \"#fff59d\", \"#fff3e0\", \"#ffe0b2\", \"#ffcc80\", \"#efebe9\", \"#d7ccc8\", \"#bcaaa4\"]).mode(\"value\").height(200); var chartData = AresNVD3_sunburst(recordset_2496138420296, window['args_2496419236888']['chart_0_0'],window['args_2496419236888']['chart_1_0']);\n",
       "      if (chartData[0].labels !== undefined) {\n",
       "        window['chart_2496419234592_chart'].xAxis.tickFormat(function(d){return chartData[0].labels[d]})};\n",
       "      d3.select($('#chart_2496419234592').get(0)).datum(chartData).call(window['chart_2496419234592_chart']);\n",
       "      d3.select($('#chart_2496419234592').get(0)).append(\"text\").attr(\"x\", $('#chart_2496419234592').width() /2).attr(\"y\", 10).attr(\"text-anchor\", \"middle\").style(\"font-weight\", \"bold\").text(\"\"); \n",
       "      nv.utils.windowResize(window['chart_2496419234592_chart'].update); var d = new Date(); $(\"#chart_2496419234592_time\").html( d.getFullYear() + \"-\" + d.getMonth() + \"-\" + d.getDate() + \" \" + d.getHours() + \":\" +  d.getMinutes() + \":\" + d.getSeconds() );    \n",
       "       }) }) })\n",
       "</script>"
      ],
      "text/plain": [
       "<IPython.core.display.HTML object>"
      ]
     },
     "metadata": {},
     "output_type": "display_data"
    }
   ],
   "source": [
    "import ares.Lib.Ares as Ares\n",
    "\n",
    "aresObj = Ares.ReportAPI()\n",
    "data = aresObj.df(recordSet)\n",
    "aresObj.chart(\"sunburst\", data, seriesNames=['category', 'dates'], xAxis='series', dataFncs=[], height=200)\n",
    "aresObj.display()"
   ]
  },
  {
   "cell_type": "code",
   "execution_count": null,
   "metadata": {},
   "outputs": [],
   "source": []
  }
 ],
 "metadata": {
  "kernelspec": {
   "display_name": "Python 3",
   "language": "python",
   "name": "python3"
  },
  "language_info": {
   "codemirror_mode": {
    "name": "ipython",
    "version": 3
   },
   "file_extension": ".py",
   "mimetype": "text/x-python",
   "name": "python",
   "nbconvert_exporter": "python",
   "pygments_lexer": "ipython3",
   "version": "3.6.7"
  }
 },
 "nbformat": 4,
 "nbformat_minor": 2
}
