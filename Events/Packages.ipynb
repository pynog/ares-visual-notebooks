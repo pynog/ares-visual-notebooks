{
 "cells": [
  {
   "cell_type": "markdown",
   "metadata": {},
   "source": [
    "\n",
    "<img align=\"left\" src=\"../Ares_PetitIcon.PNG\">"
   ]
  },
  {
   "cell_type": "code",
   "execution_count": 3,
   "metadata": {},
   "outputs": [
    {
     "name": "stdout",
     "output_type": "stream",
     "text": [
      "{'website': 'http://nvd3.org/', 'modules': [{'reqAlias': 'nvd3', 'script': 'nv.d3.min.js', 'version': '1.8.6', 'path': 'nvd3/%(version)s/', 'cdnjs': 'https://cdnjs.cloudflare.com/ajax/libs'}], 'req': [{'alias': 'd3', 'version': '3.5.17'}]}\n"
     ]
    }
   ],
   "source": [
    "import ares.Lib.AresImports as AresImports\n",
    "print( AresImports.ImportManager().package(\"nvd3\"))"
   ]
  },
  {
   "cell_type": "code",
   "execution_count": 6,
   "metadata": {},
   "outputs": [
    {
     "name": "stdout",
     "output_type": "stream",
     "text": [
      "{'modules': [{'script': 'dc.min.js', 'version': '3.0.9', 'path': 'dc/%(version)s/', 'cdnjs': 'https://cdnjs.cloudflare.com/ajax/libs'}], 'req': [{'alias': 'd3'}]}\n"
     ]
    }
   ],
   "source": [
    "import ares.Lib.AresImports as AresImports\n",
    "\n",
    "i = AresImports.ImportManager()\n",
    "i.addPackage('test',\n",
    "     {\n",
    "      'req': [{'alias': 'd3'}],\n",
    "       'modules': [\n",
    "         {'script': 'dc.min.css', 'version': '3.0.9', 'path': 'dc/%(version)s/', 'cdnjs': 'https://cdnjs.cloudflare.com/ajax/libs'},\n",
    "         {'script': 'dc.min.js', 'version': '3.0.9', 'path': 'dc/%(version)s/', 'cdnjs': 'https://cdnjs.cloudflare.com/ajax/libs'},\n",
    "       ]},\n",
    "     )\n",
    "\n",
    "print( AresImports.ImportManager().package(\"test\"))"
   ]
  },
  {
   "cell_type": "code",
   "execution_count": null,
   "metadata": {},
   "outputs": [],
   "source": []
  }
 ],
 "metadata": {
  "kernelspec": {
   "display_name": "Python 3",
   "language": "python",
   "name": "python3"
  },
  "language_info": {
   "codemirror_mode": {
    "name": "ipython",
    "version": 3
   },
   "file_extension": ".py",
   "mimetype": "text/x-python",
   "name": "python",
   "nbconvert_exporter": "python",
   "pygments_lexer": "ipython3",
   "version": "3.6.7"
  }
 },
 "nbformat": 4,
 "nbformat_minor": 2
}
