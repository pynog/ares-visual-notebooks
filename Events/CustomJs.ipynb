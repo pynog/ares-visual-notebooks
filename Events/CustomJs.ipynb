{
 "cells": [
  {
   "cell_type": "markdown",
   "metadata": {},
   "source": [
    "<img align=\"left\" src=\"../Ares_PetitIcon.PNG\">\n"
   ]
  },
  {
   "cell_type": "markdown",
   "metadata": {},
   "source": [
    "Create a Javascript function and use it in the button"
   ]
  },
  {
   "cell_type": "code",
   "execution_count": 1,
   "metadata": {},
   "outputs": [
    {
     "data": {
      "text/html": [
       "<link rel=\"stylesheet\" href=\"https://use.fontawesome.com/releases/v5.1.0/css/all.css\" type=\"text/css\">\n",
       "<style>\n",
       ".py_cssstandardlinks {color:#263238}\n",
       ".py_cssstandardlinks:hover {text-decoration:underline; text-decoration:underline; color:#000000}\n",
       ".py_cssbuttonbasic {padding:1px 10px; margin:2px 0 2px 0; text-decoration:none; border-radius:5px; display:inline-block; font-weight:bold; border:1px solid #263238; color:#000000; background-color:#FFFFFF}\n",
       ".py_cssbuttonbasic:hover {text-decoration:none; cursor:pointer; background-color:#263238; color:#eceff1}\n",
       "</style>\n",
       "<div><div style=\"clear:both;width:100%;text-align:left\"><button data-count=0 id=\"button_1385227274168\"  style=\"height:26px\" class=\"py_cssbuttonbasic\" ></button></div></div>\n",
       "<script>\n",
       "require.config({ paths: {'fontawesome': 'https://use.fontawesome.com/releases/v5.1.0/js/fontawesome',\n",
       "  'jquery': 'https://cdnjs.cloudflare.com/ajax/libs/jquery/3.3.1/jquery.min',\n",
       "  'bootstrap': 'https://stackpath.bootstrapcdn.com/bootstrap/4.2.1/js/bootstrap.bundle.min'} });\n",
       " var button_1385227274168_data = \"Event\";var button_1385227274168_markDownFnc = false;function buildBreadCrum() { var params = [] ; for(var key in breadCrumUrl['params']) { params.push(key + \"=\" + breadCrumUrl['params'][key]) ;  }var breadCrumResult = breadCrumUrl['url'] ;if (params.length > 0) { breadCrumResult = breadCrumResult + \"?\" + params.join(\"&\")  ;}return breadCrumResult; ;};function aresObj(htmlCode) { if (htmlCode in breadCrumUrl.params) {return breadCrumUrl.params[htmlCode];} else { return null } ;};function FormatFilterDt(filterVal) { var dt = filterVal.split('-') ; return dt[2] + '/' + dt[1] + '/'+ dt[0] ; ;};function GetClipBoardData(event) { if (window.clipboardData == undefined) { alert('this only works with IE') ; } else { return window.clipboardData.getData('text')}; ;};function LoadingPopup(reportName) { $('#popup_loading').find(\"div\").html(\"Loading \" + reportName + \"...\"); $('#popup_loading_back').show(); $('#popup_loading').show(); ;};function GoToReport(url, newWindows, widthLoading) { if(newWindows) { window.open(url, '_blank') ; }else {if ( widthLoading ){$('#popup_loading').find(\"div\").html(\"Loading \" + url + \"...\");$('#popup_loading_back').show(); $('#popup_loading').show(); }window.location.href = url;} ;};function Today() { now = new Date();year = \"\" + now.getFullYear();month = \"\" + (now.getMonth() + 1); if (month.length == 1) { month = \"0\" + month; }day = \"\" + now.getDate(); if (day.length == 1) { day = \"0\" + day; }hour = \"\" + now.getHours(); if (hour.length == 1) { hour = \"0\" + hour; }minute = \"\" + now.getMinutes(); if (minute.length == 1) { minute = \"0\" + minute; }second = \"\" + now.getSeconds(); if (second.length == 1) { second = \"0\" + second; }return year + \"-\" + month + \"-\" + day + \" \" + hour + \":\" + minute + \":\" + second; ;};function CleanText(text) { return text.trim().replace(/\\W+/g, ''); ;};function CssStyleBuilder(params) { cssParams = [] ;for( var i in params) { cssParams.push( i +\":\"+ params[i]) ; }return cssParams.join(\";\"); ;};function CopyToClipboard() { var url = window.location.href.split('?')[0];if (url.slice(-1) == '#') { url = url.slice(0, -1); };var splitParams = buildBreadCrum().split('?') ; var params = \"\";if (splitParams.length > 1 ) { params = splitParams.slice(1, splitParams.length); }if (window.clipboardData) { window.clipboardData.setData('Text', url + '?' + params); }else {var selection = window.getSelection();$(\"body\").append(\"<div id='breadcrumb_url'>\"+ url + '?' + params +\"</div>\");var range = document.createRange();range.selectNodeContents($('#breadcrumb_url').get(0));selection.removeAllRanges(); selection.addRange(range);document.execCommand(\"Copy\") ; $('#breadcrumb_url').remove() ;var div = $('<div>Report Parameters copied to ClickBoard !</div>').css({'display': 'block', 'position': 'fixed', 'top': '40px', 'right': '200px','text-align': 'center', 'padding': '5px', 'color': 'white', 'border-radius': '.4em', 'z-index': 10010, 'background-color': '#263238', \"width\": '200px'});$('body').append(div); setTimeout(function() {div.remove()}, 2000) } ;};function FormGoTo(url, method) { var form = $('<form method=\"'+ method +'\" action='+ url +'></form>') ; NO_UNLOAD = true;for(var key in breadCrumUrl['params']) {form.append( '<input type=\"hidden\" name=\"'+ key +'\" value=\"' + breadCrumUrl['params'][key] + '\">' ) } ;form.appendTo('body').submit(); ;};function toAresMarkup(text) { text = text.replace(/\\*\\*(.*?)\\*\\*/g, \"<b>$1</b>\");text = text.replace(/\\*\\*\\*(.*?)\\*\\*\\*/g, \"<b><i>$1</i></b>\");text = text.replace(/\\*(.*?)\\*/g, \"<i>$1</i>\");text = text.replace(/__(.*?)__/g, \"<u>$1</u>\");text = text.replace(/~~(.*?)~~/g, \"<i>$1</i>\");text = text.replace(/--(.*?)--/g, \"<del>$1</del>\");text = text.replace(/<<(.*?)>>/g, \"<a href='$1'>Link</a>\");text = text.replace(/\\!\\((.*?)\\)/g, \"<i class='$1'></i>\");text = text.replace(/\\[(.*?)\\]\\(https\\\\:(.*?)\\)/g, \"<a href='$2' target='_blank'>$1</a>\");text = text.replace(/\\[(.*?)\\]\\(http\\\\:(.*?)\\)/g, \"<a href='$2' target='_blank'>$1</a>\");text = text.replace(/\\[(.*?)\\]\\((.*?)\\)/g, \"<a href='$2'>$1</a>\");if ( (text == '') || ( text == '__' ) ) { text = '<br />'; }return text ; ;};function getDict(object, key, defaultValue) { var result = object[key];return (typeof result !== \"undefined\") ? result : defaultValue; ;};function MyJsFunction(data) { return 2 ;};function Button(htmlObj, data, jsStyles) { htmlObj.empty();if( jsStyles.icon != undefined) {var iconItem = $('<i class=\"' + jsStyles.icon +'\" style=\"margin-right:5px\"></i>') ;if (jsStyles.styleIcon != undefined) { iconItem.css( jsStyles.styleIcon ); } ;htmlObj.append(iconItem) ;  };htmlObj.append(data) ;if (jsStyles.styles != undefined) { htmlObj.css(jsStyles.styles) } ; ;};String.prototype.leftTrim = function() { return this.replace(/^\\s+/, \"\"); } ;if (!String.prototype.startsWith) {String.prototype.startsWith = function(searchString, position){ return this.substr(position || 0, searchString.length) === searchString; };}\n",
       "  Number.prototype.formatMoney = function(decPlaces, thouSeparator, decSeparator) {\n",
       "    var n = this, decPlaces = isNaN(decPlaces = Math.abs(decPlaces)) ? 2 : decPlaces,\n",
       "        decSeparator = decSeparator == undefined ? \".\" : decSeparator,\n",
       "        thouSeparator = thouSeparator == undefined ? \",\" : thouSeparator,\n",
       "        sign = n < 0 ? \"-\" : \"\",\n",
       "        i = parseInt(n = Math.abs(+n || 0).toFixed(decPlaces)) + \"\",\n",
       "        j = (j = i.length) > 3 ? j % 3 : 0;\n",
       "    return sign + (j ? i.substr(0, j) + thouSeparator : \"\") + i.substr(j).replace(/(\\d{3})(?=\\d)/g, \"$1\" + thouSeparator) + (decPlaces ? decSeparator + Math.abs(n - i).toFixed(decPlaces).slice(2) : \"\");\n",
       "  };\n",
       "  \n",
       "  if (typeof Object.assign != 'function') {\n",
       "    Object.defineProperty(Object, \"assign\", {\n",
       "      value: function assign(target, varArgs) { \n",
       "        'use strict';\n",
       "        if (target == null) { \n",
       "          throw new TypeError('Cannot convert undefined or null to object')}\n",
       "        var to = Object(target);\n",
       "        for (var index = 1; index < arguments.length; index++) {\n",
       "          var nextSource = arguments[index];\n",
       "  \n",
       "          if (nextSource != null) {\n",
       "            for (var nextKey in nextSource) {\n",
       "              if (Object.prototype.hasOwnProperty.call(nextSource, nextKey)) {\n",
       "                to[nextKey] = nextSource[nextKey];\n",
       "              }\n",
       "            }\n",
       "          }\n",
       "        }\n",
       "        return to;\n",
       "      },\n",
       "      writable: true,\n",
       "      configurable: true\n",
       "    });\n",
       "  }\n",
       "  \n",
       "  String.prototype.formatMoney = function(decPlaces, thouSeparator, decSeparator) {\n",
       "    var n = parseFloat(this); return n.formatMoney(decPlaces, thouSeparator, decSeparator);\n",
       "  };\n",
       "  var breadCrumUrl = {url: \"\", params: {} } ;;\n",
       "$(document).ready(function() { require(['jquery'], function (jquery) { require([\"fontawesome\", \"bootstrap\"], function (fontawesome, bootstrap) { \n",
       "$('#ares_page_content').css('margin-left', '-35px')\n",
       "Button($('#button_1385227274168'), button_1385227274168_data, {\"icon\": null}) ; \n",
       "            if(null != null) { breadCrumUrl['params'][null] = $('#button_1385227274168').val() };\n",
       "            \n",
       "\n",
       "          $('#button_1385227274168').on('click', function(event) {\n",
       "            var useAsync = false; var data = { event_val: $(this).html(), event_groupId: 'None', event_count_click: $(this).data('count')+1 } ; var returnVal = undefined;\n",
       "            if (!$('#body_loading').length){ \n",
       "              var bodyLoading2 = $('<div id=\"body_loading\" name=\"ares_loading\" style=\"bottom:20px;left:70px;position:fixed;background-color:#F4F4F4;padding:5px\"><i class=\"fas fa-spinner fa-spin\" style=\"margin-left:10px;margin-right:10px\"></i><div style=\"display:inline\" id=\"loading_count\">0</div> process running...</div>') ; \n",
       "            } ;\n",
       "            $('body').append(bodyLoading2) ;\n",
       "            $('#loading_count').html( parseInt($('#loading_count').html()) + 1) ;\n",
       "            var count = $(this).data('count')+1; $(this).data('count', count);;alert(MyJsFunction(data)) ; \n",
       "            if (!useAsync) {\n",
       "              $('#loading_count').html( parseInt($('#loading_count').html()) - 1) ;\n",
       "              if ($('#loading_count').html() == '0') { $('#body_loading').remove() ;} }\n",
       "            if (returnVal != undefined) { return returnVal } ; \n",
       "          }) ; }) }) })\n",
       "</script>"
      ],
      "text/plain": [
       "<IPython.core.display.HTML object>"
      ]
     },
     "metadata": {},
     "output_type": "display_data"
    }
   ],
   "source": [
    "import ares.Lib.Ares as Ares\n",
    "\n",
    "aresObj = Ares.ReportAPI()\n",
    "aresObj.customJsFnc(\"MyJsFunction(data)\", \"return 2\")\n",
    "aresObj.button(\"Event\").click(aresObj.jsAlert(\"MyJsFunction(data)\"))\n",
    "aresObj.display()\n"
   ]
  },
  {
   "cell_type": "markdown",
   "metadata": {},
   "source": [
    "Add a context menu by right click on the button"
   ]
  },
  {
   "cell_type": "code",
   "execution_count": 2,
   "metadata": {},
   "outputs": [
    {
     "data": {
      "text/html": [
       "<link rel=\"stylesheet\" href=\"https://use.fontawesome.com/releases/v5.1.0/css/all.css\" type=\"text/css\">\n",
       "<style>\n",
       ".py_csstextitem {cursor:pointer; width:200px; padding:5px}\n",
       ".py_csstextitem:hover {color:#FFFFFF; background:#607d8b}\n",
       ".py_cssstandardlinks {color:#263238}\n",
       ".py_cssstandardlinks:hover {text-decoration:underline; text-decoration:underline; color:#000000}\n",
       ".py_cssbuttonbasic {padding:1px 10px; margin:2px 0 2px 0; text-decoration:none; border-radius:5px; display:inline-block; font-weight:bold; border:1px solid #263238; color:#000000; background-color:#FFFFFF}\n",
       ".py_cssbuttonbasic:hover {text-decoration:none; cursor:pointer; background-color:#263238; color:#eceff1}\n",
       "</style>\n",
       "<div><div style=\"clear:both;width:100%;text-align:left\"><button data-count=0 id=\"button_1385227413880\"  style=\"height:26px\" class=\"py_cssbuttonbasic\" ></button></div>\n",
       "\n",
       "      <nav id=\"contextmenu_1385227414048\"  style=\"display:none;position:absolute;z-index:200;padding:0;margin:0;background-color:#FFFFFF;box-shadow:1px 1px 5px #555;border-radius:2px\" class=\"\" name='context_menus'>\n",
       "        <ul style='list-style:none;padding:0px;margin:0'></ul>\n",
       "      </nav></div>\n",
       "<script>\n",
       "require.config({ paths: {'fontawesome': 'https://use.fontawesome.com/releases/v5.1.0/js/fontawesome',\n",
       "  'jquery': 'https://cdnjs.cloudflare.com/ajax/libs/jquery/3.3.1/jquery.min',\n",
       "  'bootstrap': 'https://stackpath.bootstrapcdn.com/bootstrap/4.2.1/js/bootstrap.bundle.min'} });\n",
       " var CONTEXT_MENU_VAL = {};var button_1385227413880_data = \"Event\";var button_1385227413880_markDownFnc = false;var contextmenu_1385227414048_data = [{\"text\": \"a\", \"jsFnc\": \"console.log(data)\"}];var contextmenu_1385227414048_markDownFnc = false;function buildBreadCrum() { var params = [] ; for(var key in breadCrumUrl['params']) { params.push(key + \"=\" + breadCrumUrl['params'][key]) ;  }var breadCrumResult = breadCrumUrl['url'] ;if (params.length > 0) { breadCrumResult = breadCrumResult + \"?\" + params.join(\"&\")  ;}return breadCrumResult; ;};function aresObj(htmlCode) { if (htmlCode in breadCrumUrl.params) {return breadCrumUrl.params[htmlCode];} else { return null } ;};function FormatFilterDt(filterVal) { var dt = filterVal.split('-') ; return dt[2] + '/' + dt[1] + '/'+ dt[0] ; ;};function GetClipBoardData(event) { if (window.clipboardData == undefined) { alert('this only works with IE') ; } else { return window.clipboardData.getData('text')}; ;};function LoadingPopup(reportName) { $('#popup_loading').find(\"div\").html(\"Loading \" + reportName + \"...\"); $('#popup_loading_back').show(); $('#popup_loading').show(); ;};function GoToReport(url, newWindows, widthLoading) { if(newWindows) { window.open(url, '_blank') ; }else {if ( widthLoading ){$('#popup_loading').find(\"div\").html(\"Loading \" + url + \"...\");$('#popup_loading_back').show(); $('#popup_loading').show(); }window.location.href = url;} ;};function Today() { now = new Date();year = \"\" + now.getFullYear();month = \"\" + (now.getMonth() + 1); if (month.length == 1) { month = \"0\" + month; }day = \"\" + now.getDate(); if (day.length == 1) { day = \"0\" + day; }hour = \"\" + now.getHours(); if (hour.length == 1) { hour = \"0\" + hour; }minute = \"\" + now.getMinutes(); if (minute.length == 1) { minute = \"0\" + minute; }second = \"\" + now.getSeconds(); if (second.length == 1) { second = \"0\" + second; }return year + \"-\" + month + \"-\" + day + \" \" + hour + \":\" + minute + \":\" + second; ;};function CleanText(text) { return text.trim().replace(/\\W+/g, ''); ;};function CssStyleBuilder(params) { cssParams = [] ;for( var i in params) { cssParams.push( i +\":\"+ params[i]) ; }return cssParams.join(\";\"); ;};function CopyToClipboard() { var url = window.location.href.split('?')[0];if (url.slice(-1) == '#') { url = url.slice(0, -1); };var splitParams = buildBreadCrum().split('?') ; var params = \"\";if (splitParams.length > 1 ) { params = splitParams.slice(1, splitParams.length); }if (window.clipboardData) { window.clipboardData.setData('Text', url + '?' + params); }else {var selection = window.getSelection();$(\"body\").append(\"<div id='breadcrumb_url'>\"+ url + '?' + params +\"</div>\");var range = document.createRange();range.selectNodeContents($('#breadcrumb_url').get(0));selection.removeAllRanges(); selection.addRange(range);document.execCommand(\"Copy\") ; $('#breadcrumb_url').remove() ;var div = $('<div>Report Parameters copied to ClickBoard !</div>').css({'display': 'block', 'position': 'fixed', 'top': '40px', 'right': '200px','text-align': 'center', 'padding': '5px', 'color': 'white', 'border-radius': '.4em', 'z-index': 10010, 'background-color': '#263238', \"width\": '200px'});$('body').append(div); setTimeout(function() {div.remove()}, 2000) } ;};function FormGoTo(url, method) { var form = $('<form method=\"'+ method +'\" action='+ url +'></form>') ; NO_UNLOAD = true;for(var key in breadCrumUrl['params']) {form.append( '<input type=\"hidden\" name=\"'+ key +'\" value=\"' + breadCrumUrl['params'][key] + '\">' ) } ;form.appendTo('body').submit(); ;};function toAresMarkup(text) { text = text.replace(/\\*\\*(.*?)\\*\\*/g, \"<b>$1</b>\");text = text.replace(/\\*\\*\\*(.*?)\\*\\*\\*/g, \"<b><i>$1</i></b>\");text = text.replace(/\\*(.*?)\\*/g, \"<i>$1</i>\");text = text.replace(/__(.*?)__/g, \"<u>$1</u>\");text = text.replace(/~~(.*?)~~/g, \"<i>$1</i>\");text = text.replace(/--(.*?)--/g, \"<del>$1</del>\");text = text.replace(/<<(.*?)>>/g, \"<a href='$1'>Link</a>\");text = text.replace(/\\!\\((.*?)\\)/g, \"<i class='$1'></i>\");text = text.replace(/\\[(.*?)\\]\\(https\\\\:(.*?)\\)/g, \"<a href='$2' target='_blank'>$1</a>\");text = text.replace(/\\[(.*?)\\]\\(http\\\\:(.*?)\\)/g, \"<a href='$2' target='_blank'>$1</a>\");text = text.replace(/\\[(.*?)\\]\\((.*?)\\)/g, \"<a href='$2'>$1</a>\");if ( (text == '') || ( text == '__' ) ) { text = '<br />'; }return text ; ;};function getDict(object, key, defaultValue) { var result = object[key];return (typeof result !== \"undefined\") ? result : defaultValue; ;};function Button(htmlObj, data, jsStyles) { htmlObj.empty();if( jsStyles.icon != undefined) {var iconItem = $('<i class=\"' + jsStyles.icon +'\" style=\"margin-right:5px\"></i>') ;if (jsStyles.styleIcon != undefined) { iconItem.css( jsStyles.styleIcon ); } ;htmlObj.append(iconItem) ;  };htmlObj.append(data) ;if (jsStyles.styles != undefined) { htmlObj.css(jsStyles.styles) } ; ;};function ContextMenu(htmlObj, data, jsStyles) { var jsList = htmlObj.find('ul'); jsList.empty();data.forEach(function(rec){if(rec.icon != undefined) {var li = $('<li>').addClass(jsStyles.liStyles).html(\"<i class='\"+ rec.icon +\"' style='margin-right:5px'></i>\" + rec.text)}else {var li = $('<li>').addClass(jsStyles.liStyles).html(rec.text)};li.click(function(event){var data = CONTEXT_MENU_VAL; eval(rec.jsFnc)}); jsList.append(li)}) ;};String.prototype.leftTrim = function() { return this.replace(/^\\s+/, \"\"); } ;if (!String.prototype.startsWith) {String.prototype.startsWith = function(searchString, position){ return this.substr(position || 0, searchString.length) === searchString; };}\n",
       "  Number.prototype.formatMoney = function(decPlaces, thouSeparator, decSeparator) {\n",
       "    var n = this, decPlaces = isNaN(decPlaces = Math.abs(decPlaces)) ? 2 : decPlaces,\n",
       "        decSeparator = decSeparator == undefined ? \".\" : decSeparator,\n",
       "        thouSeparator = thouSeparator == undefined ? \",\" : thouSeparator,\n",
       "        sign = n < 0 ? \"-\" : \"\",\n",
       "        i = parseInt(n = Math.abs(+n || 0).toFixed(decPlaces)) + \"\",\n",
       "        j = (j = i.length) > 3 ? j % 3 : 0;\n",
       "    return sign + (j ? i.substr(0, j) + thouSeparator : \"\") + i.substr(j).replace(/(\\d{3})(?=\\d)/g, \"$1\" + thouSeparator) + (decPlaces ? decSeparator + Math.abs(n - i).toFixed(decPlaces).slice(2) : \"\");\n",
       "  };\n",
       "  \n",
       "  if (typeof Object.assign != 'function') {\n",
       "    Object.defineProperty(Object, \"assign\", {\n",
       "      value: function assign(target, varArgs) { \n",
       "        'use strict';\n",
       "        if (target == null) { \n",
       "          throw new TypeError('Cannot convert undefined or null to object')}\n",
       "        var to = Object(target);\n",
       "        for (var index = 1; index < arguments.length; index++) {\n",
       "          var nextSource = arguments[index];\n",
       "  \n",
       "          if (nextSource != null) {\n",
       "            for (var nextKey in nextSource) {\n",
       "              if (Object.prototype.hasOwnProperty.call(nextSource, nextKey)) {\n",
       "                to[nextKey] = nextSource[nextKey];\n",
       "              }\n",
       "            }\n",
       "          }\n",
       "        }\n",
       "        return to;\n",
       "      },\n",
       "      writable: true,\n",
       "      configurable: true\n",
       "    });\n",
       "  }\n",
       "  \n",
       "  String.prototype.formatMoney = function(decPlaces, thouSeparator, decSeparator) {\n",
       "    var n = parseFloat(this); return n.formatMoney(decPlaces, thouSeparator, decSeparator);\n",
       "  };\n",
       "  var breadCrumUrl = {url: \"\", params: {} } ;;\n",
       "$(document).ready(function() { require(['jquery'], function (jquery) { require([\"fontawesome\", \"bootstrap\"], function (fontawesome, bootstrap) { \n",
       "$('#ares_page_content').css('margin-left', '-35px')\n",
       "Button($('#button_1385227413880'), button_1385227413880_data, {\"icon\": null}) ; \n",
       "            if(null != null) { breadCrumUrl['params'][null] = $('#button_1385227413880').val() };\n",
       "            \n",
       "ContextMenu($('#contextmenu_1385227414048'), contextmenu_1385227414048_data, {\"liStyles\": \"py_csstextitem\"}) ; \n",
       "            if(null != null) { breadCrumUrl['params'][null] = $('#contextmenu_1385227414048').val() };\n",
       "            \n",
       "\n",
       "      $('html').click(function(){$('nav[name=context_menus]').hide()});\n",
       "      $('#button_1385227413880').on('contextmenu', function(event) {CONTEXT_MENU_VAL = {val: $(event.target).html()};\n",
       "        event.stopPropagation(); $('#contextmenu_1385227414048').css({left: event.pageX + 1, top: event.pageY + 1, display: 'block'}); event.preventDefault()\n",
       "      })\n",
       "\n",
       "          $('#button_1385227413880').on('click', function(event) {\n",
       "            var useAsync = false; var data = { event_val: $(this).html(), event_groupId: 'None', event_count_click: $(this).data('count')+1 } ; var returnVal = undefined;\n",
       "            if (!$('#body_loading').length){ \n",
       "              var bodyLoading2 = $('<div id=\"body_loading\" name=\"ares_loading\" style=\"bottom:20px;left:70px;position:fixed;background-color:#F4F4F4;padding:5px\"><i class=\"fas fa-spinner fa-spin\" style=\"margin-left:10px;margin-right:10px\"></i><div style=\"display:inline\" id=\"loading_count\">0</div> process running...</div>') ; \n",
       "            } ;\n",
       "            $('body').append(bodyLoading2) ;\n",
       "            $('#loading_count').html( parseInt($('#loading_count').html()) + 1) ;\n",
       "            var count = $(this).data('count')+1; $(this).data('count', count);;alert(MyJsFunction(data)) ; \n",
       "            if (!useAsync) {\n",
       "              $('#loading_count').html( parseInt($('#loading_count').html()) - 1) ;\n",
       "              if ($('#loading_count').html() == '0') { $('#body_loading').remove() ;} }\n",
       "            if (returnVal != undefined) { return returnVal } ; \n",
       "          }) ;\n",
       "\n",
       "        $(window).scroll(function(event) {var screenPos = $(window).scrollTop() + $(window).height();$('nav[name=context_menus]').hide()}) }) }) })\n",
       "</script>"
      ],
      "text/plain": [
       "<IPython.core.display.HTML object>"
      ]
     },
     "metadata": {},
     "output_type": "display_data"
    }
   ],
   "source": [
    "import ares.Lib.Ares as Ares\n",
    "\n",
    "aresObj = Ares.ReportAPI()\n",
    "b1 = aresObj.button(\"Event\").click(aresObj.jsAlert(\"MyJsFunction(data)\"))\n",
    "context = aresObj.contextmenu([{'text': \"a\", 'jsFnc': aresObj.jsConsole()}])\n",
    "b1.attachMenu(context)\n",
    "aresObj.display()"
   ]
  },
  {
   "cell_type": "code",
   "execution_count": 4,
   "metadata": {},
   "outputs": [],
   "source": [
    "import ares.Lib.Ares as Ares\n",
    "\n",
    "aresObj = Ares.ReportAPI()\n",
    "\n",
    "# To create a myVar variable on the Javascript side\n",
    "# The data object will be converted to a string using json.dumps()\n",
    "data = {\"val1\": 4, \"val4\": 5}\n",
    "aresObj.customJsVar(\"myVar\", data)"
   ]
  },
  {
   "cell_type": "code",
   "execution_count": 5,
   "metadata": {},
   "outputs": [],
   "source": [
    "import ares.Lib.Ares as Ares\n",
    "\n",
    "aresObj = Ares.ReportAPI()\n",
    "\n",
    "# To create a myCssBorder css class which can be used in any aresObj\n",
    "data = {\"border\": \"1px solid black\"}\n",
    "aresObj.customCss(\"myCssBorder\", data)"
   ]
  }
 ],
 "metadata": {
  "kernelspec": {
   "display_name": "Python 3",
   "language": "python",
   "name": "python3"
  },
  "language_info": {
   "codemirror_mode": {
    "name": "ipython",
    "version": 3
   },
   "file_extension": ".py",
   "mimetype": "text/x-python",
   "name": "python",
   "nbconvert_exporter": "python",
   "pygments_lexer": "ipython3",
   "version": "3.6.7"
  }
 },
 "nbformat": 4,
 "nbformat_minor": 2
}
