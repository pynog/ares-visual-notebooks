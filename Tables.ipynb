{
 "cells": [
  {
   "cell_type": "code",
   "execution_count": 1,
   "metadata": {},
   "outputs": [],
   "source": [
    "import sys\n",
    "\n",
    "sys.path.append(r'C:\\Users\\olivier\\Documents\\youpi\\python-ares')"
   ]
  },
  {
   "cell_type": "code",
   "execution_count": 2,
   "metadata": {},
   "outputs": [
    {
     "data": {
      "text/html": [
       "<link rel=\"stylesheet\" href=\"https://cdnjs.cloudflare.com/ajax/libs/tabulator/4.1.5/css/tabulator.min.css\" type=\"text/css\">\n",
       "<style>\n",
       ".py_csstitle4 {padding:0; font-size:14px; margin-top:5px; font-weight:bold; text-transform:uppercase; white-space:pre-wrap}\n",
       "</style>\n",
       "<div><div class=\"py_csstitle4\">Youpi</div><div id=\"datatabulator_2768705348328\"  style=\"width:100%\" class=\"py_cssdivwithborder\"></div></div>\n",
       "<script>\n",
       "require.config({ paths: {'tabulJquery': 'https://cdnjs.cloudflare.com/ajax/libs/tabulator/4.1.5/js/jquery_wrapper.min',\n",
       "  'tabulCore': 'https://cdnjs.cloudflare.com/ajax/libs/tabulator/4.1.5/js/tabulator_core.min'} });\n",
       " var recordset_2768744060248 = [{\"dates\": 1, \"series\": 3}, {\"dates\": 2, \"series\": 4}];var datatabulator_2768705348328_markDownFnc = false;function buildBreadCrum() { var params = [] ; for(var key in breadCrumUrl['params']) { params.push(key + \"=\" + breadCrumUrl['params'][key]) ;  }var breadCrumResult = breadCrumUrl['url'] ;if (params.length > 0) { breadCrumResult = breadCrumResult + \"?\" + params.join(\"&\")  ;}return breadCrumResult; ;};function aresObj(htmlCode) { if (htmlCode in breadCrumUrl.params) {return breadCrumUrl.params[htmlCode];} else { return null } ;};function FormatFilterDt(filterVal) { var dt = filterVal.split('-') ; return dt[2] + '/' + dt[1] + '/'+ dt[0] ; ;};function GetClipBoardData(event) { if (window.clipboardData == undefined) { alert('this only works with IE') ; } else { return window.clipboardData.getData('text')}; ;};function LoadingPopup(reportName) { $('#popup_loading').find(\"div\").html(\"Loading \" + reportName + \"...\"); $('#popup_loading_back').show(); $('#popup_loading').show(); ;};function GoToReport(url, newWindows, widthLoading) { if(newWindows) { window.open(url, '_blank') ; }else {if ( widthLoading ){$('#popup_loading').find(\"div\").html(\"Loading \" + url + \"...\");$('#popup_loading_back').show(); $('#popup_loading').show(); }window.location.href = url;} ;};function Today() { now = new Date();year = \"\" + now.getFullYear();month = \"\" + (now.getMonth() + 1); if (month.length == 1) { month = \"0\" + month; }day = \"\" + now.getDate(); if (day.length == 1) { day = \"0\" + day; }hour = \"\" + now.getHours(); if (hour.length == 1) { hour = \"0\" + hour; }minute = \"\" + now.getMinutes(); if (minute.length == 1) { minute = \"0\" + minute; }second = \"\" + now.getSeconds(); if (second.length == 1) { second = \"0\" + second; }return year + \"-\" + month + \"-\" + day + \" \" + hour + \":\" + minute + \":\" + second; ;};function CleanText(text) { return text.trim().replace(/\\W+/g, ''); ;};function CssStyleBuilder(params) { cssParams = [] ;for( var i in params) { cssParams.push( i +\":\"+ params[i]) ; }return cssParams.join(\";\"); ;};function CopyToClipboard() { var url = window.location.href.split('?')[0];if (url.slice(-1) == '#') { url = url.slice(0, -1); };var splitParams = buildBreadCrum().split('?') ; var params = \"\";if (splitParams.length > 1 ) { params = splitParams.slice(1, splitParams.length); }if (window.clipboardData) { window.clipboardData.setData('Text', url + '?' + params); }else {var selection = window.getSelection();$(\"body\").append(\"<div id='breadcrumb_url'>\"+ url + '?' + params +\"</div>\");var range = document.createRange();range.selectNodeContents($('#breadcrumb_url').get(0));selection.removeAllRanges(); selection.addRange(range);document.execCommand(\"Copy\") ; $('#breadcrumb_url').remove() ;var div = $('<div>Report Parameters copied to ClickBoard !</div>').css({'display': 'block', 'position': 'fixed', 'top': '40px', 'right': '200px','text-align': 'center', 'padding': '5px', 'color': 'white', 'border-radius': '.4em', 'z-index': 10010, 'background-color': '#293846', \"width\": '200px'});$('body').append(div); setTimeout(function() {div.remove()}, 2000) } ;};function FormGoTo(url, method) { var form = $('<form method=\"'+ method +'\" action='+ url +'></form>') ; NO_UNLOAD = true;for(var key in breadCrumUrl['params']) {form.append( '<input type=\"hidden\" name=\"'+ key +'\" value=\"' + breadCrumUrl['params'][key] + '\">' ) } ;form.appendTo('body').submit(); ;};function toAresMarkup(text) { text = text.replace(/\\*\\*(.*?)\\*\\*/g, \"<b>$1</b>\");text = text.replace(/\\*\\*\\*(.*?)\\*\\*\\*/g, \"<b><i>$1</i></b>\");text = text.replace(/\\*(.*?)\\*/g, \"<i>$1</i>\");text = text.replace(/__(.*?)__/g, \"<u>$1</u>\");text = text.replace(/~~(.*?)~~/g, \"<i>$1</i>\");text = text.replace(/--(.*?)--/g, \"<del>$1</del>\");text = text.replace(/<<(.*?)>>/g, \"<a href='$1'>Link</a>\");text = text.replace(/\\!\\((.*?)\\)/g, \"<i class='$1'></i>\");text = text.replace(/\\[(.*?)\\]\\(https\\\\:(.*?)\\)/g, \"<a href='$2' target='_blank'>$1</a>\");text = text.replace(/\\[(.*?)\\]\\(http\\\\:(.*?)\\)/g, \"<a href='$2' target='_blank'>$1</a>\");text = text.replace(/\\[(.*?)\\]\\((.*?)\\)/g, \"<a href='$2'>$1</a>\");if ( (text == '') || ( text == '__' ) ) { text = '<br />'; }return text ; ;};function getDict(object, key, defaultValue) { var result = object[key];return (typeof result !== \"undefined\") ? result : defaultValue; ;};String.prototype.leftTrim = function() { return this.replace(/^\\s+/, \"\"); } ;if (!String.prototype.startsWith) {String.prototype.startsWith = function(searchString, position){ return this.substr(position || 0, searchString.length) === searchString; };}\n",
       "  Number.prototype.formatMoney = function(decPlaces, thouSeparator, decSeparator) {\n",
       "    var n = this, decPlaces = isNaN(decPlaces = Math.abs(decPlaces)) ? 2 : decPlaces,\n",
       "        decSeparator = decSeparator == undefined ? \".\" : decSeparator,\n",
       "        thouSeparator = thouSeparator == undefined ? \",\" : thouSeparator,\n",
       "        sign = n < 0 ? \"-\" : \"\",\n",
       "        i = parseInt(n = Math.abs(+n || 0).toFixed(decPlaces)) + \"\",\n",
       "        j = (j = i.length) > 3 ? j % 3 : 0;\n",
       "    return sign + (j ? i.substr(0, j) + thouSeparator : \"\") + i.substr(j).replace(/(\\d{3})(?=\\d)/g, \"$1\" + thouSeparator) + (decPlaces ? decSeparator + Math.abs(n - i).toFixed(decPlaces).slice(2) : \"\");\n",
       "  };\n",
       "  \n",
       "  if (typeof Object.assign != 'function') {\n",
       "    Object.defineProperty(Object, \"assign\", {\n",
       "      value: function assign(target, varArgs) { \n",
       "        'use strict';\n",
       "        if (target == null) { \n",
       "          throw new TypeError('Cannot convert undefined or null to object')}\n",
       "        var to = Object(target);\n",
       "        for (var index = 1; index < arguments.length; index++) {\n",
       "          var nextSource = arguments[index];\n",
       "  \n",
       "          if (nextSource != null) {\n",
       "            for (var nextKey in nextSource) {\n",
       "              if (Object.prototype.hasOwnProperty.call(nextSource, nextKey)) {\n",
       "                to[nextKey] = nextSource[nextKey];\n",
       "              }\n",
       "            }\n",
       "          }\n",
       "        }\n",
       "        return to;\n",
       "      },\n",
       "      writable: true,\n",
       "      configurable: true\n",
       "    });\n",
       "  }\n",
       "  \n",
       "  String.prototype.formatMoney = function(decPlaces, thouSeparator, decSeparator) {\n",
       "    var n = parseFloat(this); return n.formatMoney(decPlaces, thouSeparator, decSeparator);\n",
       "  };\n",
       "  var breadCrumUrl = {url: \"\", params: {} } ;;\n",
       "$(document).ready(function() { require([\"tabulJquery\", \"tabulCore\"], function (tabulJquery, tabulCore) { \n",
       "$('#footer').css('margin-left', '-35px')\n",
       "$('#ares_page_content').css('margin-left', '-35px')\n",
       "\n",
       "      tab_ctx_datatabulator_2768705348328 = {'tooltips': true, 'movableColumns': true, 'layout': \"fitColumns\", data: window['recordset_2768744060248'], columns: [{title: \"dates\", field: \"dates\"}, {title: \"series\", field: \"series\", editor: \"input\"}]};\n",
       "      datatabulator_2768705348328_table = $('#datatabulator_2768705348328').tabulator(tab_ctx_datatabulator_2768705348328)\n",
       "      ;  ;\n",
       "       }) })\n",
       "</script>"
      ],
      "text/plain": [
       "<IPython.core.display.HTML object>"
      ]
     },
     "metadata": {},
     "output_type": "display_data"
    }
   ],
   "source": [
    "from ares.Lib import Ares\n",
    "\n",
    "aresObj = Ares.ReportAPI()\n",
    "df = aresObj.df({'dates': [1, 2], 'series': [3, 4]})\n",
    "c = aresObj.tabulator(df, tableOptions={\"tooltips\": True, 'movableColumns': True}, title=\"Youpi\")\n",
    "#c.tooltip(\"My tooltip\", location=\"bottom\")\n",
    "c.addAttr('layout', \"fitColumns\")\n",
    "c.addTitleAttr('series', 'editor', 'input')\n",
    "#c.help()\n",
    "#d = aresObj.chart('pie', df, seriesNames=['series'], xAxis='dates')\n",
    "#aresObj.grid([c, d], colsDim=[6, 6]).css({'border': '1px solid red'})\n",
    "aresObj.display()"
   ]
  },
  {
   "cell_type": "code",
   "execution_count": 4,
   "metadata": {},
   "outputs": [
    {
     "data": {
      "text/html": [
       "<link rel=\"stylesheet\" href=\"https://cdn.datatables.net/buttons/1.5.2/css/buttons.bootstrap4.min.css\" type=\"text/css\">\n",
       "<link rel=\"stylesheet\" href=\"https://cdn.datatables.net/buttons/1.5.2/css/buttons.dataTables.min.css\" type=\"text/css\">\n",
       "<link rel=\"stylesheet\" href=\"https://cdn.datatables.net/responsive/2.1.1/css/responsive.dataTables.min.css\" type=\"text/css\">\n",
       "<link rel=\"stylesheet\" href=\"https://cdn.datatables.net/1.10.19/css/jquery.dataTables.min.css\" type=\"text/css\">\n",
       "<link rel=\"stylesheet\" href=\"https://use.fontawesome.com/releases/v5.1.0/css/all.css\" type=\"text/css\">\n",
       "<style>\n",
       ".py_cssdivhidden {display:none}\n",
       ".py_cssdivtextleft {text-align:left}\n",
       ".py_cssdivloading {opacity:0.5; filter:alpha(opacity=50); width:100%; height:90%; text-align:center; padding-top:10%; color:#000008}\n",
       "</style>\n",
       "<div><div id=\"datatable_2769024247344\"  style=\"width:100%;margin-top:5px;padding:5px\" class=\"py_cssdivwithborder\"><table class='' style=\"width:100%\"></table></div></div>\n",
       "<script>\n",
       "require.config({ paths: {'pdfmake': 'https://cdnjs.cloudflare.com/ajax/libs/pdfmake/0.1.37/pdfmake.min',\n",
       "  'vfs_fonts': 'https://cdnjs.cloudflare.com/ajax/libs/pdfmake/0.1.37/vfs_fonts',\n",
       "  'jszip': 'https://cdnjs.cloudflare.com/ajax/libs/jszip/3.1.5/jszip.min',\n",
       "  'Popper': 'https://cdnjs.cloudflare.com/ajax/libs/popper.js/1.14.6/umd/popper.min',\n",
       "  'bootstrap': 'https://stackpath.bootstrapcdn.com/bootstrap/4.2.1/js/bootstrap.min',\n",
       "  'bootstrapBundle': 'https://stackpath.bootstrapcdn.com/bootstrap/4.2.1/js/bootstrap.bundle.min',\n",
       "  'datatables': 'https://cdnjs.cloudflare.com/ajax/libs/datatables/1.10.19/js/jquery.dataTables.min',\n",
       "  'd3': 'https://cdnjs.cloudflare.com/ajax/libs/d3/5.7.0/d3.min'} });\n",
       " var DATATABLES_STATE = {};var recordset_2769024030976 = [{\"col1\": 1.0, \"col2\": 3.0, \"col2.age\": 0.2, \"col2.intensity\": 0.2, \"col2.quality\": 0.2, \"col3\": 1.0, \"col3.age\": 0.0, \"col3.intensity\": 1.0, \"col3.quality\": 1.0, \"_index\": 0.0}, {\"col1\": 2.0, \"col2\": 0.0, \"col2.age\": 0.1, \"col2.intensity\": 0.6, \"col2.quality\": 0.1, \"col3\": 0.0, \"col3.age\": 0.5, \"col3.intensity\": 0.5, \"col3.quality\": 0.5, \"_index\": 1.0}, {\"col1\": 5.0, \"col2\": 8.0, \"col2.age\": 0.0, \"col2.intensity\": 0.0, \"col2.quality\": 0.0, \"col3\": -1.0, \"col3.age\": 0.0, \"col3.intensity\": 0.0, \"col3.quality\": 0.0, \"_index\": 2.0}];var datatable_2769024247344_markDownFnc = false;function buildBreadCrum() { var params = [] ; for(var key in breadCrumUrl['params']) { params.push(key + \"=\" + breadCrumUrl['params'][key]) ;  }var breadCrumResult = breadCrumUrl['url'] ;if (params.length > 0) { breadCrumResult = breadCrumResult + \"?\" + params.join(\"&\")  ;}return breadCrumResult; ;};function aresObj(htmlCode) { if (htmlCode in breadCrumUrl.params) {return breadCrumUrl.params[htmlCode];} else { return null } ;};function FormatFilterDt(filterVal) { var dt = filterVal.split('-') ; return dt[2] + '/' + dt[1] + '/'+ dt[0] ; ;};function GetClipBoardData(event) { if (window.clipboardData == undefined) { alert('this only works with IE') ; } else { return window.clipboardData.getData('text')}; ;};function LoadingPopup(reportName) { $('#popup_loading').find(\"div\").html(\"Loading \" + reportName + \"...\"); $('#popup_loading_back').show(); $('#popup_loading').show(); ;};function GoToReport(url, newWindows, widthLoading) { if(newWindows) { window.open(url, '_blank') ; }else {if ( widthLoading ){$('#popup_loading').find(\"div\").html(\"Loading \" + url + \"...\");$('#popup_loading_back').show(); $('#popup_loading').show(); }window.location.href = url;} ;};function Today() { now = new Date();year = \"\" + now.getFullYear();month = \"\" + (now.getMonth() + 1); if (month.length == 1) { month = \"0\" + month; }day = \"\" + now.getDate(); if (day.length == 1) { day = \"0\" + day; }hour = \"\" + now.getHours(); if (hour.length == 1) { hour = \"0\" + hour; }minute = \"\" + now.getMinutes(); if (minute.length == 1) { minute = \"0\" + minute; }second = \"\" + now.getSeconds(); if (second.length == 1) { second = \"0\" + second; }return year + \"-\" + month + \"-\" + day + \" \" + hour + \":\" + minute + \":\" + second; ;};function CleanText(text) { return text.trim().replace(/\\W+/g, ''); ;};function CssStyleBuilder(params) { cssParams = [] ;for( var i in params) { cssParams.push( i +\":\"+ params[i]) ; }return cssParams.join(\";\"); ;};function CopyToClipboard() { var url = window.location.href.split('?')[0];if (url.slice(-1) == '#') { url = url.slice(0, -1); };var splitParams = buildBreadCrum().split('?') ; var params = \"\";if (splitParams.length > 1 ) { params = splitParams.slice(1, splitParams.length); }if (window.clipboardData) { window.clipboardData.setData('Text', url + '?' + params); }else {var selection = window.getSelection();$(\"body\").append(\"<div id='breadcrumb_url'>\"+ url + '?' + params +\"</div>\");var range = document.createRange();range.selectNodeContents($('#breadcrumb_url').get(0));selection.removeAllRanges(); selection.addRange(range);document.execCommand(\"Copy\") ; $('#breadcrumb_url').remove() ;var div = $('<div>Report Parameters copied to ClickBoard !</div>').css({'display': 'block', 'position': 'fixed', 'top': '40px', 'right': '200px','text-align': 'center', 'padding': '5px', 'color': 'white', 'border-radius': '.4em', 'z-index': 10010, 'background-color': '#293846', \"width\": '200px'});$('body').append(div); setTimeout(function() {div.remove()}, 2000) } ;};function FormGoTo(url, method) { var form = $('<form method=\"'+ method +'\" action='+ url +'></form>') ; NO_UNLOAD = true;for(var key in breadCrumUrl['params']) {form.append( '<input type=\"hidden\" name=\"'+ key +'\" value=\"' + breadCrumUrl['params'][key] + '\">' ) } ;form.appendTo('body').submit(); ;};function toAresMarkup(text) { text = text.replace(/\\*\\*(.*?)\\*\\*/g, \"<b>$1</b>\");text = text.replace(/\\*\\*\\*(.*?)\\*\\*\\*/g, \"<b><i>$1</i></b>\");text = text.replace(/\\*(.*?)\\*/g, \"<i>$1</i>\");text = text.replace(/__(.*?)__/g, \"<u>$1</u>\");text = text.replace(/~~(.*?)~~/g, \"<i>$1</i>\");text = text.replace(/--(.*?)--/g, \"<del>$1</del>\");text = text.replace(/<<(.*?)>>/g, \"<a href='$1'>Link</a>\");text = text.replace(/\\!\\((.*?)\\)/g, \"<i class='$1'></i>\");text = text.replace(/\\[(.*?)\\]\\(https\\\\:(.*?)\\)/g, \"<a href='$2' target='_blank'>$1</a>\");text = text.replace(/\\[(.*?)\\]\\(http\\\\:(.*?)\\)/g, \"<a href='$2' target='_blank'>$1</a>\");text = text.replace(/\\[(.*?)\\]\\((.*?)\\)/g, \"<a href='$2'>$1</a>\");if ( (text == '') || ( text == '__' ) ) { text = '<br />'; }return text ; ;};function getDict(object, key, defaultValue) { var result = object[key];return (typeof result !== \"undefined\") ? result : defaultValue; ;};function EditableCell(e, tableObj) { $(e).css( {'color': 'blue', 'font-weight': 'bold'}) ;$(e).attr('contenteditable', true) ; $(e).focus() ; ;};function StopEditingCell(e, tableObj) { var row = tableObj.cell($(e).parent()).index().row;var column = tableObj.cell($(e).parent()).index().column;tableObj.cell(row, column).data($(e).text()) ;$(tableObj.cell(row, column).node()).css( {'color': 'blue', 'font-weight': 'bold'} ) ;$(e).attr('contenteditable', false) ;if (!(typeof window[$(e).data('table') + '_changed'] === 'undefined')) { $(tableObj.cell(row, 3).node()).find('#save').show() ; } ;};function UpdateCell(e, tableObj) { var row = tableObj.cell($(e).parent()).index().row;var column = tableObj.cell($(e).parent()).index().column;tableObj.cell(row, column).data(e.value) ;if (!(typeof window[$(e).data('table') + '_changed'] === 'undefined')) {var saveIndex = -1 ;tableObj.settings().init().columns.forEach( function(rec, index) { if (rec.data == '_save') { saveIndex = index; } }) ;if ( saveIndex != -1) { $(tableObj.cell(row, saveIndex).node()).find('#save').show() ; } } ;};function UpdateCheckBox(e, tableObj) { var row = tableObj.cell($(e).parent()).index().row;var column = tableObj.cell($(e).parent()).index().column;tableObj.cell(row, column).data(e.checked) ;if (!(typeof window[$(e).data('table') + '_changed'] === 'undefined')) { var saveIndex = -1 ;tableObj.settings().init().columns.forEach( function(rec, index) { if (rec.data == '_save') { saveIndex = index; } }) ;if ( saveIndex != -1) { $(tableObj.cell(row, saveIndex).node()).find('#save').show() ; } } ;};function ares_sum(data, keys, values) { var result = []; if (data !== null){if ((keys == null) || (values == null)){result = data}else{var temp = {};var order = [];data.forEach( function(rec) {var aggKey = []; keys.forEach(function(k){ aggKey.push(rec[k])}); var newKey = aggKey.join(\"#\"); order.push(newKey);if (!(newKey in temp)) {temp[newKey] = {}};values.forEach(function(v) {if (!(v in temp[newKey])) {temp[newKey][v] = rec[v]} else {temp[newKey][v] += rec[v]}}) ;});order.forEach(function(label) {var rec = {}; var splitKey = label.split(\"#\");keys.forEach(function(k, i) {rec[k] = splitKey[i];});for(var v in temp[label]) {rec[v] = temp[label][v]};result.push(rec)})}} else {data = []}; return result ;};String.prototype.leftTrim = function() { return this.replace(/^\\s+/, \"\"); } ;if (!String.prototype.startsWith) {String.prototype.startsWith = function(searchString, position){ return this.substr(position || 0, searchString.length) === searchString; };}\n",
       "  Number.prototype.formatMoney = function(decPlaces, thouSeparator, decSeparator) {\n",
       "    var n = this, decPlaces = isNaN(decPlaces = Math.abs(decPlaces)) ? 2 : decPlaces,\n",
       "        decSeparator = decSeparator == undefined ? \".\" : decSeparator,\n",
       "        thouSeparator = thouSeparator == undefined ? \",\" : thouSeparator,\n",
       "        sign = n < 0 ? \"-\" : \"\",\n",
       "        i = parseInt(n = Math.abs(+n || 0).toFixed(decPlaces)) + \"\",\n",
       "        j = (j = i.length) > 3 ? j % 3 : 0;\n",
       "    return sign + (j ? i.substr(0, j) + thouSeparator : \"\") + i.substr(j).replace(/(\\d{3})(?=\\d)/g, \"$1\" + thouSeparator) + (decPlaces ? decSeparator + Math.abs(n - i).toFixed(decPlaces).slice(2) : \"\");\n",
       "  };\n",
       "  \n",
       "  if (typeof Object.assign != 'function') {\n",
       "    Object.defineProperty(Object, \"assign\", {\n",
       "      value: function assign(target, varArgs) { \n",
       "        'use strict';\n",
       "        if (target == null) { \n",
       "          throw new TypeError('Cannot convert undefined or null to object')}\n",
       "        var to = Object(target);\n",
       "        for (var index = 1; index < arguments.length; index++) {\n",
       "          var nextSource = arguments[index];\n",
       "  \n",
       "          if (nextSource != null) {\n",
       "            for (var nextKey in nextSource) {\n",
       "              if (Object.prototype.hasOwnProperty.call(nextSource, nextKey)) {\n",
       "                to[nextKey] = nextSource[nextKey];\n",
       "              }\n",
       "            }\n",
       "          }\n",
       "        }\n",
       "        return to;\n",
       "      },\n",
       "      writable: true,\n",
       "      configurable: true\n",
       "    });\n",
       "  }\n",
       "  \n",
       "  String.prototype.formatMoney = function(decPlaces, thouSeparator, decSeparator) {\n",
       "    var n = parseFloat(this); return n.formatMoney(decPlaces, thouSeparator, decSeparator);\n",
       "  };\n",
       "  var breadCrumUrl = {url: \"\", params: {} } ;;\n",
       "$(document).ready(function() { require([\"pdfmake\", \"vfs_fonts\", \"jszip\", \"Popper\", \"bootstrap\", \"bootstrapBundle\", \"datatables\", \"d3\"], function (pdfmake, vfs_fonts, jszip, Popper, bootstrap, bootstrapBundle, datatables, d3) { \n",
       "$('#footer').css('margin-left', '-35px')\n",
       "$('#ares_page_content').css('margin-left', '-35px')\n",
       "\n",
       "      \n",
       "      var table_data = {buttons: [], columnDefs: [], stateSave: false, searching: false, paginate: false, pageLength: 30, autoWidth: false, colReorder: false, scrollX: false, scrollCollapse: false, dom: \"Bfrtip\", columns: [{\"data\": \"col1\", \"title\": \"col1\", \"format\": \"float\", \"digits\": 0}, {\"data\": \"col2\", \"title\": \"Column 2\", \"format\": \"float\", \"digits\": 0}, {\"data\": \"col3\", \"title\": \"Signal\", \"format\": \"float\", \"digits\": 0}], createdRow: function(row, data, dataIndex) {}, aoColumnDefs: [{aTargets: 0, fnCreatedCell: function (nTd, sData, oData, iRow, iCol){ if (sData !== null){ if(sData < 0){$(nTd).css('color', 'red')}; sData = sData.formatMoney(0, ',', '.'); $(nTd).text(sData)} else {$(nTd).text(sData)}; var colorFnc = d3.scaleLinear().domain([1, 100]).range([d3.rgb('white'), d3.rgb('red')]); var cellAge = getDict(oData, [{'data': 'col1', 'title': 'col1', 'format': 'float', 'digits': 0}, {'data': 'col2', 'title': 'Column 2', 'format': 'float', 'digits': 0}, {'data': 'col3', 'title': 'Signal', 'format': 'float', 'digits': 0}][iCol].data + '.age', 0); $(nTd).css('background-color', colorFnc(100 * cellAge)); if (cellAge > 0){ var curTitle = $(nTd).attr(\"title\"); if (curTitle === undefined) {curTitle = ''}; $(nTd).attr(\"title\", 'cell age: ' + cellAge)} ; var colorFnc = d3.scaleLinear().domain([1, 100]).range([d3.rgb('white'), d3.rgb('red')]); var cellQuality = getDict(oData, [{'data': 'col1', 'title': 'col1', 'format': 'float', 'digits': 0}, {'data': 'col2', 'title': 'Column 2', 'format': 'float', 'digits': 0}, {'data': 'col3', 'title': 'Signal', 'format': 'float', 'digits': 0}][iCol].data + '.quality', 0); $(nTd).css('border', '1px solid ' + colorFnc(100 * cellQuality)); if (cellQuality > 0){ var curTitle = $(nTd).attr(\"title\"); if (curTitle === undefined) {curTitle = ''}; $(nTd).attr(\"title\", curTitle + 'cell quality: ' + cellQuality)}}},{aTargets: 1, fnCreatedCell: function (nTd, sData, oData, iRow, iCol){ if (sData !== null){ if(sData < 0){$(nTd).css('color', 'red')}; sData = sData.formatMoney(0, ',', '.'); $(nTd).text(sData)} else {$(nTd).text(sData)}; var colorFnc = d3.scaleLinear().domain([1, 100]).range([d3.rgb('white'), d3.rgb('red')]); var cellAge = getDict(oData, [{'data': 'col1', 'title': 'col1', 'format': 'float', 'digits': 0}, {'data': 'col2', 'title': 'Column 2', 'format': 'float', 'digits': 0}, {'data': 'col3', 'title': 'Signal', 'format': 'float', 'digits': 0}][iCol].data + '.age', 0); $(nTd).css('background-color', colorFnc(100 * cellAge)); if (cellAge > 0){ var curTitle = $(nTd).attr(\"title\"); if (curTitle === undefined) {curTitle = ''}; $(nTd).attr(\"title\", 'cell age: ' + cellAge)} ; var colorFnc = d3.scaleLinear().domain([1, 100]).range([d3.rgb('white'), d3.rgb('red')]); var cellQuality = getDict(oData, [{'data': 'col1', 'title': 'col1', 'format': 'float', 'digits': 0}, {'data': 'col2', 'title': 'Column 2', 'format': 'float', 'digits': 0}, {'data': 'col3', 'title': 'Signal', 'format': 'float', 'digits': 0}][iCol].data + '.quality', 0); $(nTd).css('border', '1px solid ' + colorFnc(100 * cellQuality)); if (cellQuality > 0){ var curTitle = $(nTd).attr(\"title\"); if (curTitle === undefined) {curTitle = ''}; $(nTd).attr(\"title\", curTitle + 'cell quality: ' + cellQuality)}}},{aTargets: 2, fnCreatedCell: function (nTd, sData, oData, iRow, iCol){ if (sData !== null){ if(sData < 0){$(nTd).css('color', 'red')}; sData = sData.formatMoney(0, ',', '.'); $(nTd).text(sData)} else {$(nTd).text(sData)}; var colorFnc = d3.scaleLinear().domain([1, 100]).range([d3.rgb('white'), d3.rgb('red')]); var cellAge = getDict(oData, [{'data': 'col1', 'title': 'col1', 'format': 'float', 'digits': 0}, {'data': 'col2', 'title': 'Column 2', 'format': 'float', 'digits': 0}, {'data': 'col3', 'title': 'Signal', 'format': 'float', 'digits': 0}][iCol].data + '.age', 0); $(nTd).css('background-color', colorFnc(100 * cellAge)); if (cellAge > 0){ var curTitle = $(nTd).attr(\"title\"); if (curTitle === undefined) {curTitle = ''}; $(nTd).attr(\"title\", 'cell age: ' + cellAge)} ; var colorFnc = d3.scaleLinear().domain([1, 100]).range([d3.rgb('white'), d3.rgb('red')]); var cellQuality = getDict(oData, [{'data': 'col1', 'title': 'col1', 'format': 'float', 'digits': 0}, {'data': 'col2', 'title': 'Column 2', 'format': 'float', 'digits': 0}, {'data': 'col3', 'title': 'Signal', 'format': 'float', 'digits': 0}][iCol].data + '.quality', 0); $(nTd).css('border', '1px solid ' + colorFnc(100 * cellQuality)); if (cellQuality > 0){ var curTitle = $(nTd).attr(\"title\"); if (curTitle === undefined) {curTitle = ''}; $(nTd).attr(\"title\", curTitle + 'cell quality: ' + cellQuality)}}}]};\n",
       "      if(typeof datatable_2769024247344_table === 'undefined'){\n",
       "        table_data.data = ares_sum(recordset_2769024030976, [\"_index\"], [\"col1\", \"col2\", \"col2.age\", \"col2.intensity\", \"col2.quality\", \"col3\", \"col3.age\", \"col3.intensity\", \"col3.quality\", \"col1.age\", \"col2.age\", \"col2.age.age\", \"col2.intensity.age\", \"col2.quality.age\", \"col3.age\", \"col3.age.age\", \"col3.intensity.age\", \"col3.quality.age\", \"col1.quality\", \"col2.quality\", \"col2.age.quality\", \"col2.intensity.quality\", \"col2.quality.quality\", \"col3.quality\", \"col3.age.quality\", \"col3.intensity.quality\", \"col3.quality.quality\"]);\n",
       "        datatable_2769024247344_table = $('#datatable_2769024247344 table').DataTable(table_data)}\n",
       "      else {\n",
       "        datatable_2769024247344_table.clear();; datatable_2769024247344_table.rows.add(ares_sum(recordset_2769024030976, [\"_index\"], [\"col1\", \"col2\", \"col2.age\", \"col2.intensity\", \"col2.quality\", \"col3\", \"col3.age\", \"col3.intensity\", \"col3.quality\", \"col1.age\", \"col2.age\", \"col2.age.age\", \"col2.intensity.age\", \"col2.quality.age\", \"col3.age\", \"col3.age.age\", \"col3.intensity.age\", \"col3.quality.age\", \"col1.quality\", \"col2.quality\", \"col2.age.quality\", \"col2.intensity.quality\", \"col2.quality.quality\", \"col3.quality\", \"col3.age.quality\", \"col3.intensity.quality\", \"col3.quality.quality\"])); datatable_2769024247344_table.draw();\n",
       "      } ; $('#datatable_2769024247344 table').find('th').tooltip();  ;\n",
       "       }) })\n",
       "</script>"
      ],
      "text/plain": [
       "<IPython.core.display.HTML object>"
      ]
     },
     "metadata": {},
     "output_type": "display_data"
    }
   ],
   "source": [
    "from ares.Lib import Ares\n",
    "\n",
    "aresObj = Ares.ReportAPI()\n",
    "\n",
    "df = aresObj.df({'col1': [1, 2, 5], 'col2': [3, None, 8], 'col3': [1, 0, -1],\n",
    "     'col2.age': [0.2, 0.1, 0], 'col3.age': [0, 0.5, 0],\n",
    "     'col2.quality': [0.2, 0.1, 0], 'col3.quality': [1, 0.5, 0],\n",
    "     'col2.intensity': [0.2, 0.6, 0], 'col3.intensity': [1, 0.5, 0]})\n",
    "aresObj.table(df, header={\n",
    "        'col2': {'title': 'Column 2'},\n",
    "        'col3': {'title': 'Signal'},\n",
    "        '_order': ['col1', 'col2', 'col3']\n",
    "        }, tableOptions={'system': {'age': True, 'quality': True}})\n",
    "aresObj.display()"
   ]
  },
  {
   "cell_type": "markdown",
   "metadata": {},
   "source": [
    "aresObj.components()"
   ]
  }
 ],
 "metadata": {
  "kernelspec": {
   "display_name": "Python 3",
   "language": "python",
   "name": "python3"
  },
  "language_info": {
   "codemirror_mode": {
    "name": "ipython",
    "version": 3
   },
   "file_extension": ".py",
   "mimetype": "text/x-python",
   "name": "python",
   "nbconvert_exporter": "python",
   "pygments_lexer": "ipython3",
   "version": "3.6.7"
  }
 },
 "nbformat": 4,
 "nbformat_minor": 2
}
