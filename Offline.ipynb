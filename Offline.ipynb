{
 "cells": [
  {
   "cell_type": "markdown",
   "metadata": {},
   "source": [
    "\n",
    "<img align=\"left\" src=\"Ares_PetitIcon.PNG\">"
   ]
  },
  {
   "cell_type": "markdown",
   "metadata": {},
   "source": [
    "<h1>Run on your Computer</h1>\n",
    "From Ares-visual you can run reports and produce static HTML pages for an interactive user experience. Indeed each components of the HTML page can interact."
   ]
  },
  {
   "cell_type": "markdown",
   "metadata": {},
   "source": [
    "<h2>With a Flask Server</h2>"
   ]
  },
  {
   "cell_type": "code",
   "execution_count": null,
   "metadata": {},
   "outputs": [],
   "source": [
    "TITLE = \"Report Title\"\n",
    "\n",
    "def report(aresObj):\n",
    "    pass"
   ]
  },
  {
   "cell_type": "markdown",
   "metadata": {},
   "source": [
    "<h2>Without a Flask Server</h2>\n",
    "No significant change for this mode except that any AJAX events using Python scripts will not work. For example the functions <font style=\"color:red\">jsGet, jsPost</font> will not work and a notification will be added to the page. <br /><br/>\n",
    "Only the below should be added at the end of your report"
   ]
  },
  {
   "cell_type": "code",
   "execution_count": null,
   "metadata": {},
   "outputs": [],
   "source": [
    "if __name__ == \"__main__\":\n",
    "  aresObj = Ares.ReportAPI()\n",
    "  report(aresObj)\n",
    "  aresObj.toHtml(title=TITLE)"
   ]
  },
  {
   "cell_type": "markdown",
   "metadata": {},
   "source": [
    "<h3>If report is expecting Parameters</h3>\n",
    "If your report is expecting some input parameters defined in the module variable PARAMS. You can add them locally by setting them before the call of the report method()"
   ]
  },
  {
   "cell_type": "code",
   "execution_count": null,
   "metadata": {},
   "outputs": [],
   "source": [
    "if __name__ == \"__main__\":\n",
    "  import ares.Lib.Ares as Ares\n",
    "\n",
    "  aresObj = Ares.ReportAPI()\n",
    "  aresObj.http['chartFam'] = 'ChartJs'\n",
    "  report(aresObj)\n",
    "  aresObj.toHtml(title=TITLE)"
   ]
  },
  {
   "cell_type": "markdown",
   "metadata": {},
   "source": [
    "<h1>External Packages</h1>\n",
    "By default the framework will not install anything on your computer so it will rely on your internet connection and the CDNJS repositories to retrieve the external packages. The below will show you how to check the configuration of the external dependencies but also how to set up your environment to run fully locally without requiring any internet connection."
   ]
  },
  {
   "cell_type": "code",
   "execution_count": 5,
   "metadata": {},
   "outputs": [
    {
     "data": {
      "text/plain": [
       "{'website': 'https://d3js.org/',\n",
       " 'req': [{'alias': 'jquery'}],\n",
       " 'modules': [{'reqAlias': 'd3',\n",
       "   'script': 'd3.min.js',\n",
       "   'version': '5.8.2',\n",
       "   'path': 'd3/%(version)s/',\n",
       "   'cdnjs': 'https://cdnjs.cloudflare.com/ajax/libs'}]}"
      ]
     },
     "execution_count": 5,
     "metadata": {},
     "output_type": "execute_result"
    }
   ],
   "source": [
    "import ares.Lib.AresImports as AresImports \n",
    "\n",
    "i = AresImports.ImportManager()\n",
    "i.package('d3')"
   ]
  },
  {
   "cell_type": "code",
   "execution_count": 6,
   "metadata": {},
   "outputs": [
    {
     "data": {
      "text/plain": [
       "{'website': 'https://d3js.org/',\n",
       " 'req': [{'alias': 'jquery'}],\n",
       " 'modules': [{'reqAlias': 'd3',\n",
       "   'script': 'd3.min.js',\n",
       "   'version': '1.1.1',\n",
       "   'path': 'd3/%(version)s/',\n",
       "   'cdnjs': 'https://cdnjs.cloudflare.com/ajax/libs'}]}"
      ]
     },
     "execution_count": 6,
     "metadata": {},
     "output_type": "execute_result"
    }
   ],
   "source": [
    "import ares.Lib.AresImports as AresImports \n",
    "\n",
    "# To force the version of a package to be used in the framework\n",
    "i = AresImports.ImportManager()\n",
    "i.setVersion('d3', version=\"1.1.1\")\n",
    "i.package('d3')"
   ]
  },
  {
   "cell_type": "markdown",
   "metadata": {},
   "source": [
    "The below will dowload the requested package locally to your computer. The path can be supplyed using the argument staticPath."
   ]
  },
  {
   "cell_type": "code",
   "execution_count": 4,
   "metadata": {},
   "outputs": [
    {
     "name": "stdout",
     "output_type": "stream",
     "text": [
      "  > d3 - d3.min.js, version 3.5.17. Done !\n"
     ]
    }
   ],
   "source": [
    "import ares.Lib.AresImports as AresImports \n",
    "\n",
    "i = AresImports.ImportManager()\n",
    "i.getPackage('d3', version='3.5.17', staticPath=r\"C:\\ext\")"
   ]
  },
  {
   "cell_type": "markdown",
   "metadata": {},
   "source": [
    "The below line will install all the defined external packages to your computer. This is taking several minutes to run as it will install <b>everything</b> configured regardless the use in your reports"
   ]
  },
  {
   "cell_type": "code",
   "execution_count": null,
   "metadata": {},
   "outputs": [],
   "source": [
    "import ares.Lib.AresImports as AresImports \n",
    "\n",
    "i = AresImports.ImportManager()\n",
    "i.setPackages(staticPath=r\"C:\\ext\")"
   ]
  },
  {
   "cell_type": "markdown",
   "metadata": {},
   "source": [
    "The above configuration can then be set to your local run by defining the staticPath argument. Thus the report will not rely on your internet connection to retrieve on the fly the different packages"
   ]
  },
  {
   "cell_type": "code",
   "execution_count": null,
   "metadata": {},
   "outputs": [],
   "source": [
    "if __name__ == \"__main__\":\n",
    "  aresObj = Ares.ReportAPI()\n",
    "  report(aresObj)\n",
    "  aresObj.toHtml(title=TITLE, staticPath=r\"C:\\ext\")"
   ]
  }
 ],
 "metadata": {
  "kernelspec": {
   "display_name": "Python 3",
   "language": "python",
   "name": "python3"
  },
  "language_info": {
   "codemirror_mode": {
    "name": "ipython",
    "version": 3
   },
   "file_extension": ".py",
   "mimetype": "text/x-python",
   "name": "python",
   "nbconvert_exporter": "python",
   "pygments_lexer": "ipython3",
   "version": "3.6.7"
  }
 },
 "nbformat": 4,
 "nbformat_minor": 2
}
